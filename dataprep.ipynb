{
 "cells": [
  {
   "cell_type": "markdown",
   "id": "8ec3dd41",
   "metadata": {},
   "source": [
    "# Data Understanding/ Preperation"
   ]
  },
  {
   "cell_type": "markdown",
   "id": "f6f0ea6d",
   "metadata": {},
   "source": [
    "## externe Bibliotheken installieren"
   ]
  },
  {
   "cell_type": "code",
   "execution_count": 2,
   "id": "3f6cd019",
   "metadata": {},
   "outputs": [],
   "source": [
    "# %pip install missingno\n",
    "# %pip install pandas_profiling\n",
    "# %pip install MarkupSafe==2.0.1"
   ]
  },
  {
   "cell_type": "markdown",
   "id": "b7ea6da9",
   "metadata": {},
   "source": [
    "## Bibliotheken, Funktionen und Klassen importieren"
   ]
  },
  {
   "cell_type": "code",
   "execution_count": 76,
   "id": "5583e23a",
   "metadata": {
    "scrolled": false
   },
   "outputs": [
    {
     "ename": "ModuleNotFoundError",
     "evalue": "No module named 'xgboost'",
     "output_type": "error",
     "traceback": [
      "\u001b[1;31m---------------------------------------------------------------------------\u001b[0m",
      "\u001b[1;31mModuleNotFoundError\u001b[0m                       Traceback (most recent call last)",
      "\u001b[1;32m~\\AppData\\Local\\Temp/ipykernel_2836/3061300884.py\u001b[0m in \u001b[0;36m<module>\u001b[1;34m\u001b[0m\n\u001b[0;32m      6\u001b[0m \u001b[1;32mimport\u001b[0m \u001b[0mmatplotlib\u001b[0m\u001b[1;33m.\u001b[0m\u001b[0mpyplot\u001b[0m \u001b[1;32mas\u001b[0m \u001b[0mplt\u001b[0m\u001b[1;33m\u001b[0m\u001b[1;33m\u001b[0m\u001b[0m\n\u001b[0;32m      7\u001b[0m \u001b[1;32mimport\u001b[0m \u001b[0mseaborn\u001b[0m \u001b[1;32mas\u001b[0m \u001b[0msns\u001b[0m\u001b[1;33m\u001b[0m\u001b[1;33m\u001b[0m\u001b[0m\n\u001b[1;32m----> 8\u001b[1;33m \u001b[1;32mimport\u001b[0m \u001b[0mxgboost\u001b[0m \u001b[1;32mas\u001b[0m \u001b[0mxgb\u001b[0m\u001b[1;33m\u001b[0m\u001b[1;33m\u001b[0m\u001b[0m\n\u001b[0m\u001b[0;32m      9\u001b[0m \u001b[1;33m\u001b[0m\u001b[0m\n\u001b[0;32m     10\u001b[0m \u001b[1;31m# Feature Selection\u001b[0m\u001b[1;33m\u001b[0m\u001b[1;33m\u001b[0m\u001b[0m\n",
      "\u001b[1;31mModuleNotFoundError\u001b[0m: No module named 'xgboost'"
     ]
    }
   ],
   "source": [
    "# Bibliotheken\n",
    "import base64\n",
    "import pandas as pd\n",
    "import numpy as np\n",
    "import missingno as msno\n",
    "import matplotlib.pyplot as plt\n",
    "import seaborn as sns\n",
    "import xgboost as xgb\n",
    "\n",
    "# Feature Selection\n",
    "from sklearn.feature_selection import RFE, RFECV\n",
    "from sklearn.feature_selection import SelectKBest, f_classif, chi2, mutual_info_classif\n",
    "\n",
    "# Feature Scaling \n",
    "from sklearn.preprocessing import MinMaxScaler, StandardScaler\n",
    "\n",
    "# Splitting Data\n",
    "from sklearn.model_selection import StratifiedKFold\n",
    "\n",
    "# Modelling\n",
    "from sklearn.linear_model import LogisticRegression\n",
    "from sklearn.ensemble import RandomForestClassifier\n",
    "from sklearn.tree import DecisionTreeClassifier\n",
    "# from sklearn.multiclass import OneVsOneClassifier\n",
    "# from sklearn.multiclass import OneVsRestClassifier\n",
    "\n",
    "\n",
    "# Evaluation\n",
    "from sklearn.metrics import f1_score, classification_report"
   ]
  },
  {
   "cell_type": "markdown",
   "id": "63add62c",
   "metadata": {},
   "source": [
    "## Datensatz aus OneDrive einlesen\n",
    "Der Datensatz wird aus OneDrive eingelesen. \n",
    "\n",
    "*Quelle: https://towardsdatascience.com/onedrive-as-data-storage-for-python-project-2ff8d2d3a0aa*"
   ]
  },
  {
   "cell_type": "code",
   "execution_count": 4,
   "id": "4f5bb9a7",
   "metadata": {},
   "outputs": [],
   "source": [
    "def create_onedrive_directdownload (onedrive_link):\n",
    "    data_bytes64 = base64.b64encode(bytes(onedrive_link, 'utf-8'))\n",
    "    data_bytes64_String = data_bytes64.decode('utf-8').replace('/','_').replace('+','-').rstrip(\"=\")\n",
    "    resultUrl = f\"https://api.onedrive.com/v1.0/shares/u!{data_bytes64_String}/root/content\"\n",
    "    return resultUrl\n",
    "\n",
    "df = pd.read_csv(create_onedrive_directdownload(\"https://1drv.ms/u/s!Ai0ffDmeM0ho1FNrZ1ho6d2NZqUV?e=MDLRDb\"),sep=\",\", engine=\"python\")\n",
    "# df_large = pd.read_csv(create_onedrive_directdownload(\"https://1drv.ms/u/s!Ai0ffDmeM0ho1RKf3ExkvP3fLF0q?e=N106Gb\"),sep=\",\", engine=\"python\")"
   ]
  },
  {
   "cell_type": "code",
   "execution_count": 5,
   "id": "3eb279d8",
   "metadata": {},
   "outputs": [],
   "source": [
    "# print(df_large.shape)\n",
    "# print(df_large.columns)"
   ]
  },
  {
   "cell_type": "markdown",
   "id": "a510ac2b",
   "metadata": {},
   "source": [
    "## Features"
   ]
  },
  {
   "cell_type": "code",
   "execution_count": 6,
   "id": "bdbd88f6",
   "metadata": {},
   "outputs": [
    {
     "data": {
      "text/plain": [
       "Index(['Diabetes_012', 'HighBP', 'HighChol', 'CholCheck', 'BMI', 'Smoker',\n",
       "       'Stroke', 'HeartDiseaseorAttack', 'PhysActivity', 'Fruits', 'Veggies',\n",
       "       'HvyAlcoholConsump', 'AnyHealthcare', 'NoDocbcCost', 'GenHlth',\n",
       "       'MentHlth', 'PhysHlth', 'DiffWalk', 'Sex', 'Age', 'Education',\n",
       "       'Income'],\n",
       "      dtype='object')"
      ]
     },
     "execution_count": 6,
     "metadata": {},
     "output_type": "execute_result"
    }
   ],
   "source": [
    "df.columns"
   ]
  },
  {
   "cell_type": "markdown",
   "id": "035e9e89",
   "metadata": {},
   "source": [
    "**Diabetes_012**: nominalskaliert; 0 = gesund, 1 = prediabetes, 2 = diabetes\n",
    "\n",
    "**HighBP**: nominalskaliert; 0 = kein hoher Blutdruck, 1 = hoher Blutdruck\n",
    "\n",
    "**HighCol**: nominalskaliert; 0 = kein hoher Cholesterinspiegel, 1 = hoher Cholesterinspiegel\n",
    "\n",
    "**CholCheck**: nominalskaliert; 0 = kein Cholesterincheck in den letzten 5 Jahren, 1 = Cholesterincheck in den letzten 5 Jahren\n",
    "\n",
    "**BMI**: intervallskaliert\n",
    "\n",
    "**Smoker**: nominalskaliert; 0 = nicht mehr als 100 Zigaretten im Leben geraucht, 1 = mehr als 100 Zigaretten im Leben geraucht\n",
    "\n",
    "**Stroke**: nominalskaliert; 0 = noch keinen Schlaganfall gehabt, 1 = Schlaganfall gehabt \n",
    "\n",
    "**HeartDieseaseorAttack**: nominalskaliert; 0 = keine Herzkrankheit oder Herzinfarkt, 1 = Herzkrankheit oder Herzinfarkt\n",
    "\n",
    "**PhysActivity**: intervallskaliert; Anzahl der Tage in den letzten 30 Tagen, an denen man körperlich aktiv war\n",
    "\n",
    "**Fruits**: nominalskaliert; 0 = isst weniger als eine Frucht pro Tag, 1 = isst eine oder mehr Früchte pro Tag\n",
    "\n",
    "**Veggies**: nominalskaliert; 0 = isst weniger als ein Gemüse pro Tag, 1 = isst eine oder mehr Gemüse pro Tag\n",
    "\n",
    "**HvyAlcoholConsump**: nominalskaliert; 0 = weniger als 14 Drinks pro Woche, 1 = mehr als 14 Drinks pro Woche\n",
    "\n",
    "**AnyHealthCare**: nominalskaliert; 0 = keine Krankenversicherung, 1 = Krankenversicherung (bezogen auf USA)\n",
    "\n",
    "**NoDocbcCost**: nominalskaliert; 0 = konnte in den letzten 12 Monaten immer zum Doktor gehen, 1 = in den letzten 12 Monaten \n",
    "Doktor gebraucht aber nicht leisten können (bezogen auf USA)\n",
    "\n",
    "**GenHlth**: ordinalskaliert; genereller Gesundheitsstatus: 1 = exzellent, 2 = sehr gut, 3 = gut, 4 = in Ordnung, 5 = schlecht\n",
    "\n",
    "**MenHlth**: verhältnisskaliert; Anzahl der Tage in den letzten 30 Tagen, an denen es einem mental nicht gut ging (Stress, Depression, emotionale Probleme) \n",
    "\n",
    "**PhysHlth**: verhältnisskaliert; Anzahl der Tage in den letzten 30 Tagen, an denen es einem körperlich nicht gut ging (körperliche Krankheit, Verletzung)\n",
    "\n",
    "**DiffWalk**: nominalskaliert; 0 = keine Schwierigkeiten beim Laufen, 1 = Schwierigkeiten beim Laufen\n",
    "\n",
    "**Sex**: nominalskaliert; 0 = weiblich, 1 = männlich\n",
    "\n",
    "**Age**: ordinalskaliert; 1 = 18-24 Jahre alt, 2 = 25-29 Jahre alt, 3 = 30 bis 34 Jahre alt, 4 = 35 - 39 Jahre alt, 5 = 40 bis 44 Jahre alt, 6  = 45 - 49 Jahre alt, 7 = 50 - 54 Jahre alt, 8 = 55 - 59 Jahre alt, 9 = 60 - 64 Jahre alt, 10 = 65 - 69 Jahre alt, 11 = 70 - 74 Jahre alt, 12 = 75 - 79 Jahre alt, 13 = 80 oder älter\n",
    "\n",
    "**Education**: ordinalskaliert; 1 = Kindergarten, 2 = Grundschule (Elementary School, Grade 1 through 8), 3 = Some High School  (Grade 9 through 11), 4 = High School Degree (Grade 12 or GED), 5 = College 1 year to 3 years (Some college or technical school), 6 = College 4 Years or more (College graduate)\n",
    "\n",
    "**Income**: ordinalskaliert; 1 = < 10000 USD Einkommen, 2 = 10000 - 15000 USD , 3 = 15000 - 20000 USD, 4 = 20000 - 25000 USD, 5 = 25000 - 35000 USD, 6 = 35000 - 50000 USD, 7 = 50000 - 75000 USD, 8 = 75000+ USD"
   ]
  },
  {
   "cell_type": "markdown",
   "id": "4403bb36",
   "metadata": {},
   "source": [
    "## Variablen umbenennen"
   ]
  },
  {
   "cell_type": "code",
   "execution_count": 7,
   "id": "c1d15d08",
   "metadata": {},
   "outputs": [],
   "source": [
    "df.rename(columns = {'Diabetes_012': 'Diabetes_Type', 'Sex': 'Sex_male'}, inplace = True)"
   ]
  },
  {
   "cell_type": "markdown",
   "id": "38a800b3",
   "metadata": {},
   "source": [
    "##  Anzeige der ersten Zeilen"
   ]
  },
  {
   "cell_type": "code",
   "execution_count": 8,
   "id": "08244ccb",
   "metadata": {},
   "outputs": [],
   "source": [
    "# pd.set_option('display.max_columns', None)\n",
    "# df.head()"
   ]
  },
  {
   "cell_type": "markdown",
   "id": "1d565180",
   "metadata": {},
   "source": [
    "## Anzeige der letzten Zeilen"
   ]
  },
  {
   "cell_type": "code",
   "execution_count": 9,
   "id": "dae30ccf",
   "metadata": {},
   "outputs": [],
   "source": [
    "# df.tail()"
   ]
  },
  {
   "cell_type": "markdown",
   "id": "ef9ac45a",
   "metadata": {},
   "source": [
    "## Datensatz balanced oder imbalanced? "
   ]
  },
  {
   "cell_type": "code",
   "execution_count": 10,
   "id": "58123676",
   "metadata": {},
   "outputs": [
    {
     "data": {
      "text/plain": [
       "0.0    213703\n",
       "2.0     35346\n",
       "1.0      4631\n",
       "Name: Diabetes_Type, dtype: int64"
      ]
     },
     "execution_count": 10,
     "metadata": {},
     "output_type": "execute_result"
    }
   ],
   "source": [
    "Diabetes_valuecount = df['Diabetes_Type'].value_counts()\n",
    "Diabetes_valuecount"
   ]
  },
  {
   "cell_type": "markdown",
   "id": "b11518e3",
   "metadata": {},
   "source": [
    "### Visualisierung mit einem Kreisdiagramm"
   ]
  },
  {
   "cell_type": "code",
   "execution_count": 11,
   "id": "8970e88d",
   "metadata": {},
   "outputs": [
    {
     "data": {
      "image/png": "[encoded data removed]",
      "text/plain": [
       "<Figure size 432x288 with 1 Axes>"
      ]
     },
     "metadata": {},
     "output_type": "display_data"
    }
   ],
   "source": [
    "%matplotlib inline\n",
    "fig = plt.figure()\n",
    "labels = ['No Diabetes', 'Diabetes', 'Prediabetes']\n",
    "plt.pie(Diabetes_valuecount, labels = Diabetes_valuecount)\n",
    "plt.legend(labels)\n",
    "plt.title('Verteilung des Diabetes-Status')\n",
    "plt.show()"
   ]
  },
  {
   "cell_type": "markdown",
   "id": "15c49f34",
   "metadata": {},
   "source": [
    "### Ergebnis\n",
    "Der Datensatz ist **unausgewogen**. Das bedeutet, dass eine Klasse des Datensatzes gegenüber den anderen deutlich über-/unterrepräsentiert ist.\n",
    "\n",
    "213703 Personen haben kein Diabetes, 4631 Personen haben Pre-Diabetes, und 35346 Personen haben Diabetes."
   ]
  },
  {
   "cell_type": "markdown",
   "id": "8c3b3b5d",
   "metadata": {},
   "source": [
    "## Größe des Datensatzes"
   ]
  },
  {
   "cell_type": "code",
   "execution_count": 12,
   "id": "26caf6a3",
   "metadata": {},
   "outputs": [
    {
     "name": "stdout",
     "output_type": "stream",
     "text": [
      "Der Datensatz hat 253680 Zeilen und 22 Spalten.\n"
     ]
    }
   ],
   "source": [
    "print(f'Der Datensatz hat {df.shape[0]} Zeilen und {df.shape[1]} Spalten.')"
   ]
  },
  {
   "cell_type": "markdown",
   "id": "4435530c",
   "metadata": {},
   "source": [
    "## Fehlende Werte"
   ]
  },
  {
   "cell_type": "code",
   "execution_count": 13,
   "id": "57892a19",
   "metadata": {},
   "outputs": [
    {
     "name": "stdout",
     "output_type": "stream",
     "text": [
      "Der Datensatz enthält 0 fehlende Werte.\n"
     ]
    }
   ],
   "source": [
    "missing_values_count = np.sum(np.sum(df.isnull()))\n",
    "print('Der Datensatz enthält', missing_values_count, 'fehlende Werte.')"
   ]
  },
  {
   "cell_type": "markdown",
   "id": "ac440e50",
   "metadata": {},
   "source": [
    "### Darstellung mit missingno-matrix"
   ]
  },
  {
   "cell_type": "code",
   "execution_count": 14,
   "id": "2e7a644b",
   "metadata": {},
   "outputs": [],
   "source": [
    "#%matplotlib inline\n",
    "#msno.matrix(df)"
   ]
  },
  {
   "cell_type": "markdown",
   "id": "46fdc739",
   "metadata": {},
   "source": [
    "### Darstellung mit missingno-bar"
   ]
  },
  {
   "cell_type": "code",
   "execution_count": 15,
   "id": "cde7fa51",
   "metadata": {},
   "outputs": [],
   "source": [
    "#%matplotlib inline\n",
    "#msno.bar(df)"
   ]
  },
  {
   "cell_type": "markdown",
   "id": "d30951f8",
   "metadata": {},
   "source": [
    "### Ergebnis\n",
    "Der Datensatz weist keine fehlenden Werte auf."
   ]
  },
  {
   "cell_type": "markdown",
   "id": "c0046963",
   "metadata": {},
   "source": [
    "## Anzahl der einzigartigen Werte pro Feature"
   ]
  },
  {
   "cell_type": "code",
   "execution_count": 16,
   "id": "e5ceebf6",
   "metadata": {},
   "outputs": [],
   "source": [
    "#df.nunique()"
   ]
  },
  {
   "cell_type": "markdown",
   "id": "79468a31",
   "metadata": {},
   "source": [
    "## Info über den Datensatz"
   ]
  },
  {
   "cell_type": "code",
   "execution_count": 17,
   "id": "dea045ce",
   "metadata": {
    "scrolled": true
   },
   "outputs": [],
   "source": [
    "#df.info()"
   ]
  },
  {
   "cell_type": "markdown",
   "id": "80f5587c",
   "metadata": {},
   "source": [
    "## Deskriptive Statistik"
   ]
  },
  {
   "cell_type": "code",
   "execution_count": 18,
   "id": "8e956631",
   "metadata": {
    "scrolled": false
   },
   "outputs": [],
   "source": [
    "#df.describe()"
   ]
  },
  {
   "cell_type": "markdown",
   "id": "65f5756f",
   "metadata": {},
   "source": [
    "## Data Cleaning"
   ]
  },
  {
   "cell_type": "markdown",
   "id": "17c5131d",
   "metadata": {},
   "source": [
    "### Duplikate entfernen"
   ]
  },
  {
   "cell_type": "code",
   "execution_count": 19,
   "id": "fe4f2726",
   "metadata": {},
   "outputs": [
    {
     "data": {
      "text/plain": [
       "253680"
      ]
     },
     "execution_count": 19,
     "metadata": {},
     "output_type": "execute_result"
    }
   ],
   "source": [
    "# Anzahl der Zeilen im unbereinigten Datensatz\n",
    "df.shape[0]"
   ]
  },
  {
   "cell_type": "code",
   "execution_count": 20,
   "id": "1abfcf9a",
   "metadata": {
    "scrolled": false
   },
   "outputs": [
    {
     "name": "stdout",
     "output_type": "stream",
     "text": [
      "Duplicate Rows:  23899\n"
     ]
    }
   ],
   "source": [
    "duplicates = df[df.duplicated()]\n",
    "print(\"Duplicate Rows: \", len(duplicates))\n",
    "# duplicates"
   ]
  },
  {
   "cell_type": "code",
   "execution_count": 21,
   "id": "e12701fb",
   "metadata": {},
   "outputs": [],
   "source": [
    "df.drop_duplicates(inplace = True)"
   ]
  },
  {
   "cell_type": "code",
   "execution_count": 22,
   "id": "045f8a37",
   "metadata": {},
   "outputs": [
    {
     "data": {
      "text/plain": [
       "229781"
      ]
     },
     "execution_count": 22,
     "metadata": {},
     "output_type": "execute_result"
    }
   ],
   "source": [
    "# Anzahl der Zeilen im bereinigten Datensatz\n",
    "df.shape[0]"
   ]
  },
  {
   "cell_type": "markdown",
   "id": "424c5a26",
   "metadata": {
    "heading_collapsed": true
   },
   "source": [
    "## Visualisierung der Features"
   ]
  },
  {
   "cell_type": "markdown",
   "id": "b1680fc0",
   "metadata": {
    "heading_collapsed": true
   },
   "source": [
    "## Visualisierung mit Histogramm"
   ]
  },
  {
   "cell_type": "code",
   "execution_count": 23,
   "id": "2807696d",
   "metadata": {
    "hidden": true
   },
   "outputs": [],
   "source": [
    "#p = df.hist(figsize = (20,20))"
   ]
  },
  {
   "cell_type": "markdown",
   "id": "4bdc8844",
   "metadata": {
    "heading_collapsed": true
   },
   "source": [
    "## Visualisierung der Features in Bezug auf Diabetes-Status"
   ]
  },
  {
   "cell_type": "markdown",
   "id": "287ac39d",
   "metadata": {
    "hidden": true
   },
   "source": [
    "### Visualisierung mit Boxplots (seaborn)\n",
    "Um eine Idee über mögliche **Ausreißer** bei den Features zu bekommen, erstellen wir jeweils einen Boxplot für jede nicht binäre Variable."
   ]
  },
  {
   "cell_type": "code",
   "execution_count": 24,
   "id": "a6a91f51",
   "metadata": {
    "hidden": true
   },
   "outputs": [],
   "source": [
    "#%matplotlib inline\n",
    "#ax1 = sns.boxplot(x = 'Diabetes_Type', y = 'BMI', data = df)\n",
    "# ax1 = sns.stripplot(x = 'Diabetes_012', y = 'BMI', data = temper)"
   ]
  },
  {
   "cell_type": "code",
   "execution_count": 25,
   "id": "59dde8cd",
   "metadata": {
    "hidden": true
   },
   "outputs": [],
   "source": [
    "#%matplotlib inline\n",
    "#ax1 = sns.boxplot(x = 'Diabetes_Type', y = 'BMI', data = df, whis = 3)\n",
    "# ax1 = sns.stripplot(x = 'Diabetes_012', y = 'BMI', data = temper)"
   ]
  },
  {
   "cell_type": "code",
   "execution_count": 26,
   "id": "84c6fee1",
   "metadata": {
    "hidden": true
   },
   "outputs": [],
   "source": [
    "#%matplotlib inline\n",
    "#ax2 = sns.boxplot(x = 'Diabetes_Type', y = 'GenHlth', data = df)\n",
    "# ax2 = sns.stripplot(x = 'Diabetes_012', y = 'GenHlth', data = temper)"
   ]
  },
  {
   "cell_type": "code",
   "execution_count": 27,
   "id": "97ca9ec2",
   "metadata": {
    "hidden": true
   },
   "outputs": [],
   "source": [
    "#%matplotlib inline\n",
    "#ax2 = sns.boxplot(x = 'Diabetes_Type', y = 'MentHlth', data = df)\n",
    "# ax2 = sns.stripplot(x = 'Diabetes_012', y = 'MentHlth', data = temper)"
   ]
  },
  {
   "cell_type": "code",
   "execution_count": 28,
   "id": "58f7a218",
   "metadata": {
    "hidden": true
   },
   "outputs": [],
   "source": [
    "#%matplotlib inline\n",
    "#ax3 = sns.boxplot(x = 'Diabetes_Type', y = 'MentHlth', data = df, whis = 3)"
   ]
  },
  {
   "cell_type": "code",
   "execution_count": 29,
   "id": "7f772511",
   "metadata": {
    "hidden": true
   },
   "outputs": [],
   "source": [
    "#%matplotlib inline\n",
    "#ax4 = sns.boxplot(x = 'Diabetes_Type', y = 'PhysHlth', data = df)\n",
    "# ax4 = sns.stripplot(x = 'Diabetes_012', y = 'PhysHlth', data = temper)"
   ]
  },
  {
   "cell_type": "code",
   "execution_count": 30,
   "id": "459c7df8",
   "metadata": {
    "hidden": true
   },
   "outputs": [],
   "source": [
    "#%matplotlib inline\n",
    "#ax5 = sns.boxplot(x = 'Diabetes_Type', y = 'Age', data = df)"
   ]
  },
  {
   "cell_type": "code",
   "execution_count": 31,
   "id": "a3196291",
   "metadata": {
    "hidden": true
   },
   "outputs": [],
   "source": [
    "# %matplotlib inline\n",
    "# ax6 = sns.boxplot(x = 'Diabetes_Type', y = 'Education', data = df)"
   ]
  },
  {
   "cell_type": "code",
   "execution_count": 32,
   "id": "0483fbc2",
   "metadata": {
    "hidden": true
   },
   "outputs": [],
   "source": [
    "# %matplotlib inline\n",
    "# ax7 = sns.boxplot(x = 'Diabetes_Type', y = 'Income', data = df)"
   ]
  },
  {
   "cell_type": "markdown",
   "id": "7d2bf2ce",
   "metadata": {},
   "source": [
    "## Scaling der Daten"
   ]
  },
  {
   "cell_type": "code",
   "execution_count": 33,
   "id": "c2a04fbd",
   "metadata": {},
   "outputs": [],
   "source": [
    "def scale_data(df, scaler_method):\n",
    "    scaler = scaler_method\n",
    "    scaled_data = scaler.fit_transform(df)\n",
    "    df_scaled = pd.DataFrame(scaled_data, columns = df.columns)\n",
    "    return df_scaled"
   ]
  },
  {
   "cell_type": "markdown",
   "id": "06c79f6c",
   "metadata": {},
   "source": [
    "### Normalisieren mit dem MinMaxScaler"
   ]
  },
  {
   "cell_type": "code",
   "execution_count": 34,
   "id": "af6fefd1",
   "metadata": {},
   "outputs": [],
   "source": [
    "df_minmax = scale_data(df, MinMaxScaler())"
   ]
  },
  {
   "cell_type": "markdown",
   "id": "7e4cd6a8",
   "metadata": {},
   "source": [
    "### Standartisieren mit dem StandardScaler"
   ]
  },
  {
   "cell_type": "code",
   "execution_count": 35,
   "id": "e712ad7a",
   "metadata": {
    "scrolled": true
   },
   "outputs": [],
   "source": [
    "df_ss = scale_data(df, StandardScaler())"
   ]
  },
  {
   "cell_type": "markdown",
   "id": "15a7ed7c",
   "metadata": {},
   "source": [
    "## Feature Selection"
   ]
  },
  {
   "cell_type": "code",
   "execution_count": 56,
   "id": "f67be2a9",
   "metadata": {},
   "outputs": [],
   "source": [
    "numerical_feature = df[['BMI', 'MentHlth', 'PhysHlth']]\n",
    "categorical_features = df.drop(['BMI', 'MentHlth', 'PhysHlth', 'Diabetes_Type'], axis = 'columns')\n",
    "\n",
    "num_feat_ss = scale_data(numerical_feature, StandardScaler())\n",
    "\n",
    "# cat_feat_ss = scale_data(categorical_features, StandardScaler())\n",
    "cat_feat_mm = scale_data(categorical_features, MinMaxScaler())"
   ]
  },
  {
   "cell_type": "code",
   "execution_count": 37,
   "id": "6a460be5",
   "metadata": {},
   "outputs": [],
   "source": [
    "# Funktion die SelectKBest-Funtion aus sklearn nutzt um die Wichtigkeit von n Features auszugeben\n",
    "\n",
    "def univariate_selection_skbest(features, classifier, num_of_feats):\n",
    "    fs = SelectKBest(score_func = classifier, k = num_of_feats)\n",
    "    fit = fs.fit(features, df['Diabetes_Type'])\n",
    "    selected_features_bool = list(fit.get_support())\n",
    "    for feature, selected_bool in zip(features, selected_features_bool):\n",
    "        print(str(feature) + ': ' + str(selected_bool))"
   ]
  },
  {
   "cell_type": "code",
   "execution_count": 38,
   "id": "f6ce0244",
   "metadata": {},
   "outputs": [],
   "source": [
    "def get_features(df):\n",
    "    return df.drop('Diabetes_Type', axis = 'columns')"
   ]
  },
  {
   "cell_type": "code",
   "execution_count": 39,
   "id": "c210cbe9",
   "metadata": {},
   "outputs": [],
   "source": [
    "x_values = get_features(df)\n",
    "\n",
    "x_values_mm = get_features(df_minmax)\n",
    "\n",
    "x_values_ss = get_features(df_ss)"
   ]
  },
  {
   "cell_type": "markdown",
   "id": "8ece8316",
   "metadata": {},
   "source": [
    "### Korrelationen zwischen numerischen Features und kategorialer Target-Variable"
   ]
  },
  {
   "cell_type": "markdown",
   "id": "1237915f",
   "metadata": {},
   "source": [
    "#### ANOVA"
   ]
  },
  {
   "cell_type": "code",
   "execution_count": 54,
   "id": "0ffc92ac",
   "metadata": {},
   "outputs": [
    {
     "name": "stdout",
     "output_type": "stream",
     "text": [
      "BMI: True\n",
      "MentHlth: False\n",
      "PhysHlth: False\n"
     ]
    }
   ],
   "source": [
    "univariate_selection_skbest(num_feat_ss, f_classif, 1)"
   ]
  },
  {
   "cell_type": "markdown",
   "id": "498bec4a",
   "metadata": {},
   "source": [
    "## Korrelationen zwischen kategorialen Features und kategorialer Target-Variable"
   ]
  },
  {
   "cell_type": "code",
   "execution_count": 57,
   "id": "3e8893d1",
   "metadata": {},
   "outputs": [
    {
     "name": "stdout",
     "output_type": "stream",
     "text": [
      "HighBP: True\n",
      "HighChol: True\n",
      "CholCheck: False\n",
      "Smoker: False\n",
      "Stroke: False\n",
      "HeartDiseaseorAttack: True\n",
      "PhysActivity: False\n",
      "Fruits: False\n",
      "Veggies: False\n",
      "HvyAlcoholConsump: False\n",
      "AnyHealthcare: False\n",
      "NoDocbcCost: False\n",
      "GenHlth: True\n",
      "DiffWalk: True\n",
      "Sex_male: False\n",
      "Age: False\n",
      "Education: False\n",
      "Income: False\n"
     ]
    }
   ],
   "source": [
    "univariate_selection_skbest(cat_feat_mm, chi2, 5)"
   ]
  },
  {
   "cell_type": "code",
   "execution_count": 58,
   "id": "fb6d947f",
   "metadata": {
    "scrolled": false
   },
   "outputs": [
    {
     "name": "stdout",
     "output_type": "stream",
     "text": [
      "HighBP: True\n",
      "HighChol: True\n",
      "CholCheck: True\n",
      "Smoker: False\n",
      "Stroke: False\n",
      "HeartDiseaseorAttack: False\n",
      "PhysActivity: False\n",
      "Fruits: False\n",
      "Veggies: False\n",
      "HvyAlcoholConsump: False\n",
      "AnyHealthcare: True\n",
      "NoDocbcCost: False\n",
      "GenHlth: True\n",
      "DiffWalk: False\n",
      "Sex_male: False\n",
      "Age: False\n",
      "Education: False\n",
      "Income: False\n"
     ]
    }
   ],
   "source": [
    "univariate_selection_skbest(cat_feat_mm, mutual_info_classif, 5)"
   ]
  },
  {
   "cell_type": "code",
   "execution_count": 59,
   "id": "433149d1",
   "metadata": {},
   "outputs": [
    {
     "name": "stdout",
     "output_type": "stream",
     "text": [
      "HighBP: True\n",
      "HighChol: True\n",
      "CholCheck: False\n",
      "Smoker: False\n",
      "Stroke: False\n",
      "HeartDiseaseorAttack: False\n",
      "PhysActivity: False\n",
      "Fruits: False\n",
      "Veggies: False\n",
      "HvyAlcoholConsump: False\n",
      "AnyHealthcare: False\n",
      "NoDocbcCost: False\n",
      "GenHlth: True\n",
      "DiffWalk: True\n",
      "Sex_male: False\n",
      "Age: True\n",
      "Education: False\n",
      "Income: False\n"
     ]
    }
   ],
   "source": [
    "univariate_selection_skbest(cat_feat_ss, mutual_info_classif, 5)"
   ]
  },
  {
   "cell_type": "markdown",
   "id": "fb4862c1",
   "metadata": {},
   "source": [
    "#### seaborn Heatmap von kendall's"
   ]
  },
  {
   "cell_type": "code",
   "execution_count": 43,
   "id": "fd0af596",
   "metadata": {
    "scrolled": true
   },
   "outputs": [
    {
     "name": "stderr",
     "output_type": "stream",
     "text": [
      "C:\\Users\\Max\\anaconda3\\lib\\site-packages\\scipy\\stats\\stats.py:4812: RuntimeWarning: overflow encountered in longlong_scalars\n",
      "  (2 * xtie * ytie) / m + x0 * y0 / (9 * m * (size - 2)))\n"
     ]
    },
    {
     "data": {
      "text/plain": [
       "<AxesSubplot:>"
      ]
     },
     "execution_count": 43,
     "metadata": {},
     "output_type": "execute_result"
    },
    {
     "data": {
      "image/png": "[encoded data removed]",
      "text/plain": [
       "<Figure size 432x288 with 2 Axes>"
      ]
     },
     "metadata": {
      "needs_background": "light"
     },
     "output_type": "display_data"
    }
   ],
   "source": [
    "%matplotlib inline\n",
    "corr = numerical_feature_columns.corr('kendall')\n",
    "sns.heatmap(corr, vmin=-1, vmax=1, cmap=sns.diverging_palette(20, 220, n=200), annot = True)"
   ]
  },
  {
   "cell_type": "markdown",
   "id": "183a6410",
   "metadata": {},
   "source": [
    "### Recursive Feature Elimination"
   ]
  },
  {
   "cell_type": "code",
   "execution_count": 66,
   "id": "0ea247bb",
   "metadata": {},
   "outputs": [
    {
     "name": "stdout",
     "output_type": "stream",
     "text": [
      "Num Features: 5\n",
      "Selected Features: [ True  True False  True False False False False False False False False\n",
      " False  True False False False False  True False False]\n",
      "Feature Ranking: [ 1  1  2  1 14 12  7 15 16 17  3 13  6  1  8 10  9  5  1 11  4]\n"
     ]
    }
   ],
   "source": [
    "from sklearn.linear_model import LogisticRegression\n",
    "\n",
    "model = LogisticRegression(multi_class='multinomial')\n",
    "rfe = RFE(model, n_features_to_select=5)\n",
    "fit = rfe.fit(x_values_ss, df['Diabetes_Type'])\n",
    "\n",
    "print(\"Num Features: %d\" % fit.n_features_)\n",
    "print(\"Selected Features: %s\" % fit.support_)\n",
    "print(\"Feature Ranking: %s\" % fit.ranking_)"
   ]
  },
  {
   "cell_type": "markdown",
   "id": "112008e9",
   "metadata": {},
   "source": [
    "#### Darstellung der Ergebnisse"
   ]
  },
  {
   "cell_type": "code",
   "execution_count": 49,
   "id": "662979d4",
   "metadata": {},
   "outputs": [
    {
     "name": "stdout",
     "output_type": "stream",
     "text": [
      "HighBP: True\n",
      "HighChol: True\n",
      "CholCheck: False\n",
      "BMI: True\n",
      "Smoker: False\n",
      "Stroke: False\n",
      "HeartDiseaseorAttack: False\n",
      "PhysActivity: False\n",
      "Fruits: False\n",
      "Veggies: False\n",
      "HvyAlcoholConsump: False\n",
      "AnyHealthcare: False\n",
      "NoDocbcCost: False\n",
      "GenHlth: True\n",
      "MentHlth: False\n",
      "PhysHlth: False\n",
      "DiffWalk: False\n",
      "Sex_male: False\n",
      "Age: True\n",
      "Education: False\n",
      "Income: False\n"
     ]
    }
   ],
   "source": [
    "sel_features_rfe = list(fit.support_)\n",
    "features = list(x_values.columns)\n",
    "i = 0\n",
    "\n",
    "for i in range(len(features)):\n",
    "    print(str(features[i] + ': ' + str(sel_features_rfe[i])))\n",
    "    i += 1"
   ]
  },
  {
   "cell_type": "markdown",
   "id": "33c8e57e",
   "metadata": {},
   "source": [
    "### Recursive Feature Elimination with Cross Validation"
   ]
  },
  {
   "cell_type": "code",
   "execution_count": 73,
   "id": "a69219d0",
   "metadata": {},
   "outputs": [],
   "source": [
    "def rec_feat_el_cv(estimator, x_values):\n",
    "    estimator = estimator\n",
    "    min_features_to_select = 1\n",
    "    rfecv = RFECV(estimator=estimator, cv=StratifiedKFold(5), min_features_to_select=min_features_to_select)\n",
    "    rfecv.fit(x_values,df['Diabetes_Type'])\n",
    "    print(str(estimator))\n",
    "    print('Optimal number of features:', rfecv.n_features_)"
   ]
  },
  {
   "cell_type": "code",
   "execution_count": 75,
   "id": "d4c9ecfd",
   "metadata": {},
   "outputs": [
    {
     "name": "stdout",
     "output_type": "stream",
     "text": [
      "LogisticRegression()\n",
      "Optimal number of features: 19\n",
      "DecisionTreeClassifier()\n",
      "Optimal number of features: 1\n",
      "RandomForestClassifier()\n",
      "Optimal number of features: 1\n"
     ]
    }
   ],
   "source": [
    "models = [LogisticRegression(), DecisionTreeClassifier(), RandomForestClassifier()]\n",
    "\n",
    "for model in models:\n",
    "    rec_feat_el_cv(estimator=model, x_values = x_values_ss)"
   ]
  },
  {
   "cell_type": "markdown",
   "id": "1f006427",
   "metadata": {},
   "source": [
    "### Feature Importance "
   ]
  },
  {
   "cell_type": "code",
   "execution_count": null,
   "id": "71545b71",
   "metadata": {
    "scrolled": true
   },
   "outputs": [],
   "source": [
    "from sklearn.ensemble import ExtraTreesClassifier\n",
    "\n",
    "model = ExtraTreesClassifier(n_estimators=10)\n",
    "model.fit(x_values_mm,y_values)\n",
    "\n",
    "sel_features_etc = list(model.feature_importances_)\n",
    "\n",
    "for i in range(len(features)):\n",
    "    print(str(features[i] + ': ' + str(sel_features_etc[i])))\n",
    "    i += 1"
   ]
  },
  {
   "cell_type": "code",
   "execution_count": null,
   "id": "684da870",
   "metadata": {},
   "outputs": [],
   "source": [
    "feat_importances = pd.Series(model.feature_importances_, index=list(df_features))\n",
    "feat_importances.nlargest(10).plot(kind='barh')\n",
    "plt.title(\"Top 10 important features in data\")\n",
    "plt.show()"
   ]
  },
  {
   "cell_type": "markdown",
   "id": "43fe3799",
   "metadata": {},
   "source": [
    "# Modelling"
   ]
  },
  {
   "cell_type": "markdown",
   "id": "d2dd6cad",
   "metadata": {},
   "source": [
    "## Vorbereitung Modelling"
   ]
  },
  {
   "cell_type": "markdown",
   "id": "b36c1398",
   "metadata": {},
   "source": [
    "## verschiedene Modelle mit Parametern initialisieren"
   ]
  },
  {
   "cell_type": "code",
   "execution_count": null,
   "id": "9a49d77f",
   "metadata": {},
   "outputs": [],
   "source": [
    "model_params = {\n",
    "    'logistic_regression': {\n",
    "        'model': LogisticRegression(multiclass = 'multinomial'),\n",
    "        'params': {\n",
    "            'penalty' = ['l2', None] \n",
    "            'solver' = ['newton-cg', 'sag', 'saga', 'lbfgs']\n",
    "        }\n",
    "    'random_forrest': RandomForrest()\n",
    "    }\n",
    "}"
   ]
  },
  {
   "cell_type": "code",
   "execution_count": null,
   "id": "c60ff3ed",
   "metadata": {},
   "outputs": [],
   "source": [
    "scores = []\n",
    "\n",
    "for model_name, mp in model_params.items():\n",
    "    clf = GridSearchCV(mp['model'], mp['params'], cvStratifiedKFoldFoldtifiedKFold(5))\n",
    "    clf.fit(x_values_ss,df['Diabetes_Type'])\n",
    "    scores.append({\n",
    "        'model': model_name,\n",
    "        'best_score': clf.best_score_,\n",
    "        'best_params': clf.best_params_\n",
    "    })"
   ]
  },
  {
   "cell_type": "markdown",
   "id": "4d677b06",
   "metadata": {},
   "source": [
    "# Evaluation"
   ]
  },
  {
   "cell_type": "markdown",
   "id": "29b908ea",
   "metadata": {},
   "source": [
    "### Classification Report"
   ]
  },
  {
   "cell_type": "code",
   "execution_count": null,
   "id": "d80f843f",
   "metadata": {},
   "outputs": [],
   "source": [
    "target_names = ['Healthy', 'Prediabetes', 'Diabetes']\n",
    "\n",
    "print(classification_report(y_test_tts, clf_dtc.predict(x_test_tts), target_names = target_names))"
   ]
  },
  {
   "cell_type": "markdown",
   "id": "be62661b",
   "metadata": {},
   "source": [
    "### f1 Score"
   ]
  },
  {
   "cell_type": "code",
   "execution_count": null,
   "id": "b3e0d220",
   "metadata": {},
   "outputs": [],
   "source": [
    "# SVC\n",
    "# print(f1_score(y_test_tts, clf_svm.predict(x_test_tts), average = None, labels = [0.0,1.0,2.0]))\n",
    "\n",
    "# Decision Tree Classifier\n",
    "# print(f1_score(y_test_tts, clf_dtc.predict(x_test_tts), average = None, labels = [0.0,1.0,2.0]))\n",
    "\n",
    "# Random Forrest Classifier\n",
    "# print(f1_score(y_test_tts, clf_rfc.predict(x_test_tts), average = None, labels = [0.0,1.0,2.0]))\n",
    "# after Feature Selection\n",
    "# print(f1_score(y_test_tts_sel, clf_rfc_sel.predict(x_test_tts_sel), average = None, labels = [0.0,1.0,2.0]))"
   ]
  }
 ],
 "metadata": {
  "kernelspec": {
   "display_name": "Python 3 (ipykernel)",
   "language": "python",
   "name": "python3"
  },
  "language_info": {
   "codemirror_mode": {
    "name": "ipython",
    "version": 3
   },
   "file_extension": ".py",
   "mimetype": "text/x-python",
   "name": "python",
   "nbconvert_exporter": "python",
   "pygments_lexer": "ipython3",
   "version": "3.9.7"
  },
  "varInspector": {
   "cols": {
    "lenName": 16,
    "lenType": 16,
    "lenVar": 40
   },
   "kernels_config": {
    "python": {
     "delete_cmd_postfix": "",
     "delete_cmd_prefix": "del ",
     "library": "var_list.py",
     "varRefreshCmd": "print(var_dic_list())"
    },
    "r": {
     "delete_cmd_postfix": ") ",
     "delete_cmd_prefix": "rm(",
     "library": "var_list.r",
     "varRefreshCmd": "cat(var_dic_list()) "
    }
   },
   "types_to_exclude": [
    "module",
    "function",
    "builtin_function_or_method",
    "instance",
    "_Feature"
   ],
   "window_display": false
  }
 },
 "nbformat": 4,
 "nbformat_minor": 5
}
