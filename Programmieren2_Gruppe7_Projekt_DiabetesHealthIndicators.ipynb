{
 "cells": [
  {
   "cell_type": "markdown",
   "id": "2b26e0ec",
   "metadata": {},
   "source": [
    "# Programmieren 2 Projekt Diabetes Health Indicators (Gruppe 7)"
   ]
  },
  {
   "cell_type": "markdown",
   "id": "6b516b3e",
   "metadata": {},
   "source": [
    "# 0. Vorbereitung"
   ]
  },
  {
   "cell_type": "markdown",
   "id": "f6f0ea6d",
   "metadata": {},
   "source": [
    "## 0.1 externe Bibliotheken installieren"
   ]
  },
  {
   "cell_type": "code",
   "execution_count": null,
   "id": "3f6cd019",
   "metadata": {
    "scrolled": true
   },
   "outputs": [],
   "source": [
    "# %pip install missingno\n",
    "# %pip install tensorflow"
   ]
  },
  {
   "cell_type": "markdown",
   "id": "b7ea6da9",
   "metadata": {},
   "source": [
    "## 0.2 Bibliotheken, Funktionen und Klassen importieren"
   ]
  },
  {
   "cell_type": "code",
   "execution_count": null,
   "id": "5583e23a",
   "metadata": {
    "scrolled": true
   },
   "outputs": [],
   "source": [
    "# Bibliotheken\n",
    "import base64\n",
    "import pandas as pd\n",
    "import numpy as np\n",
    "import missingno as msno\n",
    "import matplotlib.pyplot as plt\n",
    "import seaborn as sns\n",
    "import tensorflow as tf\n",
    "\n",
    "# Allgemein\n",
    "from sklearn.pipeline import make_pipeline, Pipeline\n",
    "\n",
    "# Data Preparation\n",
    "from sklearn.preprocessing import OneHotEncoder\n",
    "\n",
    "# Feature Selection\n",
    "from sklearn.feature_selection import RFE, RFECV, SelectKBest, SelectPercentile, f_classif, chi2, mutual_info_classif\n",
    "\n",
    "# Feature Scaling \n",
    "from sklearn.preprocessing import MinMaxScaler, StandardScaler\n",
    "\n",
    "# Datensatz aufsplitten\n",
    "from sklearn.model_selection import StratifiedKFold, KFold\n",
    "\n",
    "# Modelling\n",
    "from sklearn.linear_model import LogisticRegression\n",
    "from sklearn.ensemble import RandomForestClassifier\n",
    "from sklearn.neighbors import KNeighborsClassifier\n",
    "from sklearn.ensemble import GradientBoostingClassifier\n",
    "from sklearn.model_selection import GridSearchCV\n",
    "from sklearn.tree import DecisionTreeClassifier\n",
    "# from sklearn.multiclass import OneVsOneClassifier\n",
    "# from sklearn.multiclass import OneVsRestClassifier\n",
    "\n",
    "# Evaluation\n",
    "from sklearn.metrics import f1_score, classification_report, confusion_matrix, ConfusionMatrixDisplay \n",
    "from sklearn.model_selection import cross_val_score"
   ]
  },
  {
   "cell_type": "markdown",
   "id": "63add62c",
   "metadata": {},
   "source": [
    "## 0.3 Datensatz aus OneDrive einlesen\n",
    "Der Datensatz wird aus OneDrive eingelesen. \n",
    "\n",
    "*Quelle: https://towardsdatascience.com/onedrive-as-data-storage-for-python-project-2ff8d2d3a0aa*"
   ]
  },
  {
   "cell_type": "code",
   "execution_count": null,
   "id": "4f5bb9a7",
   "metadata": {
    "scrolled": true
   },
   "outputs": [],
   "source": [
    "def create_onedrive_directdownload (onedrive_link):\n",
    "    data_bytes64 = base64.b64encode(bytes(onedrive_link, 'utf-8'))\n",
    "    data_bytes64_String = data_bytes64.decode('utf-8').replace('/','_').replace('+','-').rstrip(\"=\")\n",
    "    resultUrl = f\"https://api.onedrive.com/v1.0/shares/u!{data_bytes64_String}/root/content\"\n",
    "    return resultUrl\n",
    "\n",
    "df_multiclass = pd.read_csv(create_onedrive_directdownload(\"https://1drv.ms/u/s!Ai0ffDmeM0ho1FNrZ1ho6d2NZqUV?e=MDLRDb\"),sep=\",\", engine=\"python\")"
   ]
  },
  {
   "cell_type": "markdown",
   "id": "0e9cbabe",
   "metadata": {},
   "source": [
    "## 0.4 binären Datensatz erstellen"
   ]
  },
  {
   "cell_type": "code",
   "execution_count": null,
   "id": "f6d9f985",
   "metadata": {
    "scrolled": true
   },
   "outputs": [],
   "source": [
    "df = df_multiclass\n",
    "df['Diabetes_012'].replace({2:1}, inplace=True)\n",
    "df.rename(columns={'Diabetes_012': 'Diabetes'}, inplace=True)"
   ]
  },
  {
   "cell_type": "markdown",
   "id": "46ea5350",
   "metadata": {},
   "source": [
    "# 1. Business Understanding"
   ]
  },
  {
   "cell_type": "markdown",
   "id": "175ae653",
   "metadata": {},
   "source": [
    "## 1.1 Problemstellung"
   ]
  },
  {
   "cell_type": "markdown",
   "id": "61a17a44",
   "metadata": {},
   "source": [
    "## 1.2 Ziel des Projekts"
   ]
  },
  {
   "cell_type": "markdown",
   "id": "d2a08c88",
   "metadata": {},
   "source": [
    "## 1.3 Kritische Faktoren"
   ]
  },
  {
   "cell_type": "markdown",
   "id": "8ec3dd41",
   "metadata": {},
   "source": [
    "# 2. Data Understanding"
   ]
  },
  {
   "cell_type": "code",
   "execution_count": null,
   "id": "3eb279d8",
   "metadata": {
    "scrolled": true
   },
   "outputs": [],
   "source": [
    "# print(df_large.shape)\n",
    "# print(df_large.columns)"
   ]
  },
  {
   "cell_type": "markdown",
   "id": "a510ac2b",
   "metadata": {},
   "source": [
    "## 2.1 Variablen und Skalenniveaus"
   ]
  },
  {
   "cell_type": "markdown",
   "id": "17e426b2",
   "metadata": {},
   "source": [
    "Die Erklärung der Variablen des Datensatzes sind in der Beschreibung auf Kaggle bzw. in den Kommentaren zu finden. Zur Validierung der in Kaggle angegebenen Dokumentation kann der \"Codebook Report\" des Behavioral Risk Factor Surveillance System aus dem Jahr 2015 verwendet werden. Dieser beinhaltet eine Beschreibung des unbereinigten Datensatzes mit mehr als 300 Features. Da die Features beim Bereinigen zum Teil umbenannt wurden, ist es hilfreich, das Jupyter Notebook, das für die Bereinigung des großen Datensatzes erstellt wurde und auf Kaggle zu finden ist, hinzuzuziehen.\n",
    "\n",
    "Link zum Datensatz (Kaggle): *https://www.kaggle.com/datasets/alexteboul/diabetes-health-indicators-dataset*\n",
    "\n",
    "2015 Codebook Report (BRFSS): *https://www.cdc.gov/brfss/annual_data/2015/pdf/codebook15_llcp.pdf*\n",
    "\n",
    "Link zum unbereinigten Datensatz: *https://www.kaggle.com/datasets/cdc/behavioral-risk-factor-surveillance-system*\n",
    "\n",
    "Link zum Jupyer Notebook zur Bereinigung: *https://www.kaggle.com/code/alexteboul/diabetes-health-indicators-dataset-notebook/notebook*"
   ]
  },
  {
   "cell_type": "code",
   "execution_count": null,
   "id": "bdbd88f6",
   "metadata": {
    "scrolled": true
   },
   "outputs": [],
   "source": [
    "df.columns"
   ]
  },
  {
   "cell_type": "markdown",
   "id": "035e9e89",
   "metadata": {},
   "source": [
    "### 2.1.1 Features\n",
    "\n",
    "#### demographische Features:\n",
    "**Sex**: nominalskaliert (kategorisch); 0 = weiblich, 1 = männlich\n",
    "\n",
    "**Age**: ordinalskaliert (kategorisch); 1 = 18-24 Jahre alt, 2 = 25-29 Jahre alt, 3 = 30 bis 34 Jahre alt, 4 = 35 - 39 Jahre alt, 5 = 40 bis 44 Jahre alt, 6  = 45 - 49 Jahre alt, 7 = 50 - 54 Jahre alt, 8 = 55 - 59 Jahre alt, 9 = 60 - 64 Jahre alt, 10 = 65 - 69 Jahre alt, 11 = 70 - 74 Jahre alt, 12 = 75 - 79 Jahre alt, 13 = 80 oder älter\n",
    "\n",
    "**Education**: ordinalskaliert (kategorisch); 1 = Kindergarten, 2 = Grundschule (Elementary School, Grade 1 through 8), 3 = Some High School  (Grade 9 through 11), 4 = High School Degree (Grade 12 or GED), 5 = College 1 year to 3 years (Some college or technical school), 6 = College 4 Years or more (College graduate)\n",
    "\n",
    "**Income**: ordinalskaliert (kategorisch); 1 = < 10000 USD Einkommen, 2 = 10000 - 15000 USD , 3 = 15000 - 20000 USD, 4 = 20000 - 25000 USD, 5 = 25000 - 35000 USD, 6 = 35000 - 50000 USD, 7 = 50000 - 75000 USD, 8 = 75000+ USD\n",
    "\n",
    "#### medizinische Features:\n",
    "**HighBP**: nominalskaliert (kategorisch); 0 = kein hoher Blutdruck, 1 = hoher Blutdruck\n",
    "\n",
    "**HighCol**: nominalskaliert (kategorisch); 0 = kein hoher Cholesterinspiegel, 1 = hoher Cholesterinspiegel\n",
    "\n",
    "**CholCheck**: nominalskaliert (kategorisch); 0 = kein Cholesterincheck in den letzten 5 Jahren, 1 = Cholesterincheck in den letzten 5 Jahren\n",
    "\n",
    "**HeartDieseaseorAttack**: nominalskaliert (kategorisch); 0 = keine Herzkrankheit oder Herzinfarkt, 1 = Herzkrankheit oder Herzinfarkt\n",
    "\n",
    "**BMI**: intervallskaliert (numerisch), [kg/m²]\n",
    "\n",
    "**Stroke**: nominalskaliert (kategorisch); 0 = noch keinen Schlaganfall gehabt, 1 = Schlaganfall gehabt \n",
    "\n",
    "**AnyHealthCare**: nominalskaliert (kategorisch); 0 = keine Krankenversicherung, 1 = Krankenversicherung (bezogen auf USA)\n",
    "\n",
    "**NoDocbcCost**: nominalskaliert (kategorisch); 0 = konnte in den letzten 12 Monaten immer zum Doktor gehen, 1 = in den letzten 12 Monaten \n",
    "Doktor gebraucht aber nicht leisten können (bezogen auf USA)\n",
    "\n",
    "**GenHlth**: ordinalskaliert (kategorisch); genereller Gesundheitsstatus: 1 = exzellent, 2 = sehr gut, 3 = gut, 4 = in Ordnung, 5 = schlecht\n",
    "\n",
    "**MenHlth**: intervallskaliert (numerisch); Anzahl der Tage in den letzten 30 Tagen, an denen es einem mental nicht gut ging (Stress, Depression, emotionale Probleme) \n",
    "\n",
    "**PhysHlth**: intervallskaliert (numerisch); Anzahl der Tage in den letzten 30 Tagen, an denen es einem körperlich nicht gut ging (körperliche Krankheit, Verletzung)\n",
    "\n",
    "**DiffWalk**: nominalskaliert (kategorisch); 0 = keine Schwierigkeiten beim Laufen, 1 = Schwierigkeiten beim Laufen\n",
    "\n",
    "#### \"Lifestyle\" Features:\n",
    "\n",
    "**PhysActivity**: intervallskaliert (numerisch); Anzahl der Tage in den letzten 30 Tagen, an denen man körperlich aktiv war\n",
    "\n",
    "**Fruits**: nominalskaliert (kategorisch); 0 = isst weniger als eine Frucht pro Tag, 1 = isst eine oder mehr Früchte pro Tag\n",
    "\n",
    "**Veggies**: nominalskaliert(kategorisch); 0 = isst weniger als ein Gemüse pro Tag, 1 = isst eine oder mehr Gemüse pro Tag\n",
    "\n",
    "**HvyAlcoholConsump**: nominalskaliert (kategorisch); 0 = weniger als 14 Drinks (7 bei Frauen) pro Woche, 1 = mehr als 14 Drinks (7 bei Frauen) pro Woche\n",
    "\n",
    "**Smoker**: nominalskaliert (kategorisch); 0 = nicht mehr als 100 Zigaretten im Leben geraucht, 1 = mehr als 100 Zigaretten im Leben geraucht\n",
    "\n",
    "### 2.1.2 Target\n",
    "\n",
    "**Diabetes**: nominalskaliert (kategorisch); 0 = gesund, 1 = krank"
   ]
  },
  {
   "cell_type": "markdown",
   "id": "c6fcc4d6",
   "metadata": {},
   "source": [
    "## 2.1.3 Variablen umbenennen"
   ]
  },
  {
   "cell_type": "markdown",
   "id": "6b52b773",
   "metadata": {},
   "source": [
    "Die meisten Variablen des Datensatzes werden bereits durch ihre Namen ausreichend erklärt. Trotzdem gibt es ein paar Variablen, bei denen es zum vollständigen Verständnis der Bedeutung noch einer zusätzlichen Erläuterung bedarf. Diese werden direkt zu Beginn passend umbenannt, damit später im Code, nach der Umbennenung, keine Probleme auftreten."
   ]
  },
  {
   "cell_type": "code",
   "execution_count": null,
   "id": "628bd769",
   "metadata": {
    "scrolled": true
   },
   "outputs": [],
   "source": [
    "df.rename(columns = {'Sex': 'Gender_male'}, inplace = True)\n",
    "df.columns"
   ]
  },
  {
   "cell_type": "markdown",
   "id": "7d854441",
   "metadata": {},
   "source": [
    "Damit die Variable eine größere Aussagekraft hat, wurde das Feature 'Sex' in 'Gender_male' umbenannt. Ist hier der Wert 0, handelt es sich um einen weiblichen Patienten, ist der Wert 1 handelt es sich um einen männlichen."
   ]
  },
  {
   "cell_type": "markdown",
   "id": "0381de34",
   "metadata": {},
   "source": [
    "## 2.2 Einblick in den  Datensatz"
   ]
  },
  {
   "cell_type": "markdown",
   "id": "79468a31",
   "metadata": {},
   "source": [
    "### 2.2.1 grundlegende Informationen über den Datensatz"
   ]
  },
  {
   "cell_type": "code",
   "execution_count": null,
   "id": "dea045ce",
   "metadata": {
    "scrolled": false
   },
   "outputs": [],
   "source": [
    "df.info()"
   ]
  },
  {
   "cell_type": "markdown",
   "id": "38a800b3",
   "metadata": {},
   "source": [
    "### 2.2.1 Anzeige der ersten Zeilen"
   ]
  },
  {
   "cell_type": "code",
   "execution_count": null,
   "id": "08244ccb",
   "metadata": {
    "scrolled": true
   },
   "outputs": [],
   "source": [
    "pd.set_option('display.max_columns', None)\n",
    "df.head()"
   ]
  },
  {
   "cell_type": "markdown",
   "id": "1d565180",
   "metadata": {},
   "source": [
    "### 2.2.2 Anzeige der letzten Zeilen"
   ]
  },
  {
   "cell_type": "code",
   "execution_count": null,
   "id": "dae30ccf",
   "metadata": {
    "scrolled": true
   },
   "outputs": [],
   "source": [
    "# df.tail()"
   ]
  },
  {
   "cell_type": "markdown",
   "id": "8c3b3b5d",
   "metadata": {},
   "source": [
    "### 2.2.3 Größe des Datensatzes"
   ]
  },
  {
   "cell_type": "code",
   "execution_count": null,
   "id": "26caf6a3",
   "metadata": {
    "scrolled": true
   },
   "outputs": [],
   "source": [
    "print(f'Der Datensatz hat {df.shape[0]} Zeilen und {df.shape[1]} Spalten.')"
   ]
  },
  {
   "cell_type": "markdown",
   "id": "c0046963",
   "metadata": {},
   "source": [
    "### 2.2.4 Anzahl der einzigartigen Werte pro Feature"
   ]
  },
  {
   "cell_type": "code",
   "execution_count": null,
   "id": "e5ceebf6",
   "metadata": {
    "scrolled": true
   },
   "outputs": [],
   "source": [
    "df.nunique()"
   ]
  },
  {
   "cell_type": "markdown",
   "id": "80f5587c",
   "metadata": {},
   "source": [
    "## 2.3 Deskriptive Statistik im Datensatz"
   ]
  },
  {
   "cell_type": "code",
   "execution_count": null,
   "id": "8e956631",
   "metadata": {
    "scrolled": true
   },
   "outputs": [],
   "source": [
    "df.describe()"
   ]
  },
  {
   "cell_type": "markdown",
   "id": "ef9ac45a",
   "metadata": {},
   "source": [
    "## 2.4 Klassenverteilung im Datensatz bezüglich der Zielvariable"
   ]
  },
  {
   "cell_type": "code",
   "execution_count": null,
   "id": "58123676",
   "metadata": {
    "scrolled": true
   },
   "outputs": [],
   "source": [
    "Diabetes_valuecount = df['Diabetes'].value_counts()\n",
    "Diabetes_valuecount"
   ]
  },
  {
   "cell_type": "markdown",
   "id": "b11518e3",
   "metadata": {},
   "source": [
    "### 2.4.1 Visualisierung - Klassenverteilung im Datensatz"
   ]
  },
  {
   "cell_type": "markdown",
   "id": "71958648",
   "metadata": {},
   "source": [
    "Zur Visualisierung der Klassenverteilung im Datensatz bezüglich der Targetvariable 'Diabetes_012' wird im Folgenden ein **Pieplot** mittels der pie()-Funktion aus der matplotlib-library erstellt."
   ]
  },
  {
   "cell_type": "code",
   "execution_count": null,
   "id": "8970e88d",
   "metadata": {
    "scrolled": true
   },
   "outputs": [],
   "source": [
    "%matplotlib inline\n",
    "labels = ['Healthy', 'Diabetes']\n",
    "plt.pie(Diabetes_valuecount, labels=Diabetes_valuecount)\n",
    "plt.legend(labels)\n",
    "plt.title('Verteilung des Diabetes-Status')\n",
    "plt.show()"
   ]
  },
  {
   "cell_type": "markdown",
   "id": "15c49f34",
   "metadata": {},
   "source": [
    "### 2.4.2 Ergebnis (absolute Werte) - Klassenverteilung im Datensatz \n",
    "Der Datensatz ist **unausgewogen**. Das bedeutet, dass eine Klasse des Datensatzes gegenüber den anderen deutlich über-/unterrepräsentiert ist.\n",
    "\n",
    "213703 Personen im Datensatz haben kein Diabetes, 39977 Personen haben Diabetes."
   ]
  },
  {
   "cell_type": "markdown",
   "id": "dc8f6ffc",
   "metadata": {},
   "source": [
    "### 2.4.3 Ergebnis (prozentualer Anteil) - Klassenverteilung im Datensatz"
   ]
  },
  {
   "cell_type": "code",
   "execution_count": null,
   "id": "c910f887",
   "metadata": {
    "scrolled": true
   },
   "outputs": [],
   "source": [
    "# Funktion zur Berechnung der prozentualen Klassenverteilung im Datensatz\n",
    "\n",
    "def calc_prozentual_target(df):\n",
    "    # Shape \n",
    "    df_diab0 = df.loc[df['Diabetes'] == 0.0]\n",
    "    df_diab1 = df.loc[df['Diabetes'] == 1.0]\n",
    "\n",
    "    df_diab0_count = df_diab0.shape[0]\n",
    "    df_diab1_count = df_diab1.shape[0]\n",
    "\n",
    "    df_diab0_perc = round((df_diab0_count/df.shape[0])*100, 3)\n",
    "    df_diab1_perc = round((df_diab1_count/df.shape[0])*100, 3)\n",
    "    \n",
    "    diabetes_perc_list = [df_diab0_perc, df_diab1_perc]\n",
    "    \n",
    "    return diabetes_perc_list"
   ]
  },
  {
   "cell_type": "code",
   "execution_count": null,
   "id": "11244f17",
   "metadata": {
    "scrolled": true
   },
   "outputs": [],
   "source": [
    "diabetes_perc_df = calc_prozentual_target(df)\n",
    "print(f'Der vollständige Datensatz enthält {diabetes_perc_df[0]} % gesunde Patienten {diabetes_perc_df[1] }% Patienten mit Diabetes.')"
   ]
  },
  {
   "cell_type": "markdown",
   "id": "4435530c",
   "metadata": {},
   "source": [
    "## 2.5 Fehlende Werte"
   ]
  },
  {
   "cell_type": "markdown",
   "id": "127a39d5",
   "metadata": {},
   "source": [
    "Zur Visualisierung möglicher fehlender Werte im Datensatz wird eine **Missing-Data-Matrix** mithilfe der missingno-Bibliothek erstellt. Diese besteht aus schwarzen Balken für die jeweiligen Variablen. Mögliche fehlende Werte wären durch weiße Striche in den Balken gekennzeichnet."
   ]
  },
  {
   "cell_type": "markdown",
   "id": "ac440e50",
   "metadata": {},
   "source": [
    "##### Visualisierung - Fehlende Werte"
   ]
  },
  {
   "cell_type": "code",
   "execution_count": null,
   "id": "2e7a644b",
   "metadata": {
    "scrolled": true
   },
   "outputs": [],
   "source": [
    "%matplotlib inline\n",
    "msno.matrix(df)"
   ]
  },
  {
   "cell_type": "markdown",
   "id": "d30951f8",
   "metadata": {},
   "source": [
    "##### Ergebnis - Fehlende Werte"
   ]
  },
  {
   "cell_type": "code",
   "execution_count": null,
   "id": "e16431b4",
   "metadata": {
    "scrolled": true
   },
   "outputs": [],
   "source": [
    "print(f'Der Datensatz enthält {df.isnull().sum().sum()} fehlende Werte.')"
   ]
  },
  {
   "cell_type": "markdown",
   "id": "6896dcd5",
   "metadata": {},
   "source": [
    "Dies ist bereits in der Infotabelle unter Kapitel 2.2.1 zu erkennen, da bei keiner Variable die Anzahl von \"non-null\"-Werten von der Gesamtgröße des Datensatzes abweicht. In Kapitel 2.5.1 wird dies durch die graphische Veranschaulichung nochmals bestätigt. \n",
    "\n",
    "Da es sich beim Datensatz um einen bereits bereinigten Datensatz handelt, war dies bereits zu erwarten. Aufgrund der Vollständigkeit des Datensatzes ist eine weitere Behandlung möglicher fehlender Werte in Kap. 3 (Data Preparation) überflüssig.  "
   ]
  },
  {
   "cell_type": "markdown",
   "id": "424c5a26",
   "metadata": {
    "heading_collapsed": true
   },
   "source": [
    "## 2.6 Explorative Analyse des Datensatzes"
   ]
  },
  {
   "cell_type": "markdown",
   "id": "287ac39d",
   "metadata": {
    "hidden": true
   },
   "source": [
    "### 2.6.1 Visualisierung der mindestens ordinalskalierten Features in Abhängigkeit des Diabetesstatus\n",
    "Um eine erste Idee vom Datensatz und möglichen **Ausreißern** bei den Features zu bekommen, wird jeweils ein **Boxplot** für jede nicht binäre Variable erstellt. Die Voraussetzung, um einen Boxplot berechnen zu können, ist eine Variable, die **mindestens Ordinalskalen-Niveau** hat. Zur Erstellung der Boxplots wird die boxplot()-Funktion aus der seaborn-library verwendet.\n",
    "\n",
    "*https://www.statistikpsychologie.de/boxplot/#:~:text=Die%20Voraussetzung%2C%20um%20einen%20Boxplot,den%20Skalenniveaus%20findest%20du%20hier)*"
   ]
  },
  {
   "cell_type": "code",
   "execution_count": null,
   "id": "59dde8cd",
   "metadata": {
    "hidden": true,
    "scrolled": true
   },
   "outputs": [],
   "source": [
    "%matplotlib inline\n",
    "\n",
    "features_boxplots = ['Age', 'Education', 'Income', 'MentHlth', 'GenHlth', 'PhysHlth', 'BMI']\n",
    "\n",
    "fig, axes = plt.subplots(nrows=3, ncols=3, figsize=(15,15))\n",
    "\n",
    "row_count = 0\n",
    "col_count = 0\n",
    "\n",
    "for feature in features_boxplots:\n",
    "    sns.boxplot(ax=axes[row_count, col_count], data=df, x='Diabetes', y=feature, palette=['Green', 'Red'])\n",
    "    col_count += 1\n",
    "    if col_count > 2:\n",
    "        row_count += 1\n",
    "        col_count = 0\n",
    "\n",
    "fig.delaxes(axes[2,1])\n",
    "fig.delaxes(axes[2,2])"
   ]
  },
  {
   "cell_type": "markdown",
   "id": "778a3201",
   "metadata": {
    "hidden": true
   },
   "source": [
    "##### Interpretation - Boxplots"
   ]
  },
  {
   "cell_type": "code",
   "execution_count": null,
   "id": "a1b034c1",
   "metadata": {
    "hidden": true,
    "scrolled": true
   },
   "outputs": [],
   "source": [
    "# Erklärung, warum bei manchen Boxplots der Median nicht eingezeichnet ist"
   ]
  },
  {
   "cell_type": "markdown",
   "id": "d3bce1c7",
   "metadata": {
    "hidden": true
   },
   "source": [
    "### 2.6.2 Visualisierung der nominalskalierten Features in Abhängigkeit des Diabetesstatus\n",
    "Zur Darstellung der Verteilung der **nominalskalierten** Variablen werden im Folgenden einige Säulendiagramme erstellt."
   ]
  },
  {
   "cell_type": "code",
   "execution_count": null,
   "id": "8179fc77",
   "metadata": {
    "hidden": true,
    "scrolled": true
   },
   "outputs": [],
   "source": [
    "# Funktion zur Berechnung der bedingten Wahrscheinlichkeiten des Diabetes-Status unter bestimmten Bedingungen \n",
    "def create_diabetes_feature_tab(feature):\n",
    "    # DataFrame erstellen, der die Anzahl aller Zugehörigen eines Features unter der Bedinungen des Diabetes-Status enthält \n",
    "    diabetes_feature_count = df.groupby(['Diabetes', feature]).size().reset_index(name = 'Count')\n",
    "    # DataFrame erstellen, der die Anzahl aller Zugehörigen zum jeweiligen Diabetes-Typ enthält\n",
    "    diabetes_count_total = diabetes_feature_count.groupby(['Diabetes']).sum().Count\n",
    "    # gerade erstellte DataFrames zusammenfügen\n",
    "    diabetes_feature_count_tab = diabetes_feature_count.set_index('Diabetes').join(diabetes_count_total,rsuffix='_Diabetes')\n",
    "    # neue Spalte hinzufügen, die prozentualen Anteil von Personen einer Featureausprägung in Bezug auf jeweiligen Diabetestyp enthält\n",
    "    diabetes_feature_count_tab['Percentage'] = diabetes_feature_count_tab['Count']/diabetes_feature_count_tab['Count_Diabetes']\n",
    "    # Indizes des DataFrames zurücksetzen\n",
    "    diabetes_feature_count_tab.reset_index(inplace = True)\n",
    "    # Antworten leichter verständlich machen\n",
    "    diabetes_feature_count_tab['Diabetes'].replace({0.0: 'Healthy', 1.0: 'Diabetes'}, inplace=True)\n",
    "    diabetes_feature_count_tab[feature].replace({0.0: 'No', 1.0: 'Yes'}, inplace=True)\n",
    "    return diabetes_feature_count_tab"
   ]
  },
  {
   "cell_type": "code",
   "execution_count": null,
   "id": "540be5fc",
   "metadata": {
    "hidden": true,
    "scrolled": true
   },
   "outputs": [],
   "source": [
    "features_barplots = ['HighBP', 'HighChol', 'CholCheck', 'Smoker', 'Stroke','HeartDiseaseorAttack', 'Fruits', 'Veggies', \n",
    "                     'AnyHealthcare', 'NoDocbcCost', 'DiffWalk', 'Gender_male']\n",
    "\n",
    "fig, axes = plt.subplots(3, 4, figsize=(20,20))\n",
    "\n",
    "row_count = 0\n",
    "col_count = 0\n",
    "\n",
    "for feature in features_barplots:\n",
    "    diabetes_feature_count_tab = create_diabetes_feature_tab(feature)\n",
    "    sns.barplot(x='Diabetes', y='Percentage', hue=feature, data=diabetes_feature_count_tab, ax=axes[row_count, col_count])\n",
    "    col_count += 1\n",
    "    if col_count > 3:\n",
    "        row_count += 1\n",
    "        col_count = 0"
   ]
  },
  {
   "cell_type": "markdown",
   "id": "c906b279",
   "metadata": {
    "hidden": true
   },
   "source": [
    "### 2.6.3 Visualisierung der metrischen Features in Abhängigkeit des Diabetesstatus"
   ]
  },
  {
   "cell_type": "code",
   "execution_count": null,
   "id": "7018f4d7",
   "metadata": {
    "hidden": true,
    "scrolled": true
   },
   "outputs": [],
   "source": [
    "features_kdeplot = ['BMI', 'MentHlth', 'PhysHlth', 'PhysActivity']\n",
    "\n",
    "fig, axes = plt.subplots(nrows=2, ncols=2, figsize=(15,15))\n",
    "\n",
    "row_count = 0\n",
    "col_count = 0\n",
    "\n",
    "for feature in features_kdeplot:\n",
    "    sns.kdeplot(ax=axes[row_count, col_count], data=df, x=feature, hue='Diabetes', legend=False, palette=['Green', 'Red'])\n",
    "    axes[row_count,col_count].legend(title='Diabetes_Type', loc='upper right', labels=['Healthy', 'Diabetes'])\n",
    "    col_count += 1\n",
    "    if col_count == 2:\n",
    "        row_count += 1\n",
    "        col_count = 0\n",
    "      \n",
    "plt.show()"
   ]
  },
  {
   "cell_type": "markdown",
   "id": "c66d694a",
   "metadata": {
    "hidden": true
   },
   "source": [
    "### 2.6.4 Nähere Betrachtung einiger Features"
   ]
  },
  {
   "cell_type": "markdown",
   "id": "ccb0ec8a",
   "metadata": {},
   "source": [
    "#### 2.6.4.1 High Cholesterol vs. Cholesterol Check"
   ]
  },
  {
   "cell_type": "code",
   "execution_count": null,
   "id": "9663f0d2",
   "metadata": {
    "hidden": true,
    "scrolled": true
   },
   "outputs": [],
   "source": [
    "# sns.barplot(x='HighChol', hue='CholCheck', data=df)\n",
    "# distplot\n",
    "# Plot Age vs. Gender"
   ]
  },
  {
   "cell_type": "markdown",
   "id": "de92266a",
   "metadata": {},
   "source": [
    "## 2.7 statistische Zusammenhänge zwischen den Variablen"
   ]
  },
  {
   "cell_type": "markdown",
   "id": "5f3aa301",
   "metadata": {},
   "source": [
    "### 2.7.1 Zusammenhang zwischen numerischen Inputs und kategorischem Output"
   ]
  },
  {
   "cell_type": "markdown",
   "id": "0c0b46c2",
   "metadata": {},
   "source": [
    "#### 2.7.1.1 Kendall'scher Rangkorrelationskoeffizient"
   ]
  },
  {
   "cell_type": "code",
   "execution_count": null,
   "id": "cfe88859",
   "metadata": {
    "scrolled": true
   },
   "outputs": [],
   "source": [
    "df_ordinal_or_more = df[['BMI', 'PhysActivity', 'GenHlth', 'MentHlth', 'PhysHlth', 'Age', 'Education', 'Income']]\n",
    "\n",
    "fig = plt.figure(figsize=(10,10))\n",
    "sns.heatmap(df_ordinal_or_more.corr(method='kendall'), vmin=-1, vmax=1, cmap='PiYG', annot=True, linewidths=1)\n",
    "plt.show()"
   ]
  },
  {
   "cell_type": "markdown",
   "id": "1d6ac6d3",
   "metadata": {},
   "source": [
    "#### 2.7.1.2 Analysis of Variance (ANOVA)"
   ]
  },
  {
   "cell_type": "markdown",
   "id": "96ff0f13",
   "metadata": {},
   "source": [
    "### 2.7.2 Zusammenhang zwischen kategorischen Inputs und kategorischem Output"
   ]
  },
  {
   "cell_type": "code",
   "execution_count": null,
   "id": "602cdbf1",
   "metadata": {
    "scrolled": true
   },
   "outputs": [],
   "source": [
    "# Erklärung welche Methoden hierfür verwendet werden dürfen"
   ]
  },
  {
   "cell_type": "code",
   "execution_count": null,
   "id": "a674a592",
   "metadata": {
    "scrolled": true
   },
   "outputs": [],
   "source": [
    "# kategorisch = kategorial?"
   ]
  },
  {
   "cell_type": "markdown",
   "id": "e5c2ec0f",
   "metadata": {},
   "source": [
    "#### 2.7.2.1 Chi-Quadrat-Test"
   ]
  },
  {
   "cell_type": "code",
   "execution_count": null,
   "id": "b3aee227",
   "metadata": {
    "scrolled": true
   },
   "outputs": [],
   "source": [
    "# Erklärung zum Chi-Quadrat-Test einfügen, kurz beschreiben warum Heatmap gewählt wurde\n",
    "# Skalenniveaus überprüfen"
   ]
  },
  {
   "cell_type": "code",
   "execution_count": null,
   "id": "58658ac0",
   "metadata": {
    "scrolled": true
   },
   "outputs": [],
   "source": [
    "categorical_features_list = ['Diabetes', 'HighBP', 'HighChol', 'CholCheck', 'Smoker', 'Stroke', 'HeartDiseaseorAttack',\n",
    "                        'Fruits', 'Veggies', 'HvyAlcoholConsump', 'AnyHealthcare', 'NoDocbcCost', 'GenHlth', 'DiffWalk',\n",
    "                       'Gender_male', 'Age', 'Education', 'Income']\n",
    "\n",
    "chisqmatrix = pd.DataFrame(columns=categorical_features_list, index=categorical_features_list)\n",
    "\n",
    "for i in categorical_features_list:\n",
    "    for j in categorical_features_list:\n",
    "        if i != j:\n",
    "            chi2_val, p_val = chi2(np.array(df[i]).reshape(-1,1), np.array(df[j]).reshape(-1,1))\n",
    "            chisqmatrix.loc[i, j] = p_val\n",
    "        else:\n",
    "            chisqmatrix.loc[i, j] = 0.0"
   ]
  },
  {
   "cell_type": "markdown",
   "id": "d2e57d75",
   "metadata": {},
   "source": [
    "##### Visualisierung - Chi-Quadrat-Test"
   ]
  },
  {
   "cell_type": "code",
   "execution_count": null,
   "id": "dba1186c",
   "metadata": {
    "scrolled": true
   },
   "outputs": [],
   "source": [
    "fig = plt.figure(figsize=(25,20))\n",
    "sns.heatmap(chisqmatrix.astype(np.float64), annot=True, linewidths=5, vmin=0, vmax=1, cmap='coolwarm')\n",
    "plt.show()"
   ]
  },
  {
   "cell_type": "code",
   "execution_count": null,
   "id": "e15cf0b6",
   "metadata": {
    "scrolled": true
   },
   "outputs": [],
   "source": [
    "# chi2(np.array(df['HighChol']).reshape(-1,1), np.array(df['CholCheck']).reshape(-1,1))"
   ]
  },
  {
   "cell_type": "markdown",
   "id": "873980a9",
   "metadata": {},
   "source": [
    "##### Interpretation - Chi-Quadrat-Test"
   ]
  },
  {
   "cell_type": "code",
   "execution_count": null,
   "id": "81da8bc3",
   "metadata": {
    "scrolled": true
   },
   "outputs": [],
   "source": [
    "# viele niedrige Werte wegen großer Stichprobenanzahl (s. Datatab)"
   ]
  },
  {
   "cell_type": "markdown",
   "id": "5965b168",
   "metadata": {},
   "source": [
    "##### Quellen zum Code (Chi-Quadrat-Test) \n",
    "*https://medium.com/analytics-vidhya/constructing-heat-map-for-chi-square-test-of-independence-6d78aa2b140f*\n",
    "*https://www.analyticsvidhya.com/blog/2021/06/decoding-the-chi-square-test%E2%80%8A-%E2%80%8Ause-along-with-implementation-and-visualization/*\n",
    "\n",
    "##### weitere Quellen (Chi-Quadrat-Test)\n",
    "*https://datatab.de/tutorial/chi-quadrat*"
   ]
  },
  {
   "cell_type": "markdown",
   "id": "4bf1e4b7",
   "metadata": {},
   "source": [
    "# 3. Data Preparation"
   ]
  },
  {
   "cell_type": "code",
   "execution_count": null,
   "id": "8dbffcc1",
   "metadata": {
    "scrolled": true
   },
   "outputs": [],
   "source": [
    "# evtl. Variante einfügen, in der BMI, PhysActivity, PhysHlth, MentHlth nochmals gruppiert sind --> Sensititvitätsanalyse\n",
    "# evtl. auch binäre Klassifikation testen (Nein = 0.0, Ja = 1.0+2.0)"
   ]
  },
  {
   "cell_type": "markdown",
   "id": "65f5756f",
   "metadata": {},
   "source": [
    "## 3.1 Data Cleaning"
   ]
  },
  {
   "cell_type": "markdown",
   "id": "17c5131d",
   "metadata": {},
   "source": [
    "### 3.1.1 Duplikate entfernen"
   ]
  },
  {
   "cell_type": "markdown",
   "id": "42e4b70a",
   "metadata": {},
   "source": [
    "Im Bereich des Machine Learnings können **doppelte Feature Vektoren** aus verschiedenen Gründen **problematisch** werden. Fällt zum Beispiel eine Zeile nach dem Split in den Trainingsdatensatz und die andere, gleiche Zeile in den Testdatensatz, so hat das Modell diese Daten bereits gesehen. Hierdurch wird das anschließende Ergebnis verzerrt. (*https://deepchecks.com/what-is-data-cleaning/*) Hierbei könnten doppelte Zeilen im Datensatz zu **Overfitting** führen, wenn das Modell mehrmals mit den gleichen Daten trainiert wird. Um dies zu verhindern werden die Duplikate aus dem \"Diabetes Health Indicators\" Datensatz ausfindig gemacht und **entfernt**."
   ]
  },
  {
   "cell_type": "code",
   "execution_count": null,
   "id": "fe4f2726",
   "metadata": {
    "scrolled": true
   },
   "outputs": [],
   "source": [
    "# Anzahl der Zeilen im unbereinigten Datensatz\n",
    "print(f'Der unbereinigte Datensatz umfasst {df.shape[0]} Feature Vektoren.')"
   ]
  },
  {
   "cell_type": "code",
   "execution_count": null,
   "id": "1abfcf9a",
   "metadata": {
    "scrolled": true
   },
   "outputs": [],
   "source": [
    "duplicates = df[df.duplicated()]\n",
    "print(f'Davon sind {len(duplicates)} Zeilen doppelt.')"
   ]
  },
  {
   "cell_type": "code",
   "execution_count": null,
   "id": "c56bc36a",
   "metadata": {
    "scrolled": true
   },
   "outputs": [],
   "source": [
    "# Ausgabe der doppelten Zeilen\n",
    "duplicates"
   ]
  },
  {
   "cell_type": "code",
   "execution_count": null,
   "id": "e12701fb",
   "metadata": {
    "scrolled": true
   },
   "outputs": [],
   "source": [
    "# doppelte Zeilen werden entfernt\n",
    "df.drop_duplicates(inplace = True)"
   ]
  },
  {
   "cell_type": "code",
   "execution_count": null,
   "id": "045f8a37",
   "metadata": {
    "scrolled": true
   },
   "outputs": [],
   "source": [
    "# Anzahl der Zeilen im bereinigten Datensatz\n",
    "print(f'Der bereinigte Datensatz beinhaltet noch die Daten von {df.shape[0]} Patienten.')"
   ]
  },
  {
   "cell_type": "code",
   "execution_count": null,
   "id": "a89cebe9",
   "metadata": {
    "scrolled": true
   },
   "outputs": [],
   "source": [
    "df_dup_removed_diab_perc_list = calc_prozentual_target(df)\n",
    "\n",
    "print(f'Der bereinigte Datensatz enthält {diabetes_perc_df[0]} % gesunde Patienten und {diabetes_perc_df[1] }% Patienten mit Diabetes.')"
   ]
  },
  {
   "cell_type": "markdown",
   "id": "635636e6",
   "metadata": {},
   "source": [
    "##### Zusammenfassung - Doppelte Zeilen entfernen"
   ]
  },
  {
   "cell_type": "markdown",
   "id": "a29b99bb",
   "metadata": {},
   "source": [
    "Obwohl die Unbalanciertheit des Datensatzes durch das Entfernen der doppelten Zeilen etwas vergrößert wird, sprechen unter anderem die oben genanneten Gründe dafür, sie zur weiteren Bearbeitung aus dem Datensatz zu entfernen. "
   ]
  },
  {
   "cell_type": "markdown",
   "id": "23b46854",
   "metadata": {},
   "source": [
    "### 3.1.2 Unplausible Werte"
   ]
  },
  {
   "cell_type": "markdown",
   "id": "664041db",
   "metadata": {},
   "source": [
    "Aus dem unteren Boxplot in Kap. 2.5.1 und der Informationstabelle, die in Kap. 2.3 mithilfe von df.describe() erstellt wurde, lässt sich ein Maximalwert des BMI von 98 kg/m² erkennen. Da man laut der deutschen Adipositas Gesellschaft bereits ab einem BMI über 40kg/m² unter Adipositas Grad III fällt, sind Werte ab einem BMI über 60kg/m² als kritisch einzustufen. (*https://adipositas-gesellschaft.de/bmi/*) Gleiches gilt für den Minimalwert des BMI, der im Datensatz bei 12 kg/m² liegt. Generell gilt ein BMI von unter 14,5 kg/m² als lebensgefährlich. Aus diesem Grund werden Patienten mit einem BMI unter 14 kg/m² aus dem Datensatz entfernt."
   ]
  },
  {
   "cell_type": "code",
   "execution_count": null,
   "id": "80ee1ce2",
   "metadata": {
    "scrolled": true
   },
   "outputs": [],
   "source": [
    "lower_crit_value_bmi = 14\n",
    "upper_crit_value_bmi = 60\n",
    "\n",
    "df_low_bmi = df.loc[df['BMI'] < lower_crit_value_bmi]\n",
    "df_high_bmi = df.loc[df['BMI'] > upper_crit_value_bmi]\n",
    "\n",
    "print(f'Der Datensatz enthält {df_low_bmi.shape[0]} Patienten mit einem kritischen BMI von unter {lower_crit_value_bmi} kg/m² und {df_high_bmi.shape[0]} Patienten mit einem kritischen BMI von\\nüber {upper_crit_value_bmi} kg/m².')"
   ]
  },
  {
   "cell_type": "markdown",
   "id": "1e87ed09",
   "metadata": {},
   "source": [
    "Die Patienten mit einem kritisch hohen BMI verbleiben vorerst im Datensatz, da solch hohe BMI-Werte in der Realitiät tatsächlich vorkommen können. Nachdem allerdings ein BMI von unter 14,5 kg/m² als lebensgefährlich gilt, werden Patienten mit einem BMI von unter 14 kg/m² aus dem Datensatz entfernt."
   ]
  },
  {
   "cell_type": "markdown",
   "id": "c28e5f13",
   "metadata": {},
   "source": [
    "##### Entfernen der Featurevektoren mit kritischem BMI (niedrig)"
   ]
  },
  {
   "cell_type": "code",
   "execution_count": null,
   "id": "d273eed0",
   "metadata": {
    "scrolled": true
   },
   "outputs": [],
   "source": [
    "df.drop(df_low_bmi.index, axis=0, inplace=True)"
   ]
  },
  {
   "cell_type": "code",
   "execution_count": null,
   "id": "d2fe4b8b",
   "metadata": {
    "scrolled": true
   },
   "outputs": [],
   "source": [
    "df.shape"
   ]
  },
  {
   "cell_type": "code",
   "execution_count": null,
   "id": "80359a8a",
   "metadata": {
    "scrolled": true
   },
   "outputs": [],
   "source": [
    "# Sensitivitätsanalyse mit und ohne Patienten mit hohem BMI"
   ]
  },
  {
   "cell_type": "markdown",
   "id": "68228e11",
   "metadata": {},
   "source": [
    "## 3.2 Vorbereitung des Modellings"
   ]
  },
  {
   "cell_type": "markdown",
   "id": "391a0ea7",
   "metadata": {},
   "source": [
    "Für anschließende Vorgänge in der Vorbereitung des Modellings und im Modelling selbst kann es nützlich sein, den Datensatz in Features (x-Werte) und Target (y-Wert) aufzuteilen. Da im weiteren Verlauf eine erneute Trennung des Datensatzes in x- und y-Werte erforderlich sein kann, z.B. nach der Skalierung, werden im Folgenden zwei Funktionen hierfür implementiert."
   ]
  },
  {
   "cell_type": "code",
   "execution_count": null,
   "id": "e6ee2764",
   "metadata": {
    "scrolled": true
   },
   "outputs": [],
   "source": [
    "def get_x_values(df):\n",
    "    x_values = df.drop(['Diabetes'], axis='columns')\n",
    "    return x_values\n",
    "\n",
    "def get_y_value(df):\n",
    "    y_value = df['Diabetes']\n",
    "    return y_value\n",
    "\n",
    "x_values = get_x_values(df)\n",
    "y_value = get_y_value(df)"
   ]
  },
  {
   "cell_type": "markdown",
   "id": "d1f37a09",
   "metadata": {},
   "source": [
    "### 3.2.1 Umgang mit kategorischen Daten"
   ]
  },
  {
   "cell_type": "markdown",
   "id": "d4cd4456",
   "metadata": {},
   "source": [
    "Da ein **Machine Learning Algorithmus** immer besser mit **numerischen Werten** arbeiten kann, als mit kategorischen Variablen. Aus diesem Grund müssen kategorische Daten häufig speziell für das Modelling vorbereitet werden, indem die kategorischen Werte in numerische Werte **umgewandelt** werden. Dies gilt vor allem für die Features, für manche Machine Learning-Algorithmen, vor allem im Bereich des Deep Learnings, aber auch für die Targetvariable. Allerdings muss die Targetvariable nur im Fall der Multiclass-Klassifikation umgewandelt werden. \n",
    "\n",
    "Generell gelten für das OneHot Encoding von kategorischen Daten noch einige Zusätze. Variablen, die als Ausprägungen nur die Werte **0 und 1** annehmen können, müssen **nicht umgewandelt** werden. Hier reicht eine genaue Bezeichnung für die Variable, um den Wert darstellen zu können. Ein Beispiel hier wäre, dass man beim Geschlecht nicht zwei Variablen (eine für männlich und eine für weiblich braucht), sondern bspw. männlich ausreichend ist. Beim vorliegenden Datensatz ist nämlich klar, dass es sich um einen weiblichen Patienten handelt, falls der Wert für 'Male' 0 ist, da es keine Ausprägung für divers gibt.\n",
    "\n",
    "Zudem muss beachtet werden, dass Variablen, deren Ausprägungen eine vorgegebene Rangordnung (mit gleichen Min-Max-Abständen) haben, nicht unbedingt umgewandelt werden müssen. Beim vorliegenden Datensatz wird zum Beispiel die Variable 'Age' nicht umgewandelt, da jede Altersklasse ungefähr gleich groß ist (5-7 Jahre) und somit eine feste Rangordnung zwischen den einzelnen Klassen besteht, die für die Vorhersage von Diabetes eine wichtige Rolle spielt. Ähnliches gilt in diesem Fall für das Feature 'Income', obwohl dort die Klassen teilweise unterschiedliche Spannen aufweisen.\n",
    "\n",
    "Anders verhält es sich mit den Variablen 'GenHlth', 'Education'. Hier liegen keine fest definierten Abstände vor, weshalb auch keine klare Rangordnung gebildet werden kann, mit der der Algorithmus rechnen kann. Diese werden deshalb umgewandelt. In einem späteren Kapitel wird hierzu auch eine Sensitivitätsanalyse durchgeführt."
   ]
  },
  {
   "cell_type": "code",
   "execution_count": null,
   "id": "4ad95466",
   "metadata": {
    "scrolled": true
   },
   "outputs": [],
   "source": [
    "features_to_encode = [\"GenHlth\",\"Education\", \"Income\"]\n",
    "one_hot = pd.get_dummies(df, columns = features_to_encode, drop_first=True)\n",
    "df_with_removed_features = df.drop(features_to_encode,axis = 1)"
   ]
  },
  {
   "cell_type": "code",
   "execution_count": null,
   "id": "2821bcd9",
   "metadata": {
    "scrolled": true
   },
   "outputs": [],
   "source": [
    "df_encoded = pd.concat([df_with_removed_features, one_hot], axis=1)"
   ]
  },
  {
   "cell_type": "code",
   "execution_count": null,
   "id": "ec7332a7",
   "metadata": {
    "scrolled": true
   },
   "outputs": [],
   "source": [
    "pd.set_option('display.max_columns', None)\n",
    "df_encoded"
   ]
  },
  {
   "cell_type": "markdown",
   "id": "ad7b8dc5",
   "metadata": {},
   "source": [
    "##### x- und y-Werte für den encodeden Datensatz"
   ]
  },
  {
   "cell_type": "code",
   "execution_count": null,
   "id": "f8135eda",
   "metadata": {},
   "outputs": [],
   "source": [
    "df_encoded_minmax = scale_df(df_encoded, MinMaxScaler())\n",
    "x_values_encoded_mm = get_x_values(df_encoded_minmax)"
   ]
  },
  {
   "cell_type": "markdown",
   "id": "d2361a07",
   "metadata": {},
   "source": [
    "##### Quellen (Umgang mit kategorischen Daten)\n",
    "*https://analyticsindiamag.com/when-to-use-one-hot-encoding-in-deep-learning/#:~:text=One%20hot%20encoding%20can%20be,classification%20accuracy%20of%20a%20model.*\n",
    "\n",
    "*https://machinelearningmastery.com/why-one-hot-encode-data-in-machine-learning/*\n",
    "\n",
    "*https://machinelearningmastery.com/one-hot-encoding-for-categorical-data/*\n",
    "\n",
    "*Sarkar, Bali, Sharma (2018): Practical Machine Learning with Python, S.204. Apress.*"
   ]
  },
  {
   "cell_type": "markdown",
   "id": "ba5510d0",
   "metadata": {},
   "source": [
    "### 3.2.2 Oversampling/ Undersampling"
   ]
  },
  {
   "cell_type": "code",
   "execution_count": null,
   "id": "7c342f74",
   "metadata": {
    "scrolled": true
   },
   "outputs": [],
   "source": [
    "# Sensitivitätsanalyse --> Oversampling+kFold vs. StratifiedKFold"
   ]
  },
  {
   "cell_type": "code",
   "execution_count": null,
   "id": "d4550e12",
   "metadata": {
    "scrolled": true
   },
   "outputs": [],
   "source": [
    "# compute_class_weight --> parameter 'class_weight'"
   ]
  },
  {
   "cell_type": "markdown",
   "id": "11f10b58",
   "metadata": {},
   "source": [
    "*https://towardsdatascience.com/machine-learning-multiclass-classification-with-imbalanced-data-set-29f6a177c1a*"
   ]
  },
  {
   "cell_type": "markdown",
   "id": "7d2bf2ce",
   "metadata": {},
   "source": [
    "### 3.2.3 Feature Scaling"
   ]
  },
  {
   "cell_type": "markdown",
   "id": "50313f54",
   "metadata": {},
   "source": [
    "#### 3.2.3.1 Einführung in das Thema Feature Scaling"
   ]
  },
  {
   "cell_type": "markdown",
   "id": "ac94f5d9",
   "metadata": {},
   "source": [
    "Wenn ein Modell mit unskalierten Daten trainiert wird, bei dem einige Features einen (deutlich) größeren Wertebereich haben, als andere, kann es beim Training des Modells dazu führen, dass diese Features einen größeren Einfluss auf den Ausgang des Modells haben. Obwohl ein paar Machine-Learning-Algorithmen, wie z.B. baumbasierte Methoden, auch ohne Feature Scaling auskommen, ist es üblich, diese vor dem Modelling zu skalieren. Dies gilt besonders, wenn man viele verschiedene Machine Learning Algorithmen testen und vergleichen will. (*Sarkar, Bali, Sharma (2018): Practical Machine Learning with Python, S.239. Apress.*)\n",
    "\n",
    "Im Folgenden wird eine Funktion scale_df() implementiert, die einen DataFrame und eine Scaling-Methode entgegen nimmt, und den skalierten Datensatz zurückgibt. Diese wird im Modelling an geeigneter Stelle eingesetzt, um die **Daten zu skalieren**. "
   ]
  },
  {
   "cell_type": "code",
   "execution_count": null,
   "id": "c6ddd6d1",
   "metadata": {
    "scrolled": true
   },
   "outputs": [],
   "source": [
    "# es gibt verschiedene Methoden zum Skalieren der Features"
   ]
  },
  {
   "cell_type": "code",
   "execution_count": null,
   "id": "c2a04fbd",
   "metadata": {
    "scrolled": true
   },
   "outputs": [],
   "source": [
    "def scale_df(df, scaler_method):\n",
    "    scaler = scaler_method\n",
    "    scaled_data = scaler.fit_transform(df)\n",
    "    df_scaled = pd.DataFrame(scaled_data, columns = df.columns)\n",
    "    return df_scaled"
   ]
  },
  {
   "cell_type": "markdown",
   "id": "0083f180",
   "metadata": {},
   "source": [
    "#### 3.2.3.2 Vorbereitung - Feature Scaling"
   ]
  },
  {
   "cell_type": "markdown",
   "id": "899ac239",
   "metadata": {},
   "source": [
    "Genauso wie es wichtig ist das Modell mit unbekannten Testdaten zu testen, ist es auch wichtig, das Scaling innerhalb des Splits durchzuführen. *(Computing cross-validated metrics, 3.1.1 https://scikit-learn.org/stable/modules/cross_validation.html)* Anderenfalls könnte das Skalieren des gesamten Datensatzes dazu führen, dass Informationen aus dem Datensatz noch vor dem Test in das Modell geraten und das anschließende Ergebnis verzerren.\n",
    "\n",
    "Im Folgenden wird innerhalb eines ersten Stratified KFold-Splits analysiert, ob verschiedene statistische Werte beim Skalieren der Daten in den verschiedenen Folds voneinander abweichen. Falls das nicht der Fall ist, kann das Scaling trotzdem auf den gesamten Datensatz angewendet werden. Darüber hinaus kann es hilfreich sein, um einen Eindruck über die Güte des gewählten Splits zu erhalten."
   ]
  },
  {
   "cell_type": "code",
   "execution_count": null,
   "id": "3234d707",
   "metadata": {
    "scrolled": true
   },
   "outputs": [],
   "source": [
    "def create_df_scaling_cv_feature(x_values, y_value, scaler):\n",
    "    features = list(x_values.columns)\n",
    "    df_column_names = ['Feature', 'Split', 'Train_Minima', 'Test_Minima', 'Train_Maxima', 'Test_Maxima']\n",
    "    df_scaled_values = pd.DataFrame(columns=df_column_names)\n",
    "    split_counter = 1\n",
    "    skf = StratifiedKFold(n_splits=10, shuffle=True, random_state=42)\n",
    "    for train_index, test_index in skf.split(x_values, y_value):\n",
    "        X_train, X_test = x_values.iloc[train_index], x_values.iloc[test_index]\n",
    "        y_train, y_test = y_value.iloc[train_index], y_value.iloc[test_index]\n",
    "        scaler = scaler\n",
    "        scaled_train = scaler.fit_transform(X_train)\n",
    "        scaled_test = scaler.transform(X_test)\n",
    "        df_scaled_train = pd.DataFrame(scaled_train, columns=features)\n",
    "        df_scaled_test = pd.DataFrame(scaled_test, columns=features)\n",
    "        for idx, feature in enumerate(features):\n",
    "            row_counter = (split_counter-1)*len(features) + idx\n",
    "            df_scaled_values.at[row_counter, 'Split'] = split_counter\n",
    "            df_scaled_values.at[row_counter, 'Feature'] = feature\n",
    "            df_scaled_values.at[row_counter, 'Train_Minima'] = df_scaled_train.iloc[:, idx].min()\n",
    "            df_scaled_values.at[row_counter, 'Train_Maxima'] = df_scaled_train.iloc[:, idx].max()\n",
    "            df_scaled_values.at[row_counter, 'Test_Minima'] = df_scaled_test.iloc[:, idx].min()\n",
    "            df_scaled_values.at[row_counter, 'Test_Maxima'] = df_scaled_test.iloc[:, idx].max()\n",
    "        split_counter += 1 \n",
    "    df_scaled_values.sort_values(by=['Feature', 'Split'], inplace=True)\n",
    "    return df_scaled_values"
   ]
  },
  {
   "cell_type": "markdown",
   "id": "20df0ba1",
   "metadata": {},
   "source": [
    "##### Vergleich der Minima und Maxima bei Scaling mit dem MinMaxScaler innerhalb eines StratifiedKFold-Splits"
   ]
  },
  {
   "cell_type": "code",
   "execution_count": null,
   "id": "3609904b",
   "metadata": {
    "scrolled": true
   },
   "outputs": [],
   "source": [
    "pd.set_option('display.max_rows', None)\n",
    "df_minmax_scaler_cv = create_df_scaling_cv_feature(x_values, y_value, MinMaxScaler())\n",
    "df_minmax_scaler_cv"
   ]
  },
  {
   "cell_type": "code",
   "execution_count": null,
   "id": "4f8aa720",
   "metadata": {
    "scrolled": true
   },
   "outputs": [],
   "source": [
    "# Ungenauigkeiten zwischen den Splits nur bei BMI --> evtl. Ausreißer überprüfen"
   ]
  },
  {
   "cell_type": "markdown",
   "id": "ea8910c6",
   "metadata": {},
   "source": [
    "##### Vergleich der Minima und Maxima bei Scaling mit dem StandardScaler innerhalb eines StratifiedKFold-Splits"
   ]
  },
  {
   "cell_type": "code",
   "execution_count": null,
   "id": "55559e4e",
   "metadata": {},
   "outputs": [],
   "source": [
    "pd.set_option('display.max_rows', None)\n",
    "df_minmax_scaler_cv = create_df_scaling_cv_feature(x_values, y_value, StandardScaler())\n",
    "df_minmax_scaler_cv"
   ]
  },
  {
   "cell_type": "markdown",
   "id": "0b79d1b6",
   "metadata": {},
   "source": [
    "#### 3.2.3.3 Interpretation (Vorbereitung - Feature Scaling)"
   ]
  },
  {
   "cell_type": "markdown",
   "id": "6070f62d",
   "metadata": {},
   "source": [
    "Es ist zu erkennen, dass weder die Minimal-, noch die Maximalwerte der skalierten Daten (sowohl mit dem StandardScaler(), als auch mit dem MinMaxScaler()) bei einem StratifiedKFold-Split mit 10 Folds deutlich voneinander abweichen. Hierdurch ist es möglich, die Daten bereits vor dem Modelling mithilfe des ganzen Datensatzes durchzuführen, ohne dass es zu Verzerrungen des Modells kommt. Ein Grund hierfür könnte beispielsweise der relativ große Umfang des Datensatzes sein. Darüber hinaus kann dies ein erstes Indiz dafür sein, dass der Split (StratifiedKFold mit 10 Folds) an dieser Stelle richtig gewählt wurde."
   ]
  },
  {
   "cell_type": "markdown",
   "id": "94472fc3",
   "metadata": {},
   "source": [
    "#### 3.2.3.4 Feature Scaling - Standartisieren mit dem StandardScaler"
   ]
  },
  {
   "cell_type": "code",
   "execution_count": null,
   "id": "1b2cdf34",
   "metadata": {
    "scrolled": true
   },
   "outputs": [],
   "source": [
    "# Erklärung StandardScaler"
   ]
  },
  {
   "cell_type": "code",
   "execution_count": null,
   "id": "64bc69a8",
   "metadata": {
    "scrolled": true
   },
   "outputs": [],
   "source": [
    "df_scaled_ss = scale_df(df, StandardScaler())\n",
    "df_scaled_ss"
   ]
  },
  {
   "cell_type": "markdown",
   "id": "d5d46f18",
   "metadata": {},
   "source": [
    "##### x- und y-Werte (StandardScaler)"
   ]
  },
  {
   "cell_type": "code",
   "execution_count": null,
   "id": "10b58276",
   "metadata": {
    "scrolled": true
   },
   "outputs": [],
   "source": [
    "x_values_ss = get_x_values(df_scaled_ss)\n",
    "y_value_ss = get_y_value(df_scaled_ss)"
   ]
  },
  {
   "cell_type": "markdown",
   "id": "9d2659ce",
   "metadata": {},
   "source": [
    "#### 3.2.3.5 Feature Scaling - Normalisieren mit dem MinMaxScaler"
   ]
  },
  {
   "cell_type": "code",
   "execution_count": null,
   "id": "1e64a347",
   "metadata": {
    "scrolled": true
   },
   "outputs": [],
   "source": [
    "# Erklärung MinMaxScaler"
   ]
  },
  {
   "cell_type": "code",
   "execution_count": null,
   "id": "761a4106",
   "metadata": {
    "scrolled": true
   },
   "outputs": [],
   "source": [
    "df_scaled_minmax = scale_df(df, MinMaxScaler())\n",
    "df_scaled_minmax"
   ]
  },
  {
   "cell_type": "markdown",
   "id": "93740e03",
   "metadata": {},
   "source": [
    "##### x- und y-Werte (MinMaxScaler)"
   ]
  },
  {
   "cell_type": "code",
   "execution_count": 51,
   "id": "8daca636",
   "metadata": {
    "scrolled": true
   },
   "outputs": [],
   "source": [
    "x_values_mm = get_x_values(df_scaled_minmax)\n",
    "y_value_mm = get_y_value(df_scaled_minmax)"
   ]
  },
  {
   "cell_type": "markdown",
   "id": "15a7ed7c",
   "metadata": {},
   "source": [
    "## 3.3 Feature Selection"
   ]
  },
  {
   "cell_type": "markdown",
   "id": "7e2f0196",
   "metadata": {},
   "source": [
    "Ein weiterer wichtiger Schritt, der bereits zu Beginn des Modellings eine Rolle spielen kann ist die Feature Selection. Hierbei versucht man die Features ausfindig zu machen, die den größten Einfluss auf die vorhergesagte Klasse der Targetvariable haben. Dies ist nötig, da eine große Anzahl von Features dazu führen kann, dass das Modell komplexer und schwerer zu interpretieren wird. (*Sarkar, Bali, Sharma (2018): Practical Machine Learning with Python, S.242. Apress.*) Feature Selection wird im Allgemeinen angewendet, um Overfitting zu vermeiden, die Accuracy zu erhöhen, und die Trainingsdauer zu minimieren. (*https://machinelearningmastery.com/feature-selection-machine-learning-python/*) Zur Berechung der Feature Importance stehen einem verschiedene Methoden zur Verfügung. Im Allgemeinen werden zur tatsächlichen Auswahl geeigneter Features mehrere dieser Möglichkeiten durchgeführt und anschließend das Gesamtergebnis interpretiert. Ähnlich wie beim Scaling der Features bietet es sich an, die Feature Selection vorerst im Rahmen eines Splits durchzuführen. Auch dieser Schritt zählt zur Vorbereitung des Modellings und müsste eigentlich ein Unterpunkt von Kapitel 3.2 sein, ist aber so umfangreich, dass er hier ein eigenes Teilkapitel bekommt."
   ]
  },
  {
   "cell_type": "markdown",
   "id": "83232a3d",
   "metadata": {},
   "source": [
    "### 3.3.1 Optimale Anzahl an Features"
   ]
  },
  {
   "cell_type": "markdown",
   "id": "9b4beaa9",
   "metadata": {},
   "source": [
    "#### 3.3.1.1 Recursive Feature Elimination with Cross Validation (f1)"
   ]
  },
  {
   "cell_type": "code",
   "execution_count": null,
   "id": "532b3a24",
   "metadata": {
    "scrolled": false
   },
   "outputs": [],
   "source": [
    "rfc1 = RandomForestClassifier()\n",
    "cv = StratifiedKFold(n_splits=5, shuffle=True, random_state=42)\n",
    "rfecv1 = RFECV(estimator=rfc1, cv=cv, scoring='f1', min_features_to_select=1, verbose=1)\n",
    "rfecv1.fit(x_values_ss, y_value)\n",
    "\n",
    "print(\"Optimal number of features : %d\" % rfecv1.n_features_)"
   ]
  },
  {
   "cell_type": "markdown",
   "id": "08a29ed4",
   "metadata": {},
   "source": [
    "##### Visualisierung (3.3.1.1)"
   ]
  },
  {
   "cell_type": "code",
   "execution_count": null,
   "id": "42f4df78",
   "metadata": {
    "scrolled": true
   },
   "outputs": [],
   "source": [
    "plt.figure()\n",
    "plt.xticks(np.arange(0, 22, step=2))\n",
    "plt.xlabel(\"Number of features selected\")\n",
    "plt.ylabel(\"Cross validation score (f1 score)\")\n",
    "plt.plot(range(1, len(rfecv1.grid_scores_) + 1), rfecv1.grid_scores_)\n",
    "plt.show()"
   ]
  },
  {
   "cell_type": "markdown",
   "id": "7514a561",
   "metadata": {},
   "source": [
    "##### Interpretation (3.3.1.1) MULTICLASS"
   ]
  },
  {
   "cell_type": "markdown",
   "id": "cce64811",
   "metadata": {},
   "source": [
    "Das Ergebnis, das sich aus der Verwendung der Klasse RFECV aus sklearn mit dem scoring-Parameter 'accuracy' ergibt, sieht auf den ersten Blick etwas **unlogisch** aus. Es könnte zum Beispiel an der falschen Wahl des Splits liegen. Allerdings wurde hier aufgrund des unbalancierten Datensatzes absichtlich der StratifiedKFold-Split gewählt. Die Gleichheit der Daten beim Scaling in den einzelnen Folds, aus Kap. 3.2.3.2, deutet aber darauf hin, dass die Wahl des Splits richtig war. Darüber hinaus könnte es an der falschen Wahl für den Estimator-Paramter der RFECV liegen. Allerdings wurde hier RandomForrestClassifier gewählt, da dieser über ein Attribut namens feature_importances_ verfügt und somit für die RFECV geeignet ist. Darüber hinaus liefert er auch bei Multiclassklassifikationen gute Ergebnisse. \n",
    "\n",
    "Ein weiterer Punkt, der für die komischen Ergebnissen der RFECV verantwortlich sein könnte, ist die falsche Wahl des scoring-Parameters. Hier wurde der für Klassifikationen geeignete 'accuracy'-Parameter verwendet. Allerdings ist der Parameter **'f1_weighted** speziell für Multiclassklassifikationen mit unbalancierten Datensätzen geeignet. Daher wird im Folgenden versucht, mit diesem Parameter bessere Ergebnisse zu erzielen. (*https://scikit-learn.org/stable/modules/generated/sklearn.metrics.f1_score.html#sklearn.metrics.f1_score*)   "
   ]
  },
  {
   "cell_type": "markdown",
   "id": "48e148e9",
   "metadata": {},
   "source": [
    "##### Interpretation (3.3.1.2) MULTICLASS"
   ]
  },
  {
   "cell_type": "markdown",
   "id": "9f68364b",
   "metadata": {},
   "source": [
    "Das Ergebnis für den RFECV mit \"f1_weighted\" als scoring-Parameter stellt eine **Verbesserung** im Vergleich zum vorherigen Lösungsansatz dar. Zwar wird die optimale Leistung des Algorithmus mit 21 von 21 Features erzielt, allerdings ist in der Visualisierung zu erkennen, dass sich erste lokale Maxima schon bei x=8 bzw. x=13 übrig gebliebenen Features ergeben. Gerade bei nur noch 8 Features hätte sich die Komplexität des Modells und der damit einhergehende Rechenaufwand, bei nur leicht gesunkenen Ergebniswerten, schon deutlich verringert. "
   ]
  },
  {
   "cell_type": "markdown",
   "id": "e8e4d110",
   "metadata": {},
   "source": [
    "##### Quellen zum Code (Optimale Anzahl an Features)\n",
    "*https://machinelearningmastery.com/rfe-feature-selection-in-python/*\n",
    "\n",
    "*https://www.kdnuggets.com/2020/10/feature-ranking-recursive-feature-elimination-scikit-learn.html*\n",
    "\n",
    "*https://scikit-learn.org/stable/auto_examples/feature_selection/plot_rfe_with_cross_validation.html#sphx-glr-auto-examples-feature-selection-plot-rfe-with-cross-validation-py*"
   ]
  },
  {
   "cell_type": "markdown",
   "id": "4f74f768",
   "metadata": {},
   "source": [
    "### 3.3.2 Univariate Selection"
   ]
  },
  {
   "cell_type": "markdown",
   "id": "2d4d22cd",
   "metadata": {},
   "source": [
    "*https://machinelearningmastery.com/feature-selection-with-real-and-categorical-data/*"
   ]
  },
  {
   "cell_type": "markdown",
   "id": "59247507",
   "metadata": {},
   "source": [
    "#### 3.3.2.1 Vorbereitung - Univariate Selection"
   ]
  },
  {
   "cell_type": "code",
   "execution_count": 58,
   "id": "386578fe",
   "metadata": {
    "scrolled": true
   },
   "outputs": [],
   "source": [
    "def univariate_fs_scaling_cv(x_values, y_value, scaler, n_splits, score_func, k):\n",
    "    print(f'Univariate Feature Selection mit Score-Func {str(score_func)} und Scaler {str(scaler)}')\n",
    "    features = list(x_values.columns)\n",
    "    scaler = scaler\n",
    "    x_values_scaled = scaler.fit_transform(x_values)\n",
    "    skf = StratifiedKFold(n_splits=n_splits, shuffle=True, random_state=42)\n",
    "    split_counter = 1\n",
    "    ufs_scores = []\n",
    "    ufs_p_values = []\n",
    "    for train_index, test_index in skf.split(x_values_scaled, y_value):\n",
    "        selected_features_list = []\n",
    "        X_train, X_test = x_values.iloc[train_index], x_values.iloc[test_index]\n",
    "        y_train, y_test = y_value.iloc[train_index], y_value.iloc[test_index]\n",
    "        fs = SelectKBest(score_func=score_func, k=k)\n",
    "        fs.fit(X_train, y_train)\n",
    "        X_train_fs = fs.transform(X_train)\n",
    "        X_test_fs = fs.transform(X_test)\n",
    "        selected_features_bool = fs.get_support()\n",
    "        features = list(x_values.columns)\n",
    "        for feature, selected_feature_bool in zip(features, selected_features_bool):\n",
    "            if selected_feature_bool == True:\n",
    "                selected_features_list.append(feature)\n",
    "        print(f'Ausgewählte Features in Split {split_counter}: {selected_features_list}')\n",
    "        split_counter += 1\n",
    "        ufs_scores.append(fs.scores_)\n",
    "        ufs_p_values.append(fs.pvalues_)\n",
    "    return ufs_scores, ufs_p_values\n",
    "\n",
    "def ufs_scaling_cv_plot_score(x_values, y_value, scaler, n_splits, score_func):\n",
    "    print(f'Univariate Feature Selection mit Score-Func {str(score_func)} und Scaler {str(scaler)}')\n",
    "    features = list(x_values.columns)\n",
    "    scaler = scaler\n",
    "    x_values_scaled = scaler.fit_transform(x_values)\n",
    "    skf = StratifiedKFold(n_splits=n_splits, shuffle=True, random_state=42)\n",
    "    split_counter = 1\n",
    "    for train_index, test_index in skf.split(x_values_scaled, y_value):\n",
    "        selected_features_list = []\n",
    "        X_train, X_test = x_values.iloc[train_index], x_values.iloc[test_index]\n",
    "        y_train, y_test = y_value.iloc[train_index], y_value.iloc[test_index]\n",
    "        fs = SelectKBest(score_func=score_func, k='all')\n",
    "        fs.fit(X_train, y_train)\n",
    "        features = list(x_values.columns)\n",
    "        plt.figure(figsize=(15,10))\n",
    "        scores_normalized = fs.scores_ / np.amax(fs.scores_)\n",
    "        plt.barh(features, scores_normalized, label='Score in Split CV ' + str(split_counter))\n",
    "        plt.yticks(np.arange(0, len(features), step=1), features)\n",
    "        plt.legend(loc='upper right')\n",
    "        plt.show()\n",
    "        split_counter += 1"
   ]
  },
  {
   "cell_type": "markdown",
   "id": "043307e4",
   "metadata": {},
   "source": [
    "#### 3.3.2.2 Auswahl der wichtigsten kategorischen Features"
   ]
  },
  {
   "cell_type": "code",
   "execution_count": null,
   "id": "a0105383",
   "metadata": {
    "scrolled": true
   },
   "outputs": [],
   "source": [
    "df_categorical_features = df.drop(['BMI', 'MentHlth', 'PhysHlth', 'PhysActivity', 'Diabetes'], axis = 'columns')"
   ]
  },
  {
   "cell_type": "markdown",
   "id": "1ed67256",
   "metadata": {},
   "source": [
    "##### Visualisierung der Scores aus SelectKBest mit StandardScaler (Chi-Quadrat-Test) "
   ]
  },
  {
   "cell_type": "code",
   "execution_count": null,
   "id": "7da7bf8c",
   "metadata": {
    "scrolled": true
   },
   "outputs": [],
   "source": [
    "ufs_scaling_cv_plot_score(df_categorical_features, y_value, StandardScaler(), 5, chi2)"
   ]
  },
  {
   "cell_type": "markdown",
   "id": "bdd75866",
   "metadata": {},
   "source": [
    "##### Visualisierung der Scores aus SelectKBest mit MinMaxScaler (Chi-Quadrat-Test) "
   ]
  },
  {
   "cell_type": "code",
   "execution_count": null,
   "id": "7fb70b42",
   "metadata": {
    "scrolled": true
   },
   "outputs": [],
   "source": [
    "ufs_scaling_cv_plot_score(df_categorical_features, y_value, MinMaxScaler(), 5, chi2)"
   ]
  },
  {
   "cell_type": "markdown",
   "id": "27469021",
   "metadata": {},
   "source": [
    "##### Visualisierung der Scores aus SelectKBest mit StandardScaler (Mutual Info Classification)"
   ]
  },
  {
   "cell_type": "code",
   "execution_count": null,
   "id": "81e60750",
   "metadata": {
    "scrolled": true
   },
   "outputs": [],
   "source": [
    "ufs_scaling_cv_plot_score(df_categorical_features, y_value, StandardScaler(), 5, mutual_info_classif)"
   ]
  },
  {
   "cell_type": "markdown",
   "id": "7161aa30",
   "metadata": {},
   "source": [
    "##### Visualisierung der Scores aus SelectKBest mit StandardScaler (Mutual Info Classification)"
   ]
  },
  {
   "cell_type": "code",
   "execution_count": null,
   "id": "92ad9f38",
   "metadata": {
    "scrolled": true
   },
   "outputs": [],
   "source": [
    "ufs_scaling_cv_plot_score(df_categorical_features, y_value, MinMaxScaler(), 5, mutual_info_classif)"
   ]
  },
  {
   "cell_type": "markdown",
   "id": "87475db5",
   "metadata": {},
   "source": [
    "##### Interpretation - Auswahl der wichtigsten kategorischen Features MULTICLASSCLASSIFICATION"
   ]
  },
  {
   "cell_type": "markdown",
   "id": "9afe26da",
   "metadata": {},
   "source": [
    "Es ist zu erkennen, dass sich weder bei der univariaten Feature Selection mit dem score_func-Parameter 'chi2', noch mit 'mutual info clasification' innerhalb der einzelnen Splits Unterschiede hinsichtlich der bestbewertetsten Features gibt. Lediglich zwischen den einzelnen Wahlen für die Zielfunktion besteht ein geringfügiger Unterschied. Variablen, die zum Beispiel jeweils nur in einer der Methoden vorkommen sind 'HighChol' und 'CholCheck'. Inuitiv betrachtet werden diese Variablen wahrscheinlich miteinander korrelieren. Betrachtet man die Tabelle der p-Werte aus dem chi2-Test in Kap. 2.7.2.1 scheint sich dieser Verdacht zu bestätigen. Da dieser kleiner als 5% ist, kann man hier nämlich die Nullhypothese verwerfen, wodurch statistisch gesehen eine Abhängigkeit zwischen beiden Variablen besteht. Hier könnte also überlegt werden, ob man sich beim Modelling nur für eine der beiden Variablen entscheidet. Variablen wie **'HighBP', 'HighChol', 'GenHlth' und 'Age'** kommen bei beiden Methoden als wichtige Variablen heraus und stehen somit in der engeren Auswahl für das tatsächliche Modelling. Im Folgenden werden weitere Feature-Selection-Methoden durchgeführt, um einen näheren Einblick in die wichtigsten Features dieses Datensatzes zu geben.\n",
    "\n",
    "Generell ist die Gleichheit der wichtigen Features in den einzelnen Splits aber erstmal positiv zu sehen. Dies deutet nämlich darauf hin, dass der **Split richtig gewählt**. Da in der Funktion univariate_fs_scaling_cv der Scaler zudem vor dem tatsächlichen Split implementiert ist, deutet es darauf hin, dass auch die Entscheidung aus Kap. 3.2.3.3, auch das Scaling auf den gesamten Datensatz durchzuführen, richtig ist. Die Wahl des **Scalers beeinflusst das Ergebnis**, zumindest bei der Mutual Info Classifikation, **nicht**."
   ]
  },
  {
   "cell_type": "markdown",
   "id": "7a3c891c",
   "metadata": {},
   "source": [
    "##### Quellen zum Code (Feature Selection - SelectKBest)\n",
    "*https://machinelearningmastery.com/feature-selection-with-categorical-data/*"
   ]
  },
  {
   "cell_type": "markdown",
   "id": "1237915f",
   "metadata": {},
   "source": [
    "#### 3.3.2.2 Auswahl der wichtigsten numerischen Features"
   ]
  },
  {
   "cell_type": "markdown",
   "id": "b71fe7c4",
   "metadata": {},
   "source": [
    "##### Visualisierung der Scores aus SelectKBest mit StandardScaler (ANOVA)"
   ]
  },
  {
   "cell_type": "code",
   "execution_count": null,
   "id": "977e02a9",
   "metadata": {
    "scrolled": true
   },
   "outputs": [],
   "source": [
    "numerical_features = ['BMI', 'MentHlth', 'PhysHlth', 'PhysActivity', 'Age', 'Income', 'Education']\n",
    "df_numerical_features = df[numerical_features]\n",
    "\n",
    "# f_classif --> ANOVA\n",
    "ufs_scaling_cv_plot_score(df_numerical_features, y_value, StandardScaler(), 5, f_classif)"
   ]
  },
  {
   "cell_type": "markdown",
   "id": "74ef0ef3",
   "metadata": {},
   "source": [
    "### 3.3.3 Recursive Feature Elimination"
   ]
  },
  {
   "cell_type": "markdown",
   "id": "9477dd55",
   "metadata": {},
   "source": [
    "Bei der Recursive Feature Elimination handelt es sich um einen Wrapper-Selection-Algorithmus. Das bedeutet, dass im Kern ein anderer Machine Learning Algorithmus genutzt wird, um die Features auszuwählen. RFE funktioniert, indem iterativ immer wieder eine Variable entfernt wird, bis die gewünscht Anzahl an Variablen erreicht ist. Hierbei wird stets die Wichtigkeit der einzelnen Variablen bewertet, und die am wenigsten Wichtige aussortiert. (*https://machinelearningmastery.com/rfe-feature-selection-in-python/*)"
   ]
  },
  {
   "cell_type": "code",
   "execution_count": null,
   "id": "b66976f5",
   "metadata": {
    "scrolled": true
   },
   "outputs": [],
   "source": [
    "def rfe_fs_scaling_cv(x_values, target, scaler, n_splits, model, n_features_to_select):\n",
    "    model = model\n",
    "    scaler = scaler\n",
    "    x_values_scaled = scaler.fit_transform(x_values)\n",
    "    rfe = RFE(estimator=model, n_features_to_select=n_features_to_select)\n",
    "    skf = StratifiedKFold(n_splits=n_splits, shuffle = True, random_state=42)\n",
    "    split_counter = 1\n",
    "    for train_index, test_index in skf.split(x_values_scaled, target):\n",
    "        print(f'Ausgewählte Features mit Model {model} (Split {split_counter}):')\n",
    "        X_train, X_test = x_values.iloc[train_index], x_values.iloc[test_index]\n",
    "        y_train, y_test = target.iloc[train_index], target.iloc[test_index]\n",
    "        fit = rfe.fit(X_train, y_train)\n",
    "        rfe_selected_features_bool = fit.support_\n",
    "        rfe_features_rank = fit.ranking_\n",
    "        features = list(x_values.columns)\n",
    "        # rfe_selected_features_list = list(fit.support_)\n",
    "        for i in range(len(features)):\n",
    "            print(f'{str(features[i])}: {str(rfe_features_rank[i])} ({rfe_selected_features_bool[i]})')\n",
    "        print()\n",
    "        split_counter += 1"
   ]
  },
  {
   "cell_type": "markdown",
   "id": "49af5025",
   "metadata": {},
   "source": [
    "#### 3.3.3.1 RFE mit RandomForestClassifier (StandardScaler)"
   ]
  },
  {
   "cell_type": "code",
   "execution_count": null,
   "id": "e01e72bf",
   "metadata": {
    "scrolled": false
   },
   "outputs": [],
   "source": [
    "rfe_fs_scaling_cv(x_values=x_values_encoded, target=y_value_encoded, scaler=StandardScaler(), n_splits=5, model=RandomForestClassifier(), n_features_to_select=16)"
   ]
  },
  {
   "cell_type": "code",
   "execution_count": null,
   "id": "71380c34",
   "metadata": {
    "scrolled": true
   },
   "outputs": [],
   "source": [
    "# Visualisierung überlegen!"
   ]
  },
  {
   "cell_type": "markdown",
   "id": "d57b0897",
   "metadata": {},
   "source": [
    "##### Interpretation (RGE mit RandomForestClassifier)"
   ]
  },
  {
   "cell_type": "markdown",
   "id": "041d120b",
   "metadata": {},
   "source": [
    "Es ist erneut zu erkennen, dass die **Ergebnisse** in den einzelnen Splits nur **geringfügig voneinander abweichen**. Allerdings ist auch klar zu erkennen, dass der Algorithmus die Variablen, die einen **größeren Wertebereich** (ordinal- oder gar verhältnis-/ intervallskaliert) im Vergleich zu den anderen zu **bevorzugen** scheint. Während diese bei der univarianten Feature Selection noch eine untergeordnete Rolle spielten, treten sie bei der Verwendung der Recursive Feature Elimination vermehrt auf, obwohl die Funktion rfe_fs_scaling_cv die Variablen eigentlich skaliert. Dies könnte entweder an der Wahl des Scalers, oder aber am falschen Machine Learning Algorithmus innerhalb des RFE liegen. Darüber hinaus könnte der Grund noch darin liegen, dass die Daten auch in dieser Funktion vor dem Aufsplitten der Daten skaliert werden. Allerdings scheinte es in den vorherigen Kapiteln so, als würde dies kein Problem darstellen. Um die Ursache für das auftretende Problem zu finden, wird im Folgenden zuerst der **MinMaxScaler statt dem StandardScaler** getestet."
   ]
  },
  {
   "cell_type": "markdown",
   "id": "26d7de6e",
   "metadata": {},
   "source": [
    "#### 3.3.3.2 RFE mit RandomForestClassifier (MinMaxScaler)"
   ]
  },
  {
   "cell_type": "code",
   "execution_count": null,
   "id": "6063ac9f",
   "metadata": {
    "scrolled": true
   },
   "outputs": [],
   "source": [
    "rfe_fs_scaling_cv(x_values=x_values, target=target, scaler=MinMaxScaler(), n_splits=5, model=RandomForestClassifier(), n_features_to_select=8)"
   ]
  },
  {
   "cell_type": "markdown",
   "id": "c9e32b2b",
   "metadata": {},
   "source": [
    "##### Interpretation (RFE mit RandomForestClassifier und MinMaxScaler)"
   ]
  },
  {
   "cell_type": "markdown",
   "id": "f8f390e0",
   "metadata": {},
   "source": [
    "Im Vergleich zur rekursiven Feature Elimination mit dem RandomForestClassifier und dem StandardScaler ergeben sich mit dem MinMaxScaler kaum Unterschiede. Bei Scaling-Methoden haben die selbst ausgewählten Variablen zum Ergebnis, die sich ebenfalls in den einzelnen Splits nicht ändern. Lediglich bei den Features, deren Wichtigkeit nicht besonders gut bewertet wird, unterscheiden sich die beiden Varianten geringfügig. Deshalb wird im Folgenden die Recursive Feature Elimination mit einem anderem Machine Learning Algorithmus im Hintergrund getestet. "
   ]
  },
  {
   "cell_type": "code",
   "execution_count": null,
   "id": "2f78b626",
   "metadata": {
    "scrolled": true
   },
   "outputs": [],
   "source": [
    "# evtl. wie bei RFECV Fehler bei Scoring-Funktion? Wo festlegen?"
   ]
  },
  {
   "cell_type": "markdown",
   "id": "b9cea324",
   "metadata": {},
   "source": [
    "#### 3.3.3.2 RFE mit logistischer Regression"
   ]
  },
  {
   "cell_type": "code",
   "execution_count": null,
   "id": "0ea247bb",
   "metadata": {
    "scrolled": false
   },
   "outputs": [],
   "source": [
    "rfe_fs_scaling_cv(x_values=x_values, target=target, scaler=StandardScaler(), n_splits=5, model=LogisticRegression(multi_class='multinomial', max_iter = 10000), n_features_to_select=8)"
   ]
  },
  {
   "cell_type": "markdown",
   "id": "bbfbc022",
   "metadata": {},
   "source": [
    "##### Interpretation (RFE mit logistischer Regression)"
   ]
  },
  {
   "cell_type": "markdown",
   "id": "e8702cd0",
   "metadata": {},
   "source": [
    "Im Vergleich zur rekursiven Feature Elimination mit dem RandomForestClassifier ergeben sich mit der logistischen Regression überwiegend nominale Variablen als wichtigste Features. Lediglich die Variable GenHlth taucht als Variable, die nicht nur die Werte 0 oder 1 annehmen kann, in den wichtigsten 8 Features auf. Hierbei stellt sich die Frage, warum die Ergebnisse in diesem Fall so stark voneinander abweichen. \n",
    "\n",
    "Ähnlich wie bei den vorherigen Methoden unterscheiden sich auch bei der logistischen Regression die wichtigsten Features innerhalb der unterschiedlichen Splits nicht. Allerdings gibt es bei den Platzierungen der weniger wichtigen Features bei der logistischen Regression ein paar (sogar teilweise größere) Unterschiede. Allerdings treten diese bei fünf gewählten Folds nicht so häufig auf, dass man denken könnte, der Split sei extrem falsch gewählt. Bei der relativ großen Menge an Daten wäre es vielleicht geeigneter die Anzahl der Folds auf zehn zu setzen, hierauf wurde aber, um Rechenzeit einzusparen, bei diesem Schritt noch verzichtet. "
   ]
  },
  {
   "cell_type": "markdown",
   "id": "89d16658",
   "metadata": {},
   "source": [
    "#### RFE mit RandomForest (binäre Klassifikation)"
   ]
  },
  {
   "cell_type": "code",
   "execution_count": null,
   "id": "4f4cb40f",
   "metadata": {
    "scrolled": true
   },
   "outputs": [],
   "source": [
    "rfe_fs_scaling_cv(x_values=x_values, target=y_value_binary, scaler=StandardScaler(), n_splits=5, model=RandomForestClassifier(class_weight='balanced_subsample'), n_features_to_select=8)"
   ]
  },
  {
   "cell_type": "markdown",
   "id": "1f006427",
   "metadata": {},
   "source": [
    "### 3.3.4 Feature Importance "
   ]
  },
  {
   "cell_type": "markdown",
   "id": "5f8f396e",
   "metadata": {},
   "source": [
    "Bei Anwendung der Recursive Feature Elimination läuft im Hintergrund immer ein Machine Learning Algorithmus, der iterativ die am wenigsten wichtigen Features eliminiert, um das optimale Ergebnis zu erzielen. Hierzu muss der Algorithmus über ein Attribut namens 'coef_' oder 'feature_importances_' verfügen, in der die Werte enthalten sind, die der RFE-Algorithmus zur Eliminierung der einzelnen Features braucht. Durch RFECV kann mithilfe des 'n_features_' Attributes eine erste Idee über die optimale Anzahl an Features für das optimale Modell erlangt werden. RFE kann durch die Attribute 'ranking_' bzw 'support_' einen detaillierteren Einblick in die tatsächliche Feature Importance geben, die im Endeffekt hinter der Feature Selection steckt. \n",
    "\n",
    "Ein direkter Zugriff auf das 'feature_importances_'-Attribut des Algorithmus, ohne Einbindung in 'Wrapper Feature Selection'-Algorithmen, wie z.B. RFE, kann eine noch genauere Einsicht in die Ergebnisse liefern und bietet weitere Visualisierungsmöglichkeiten der Ergebnisse."
   ]
  },
  {
   "cell_type": "markdown",
   "id": "3521e243",
   "metadata": {},
   "source": [
    "#### 3.3.4.1 CART Classification Feature Importance"
   ]
  },
  {
   "cell_type": "code",
   "execution_count": null,
   "id": "7f74bc54",
   "metadata": {
    "scrolled": true
   },
   "outputs": [],
   "source": [
    "# = Classification and Regression Trees"
   ]
  },
  {
   "cell_type": "code",
   "execution_count": 59,
   "id": "c888adef",
   "metadata": {
    "scrolled": false
   },
   "outputs": [
    {
     "data": {
      "image/png": "[encoded data removed]",
      "text/plain": [
       "<Figure size 1080x1080 with 1 Axes>"
      ]
     },
     "metadata": {
      "needs_background": "light"
     },
     "output_type": "display_data"
    },
    {
     "data": {
      "image/png": "[encoded data removed]",
      "text/plain": [
       "<Figure size 1080x1080 with 1 Axes>"
      ]
     },
     "metadata": {
      "needs_background": "light"
     },
     "output_type": "display_data"
    },
    {
     "data": {
      "image/png": "[encoded data removed]",
      "text/plain": [
       "<Figure size 1080x1080 with 1 Axes>"
      ]
     },
     "metadata": {
      "needs_background": "light"
     },
     "output_type": "display_data"
    },
    {
     "data": {
      "image/png": "[encoded data removed]",
      "text/plain": [
       "<Figure size 1080x1080 with 1 Axes>"
      ]
     },
     "metadata": {
      "needs_background": "light"
     },
     "output_type": "display_data"
    },
    {
     "data": {
      "image/png": "[encoded data removed]",
      "text/plain": [
       "<Figure size 1080x1080 with 1 Axes>"
      ]
     },
     "metadata": {
      "needs_background": "light"
     },
     "output_type": "display_data"
    }
   ],
   "source": [
    "model = RandomForestClassifier()\n",
    "skf = StratifiedKFold(n_splits=5, shuffle=True, random_state=42)\n",
    "split_counter  = 1\n",
    "for train_index, test_index in skf.split(x_values_encoded_mm, y_value):\n",
    "    X_train, X_test = x_values_encoded_mm.iloc[train_index], x_values_encoded_mm.iloc[test_index]\n",
    "    y_train, y_test = y_value.iloc[train_index], y_value.iloc[test_index]\n",
    "    model.fit(X_train, y_train)\n",
    "    importance = model.feature_importances_\n",
    "    plt.figure(figsize=(15,15))\n",
    "    features = list(x_values_encoded_mm.columns)\n",
    "    plt.barh(features, importance, label='Score in Split CV ' + str(split_counter))\n",
    "    plt.yticks(np.arange(0, len(features), step=1), features)\n",
    "    plt.legend(loc='upper right')\n",
    "    plt.show()\n",
    "    split_counter += 1"
   ]
  },
  {
   "cell_type": "markdown",
   "id": "acc2f100",
   "metadata": {},
   "source": [
    "##### Quellen\n",
    "\n",
    "*https://machinelearningmastery.com/feature-selection-machine-learning-python/*\n",
    "\n",
    "*https://machinelearningmastery.com/calculate-feature-importance-with-python/*"
   ]
  },
  {
   "cell_type": "markdown",
   "id": "6a824155",
   "metadata": {},
   "source": [
    "# 4. Modelling (binäre Klassifikation) - Machine Learning"
   ]
  },
  {
   "cell_type": "code",
   "execution_count": null,
   "id": "aabbc846",
   "metadata": {
    "scrolled": true
   },
   "outputs": [],
   "source": [
    "def first_insight_with_hyperparamertuning(model, parameters, cv):\n",
    "    model_ht = GridSearchCV()"
   ]
  },
  {
   "cell_type": "markdown",
   "id": "bf961831",
   "metadata": {},
   "source": [
    "## 4.1 Logistische Regression"
   ]
  },
  {
   "cell_type": "markdown",
   "id": "301053db",
   "metadata": {},
   "source": [
    "### 4.1.1 Erste Betrachtung mit GridSearchCV"
   ]
  },
  {
   "cell_type": "code",
   "execution_count": null,
   "id": "3e647161",
   "metadata": {
    "scrolled": false
   },
   "outputs": [],
   "source": [
    "logreg_binary_parameters = [{'solver': ['sag', 'saga', 'lbfgs'], 'max_iter': [100, 1000, 5000], 'C': [0.01, 0.1, 1.0]}]\n",
    "                            \n",
    "\n",
    "lrb_model = LogisticRegression()\n",
    "\n",
    "lrb_clf = GridSearchCV(lrb_model, logreg_binary_parameters, cv=StratifiedKFold(n_splits=5, shuffle=True, random_state=42), verbose=3)\n",
    "\n",
    "lrb_clf.fit(x_values_scaled_ss, y_value_binary)"
   ]
  },
  {
   "cell_type": "code",
   "execution_count": null,
   "id": "782cfea7",
   "metadata": {
    "scrolled": true
   },
   "outputs": [],
   "source": [
    "print(f'Das beste Ergebnis der logistischen Regression wurde mit den Parameter {lrb_clf.best_params_} erzielt\\nmit einer Accuray von {lrb_clf.best_score_}')"
   ]
  },
  {
   "cell_type": "markdown",
   "id": "9b40ae45",
   "metadata": {},
   "source": [
    "### 4.1.2 Nähere Betrachtung des besten Modells (logistische Regression)"
   ]
  },
  {
   "cell_type": "code",
   "execution_count": null,
   "id": "4bbe1ae3",
   "metadata": {
    "scrolled": false
   },
   "outputs": [],
   "source": [
    "logregbin = LogisticRegression(C=0.01)\n",
    "skf = StratifiedKFold(n_splits=10, shuffle=True, random_state=42)\n",
    "\n",
    "for train_index, test_index in skf.split(x_values_scaled_ss, y_value_binary):\n",
    "    X_train, X_test = x_values_scaled_ss.iloc[train_index], x_values_scaled_ss.iloc[test_index]\n",
    "    y_train, y_test = y_value_binary.iloc[train_index], y_value_binary.iloc[test_index]\n",
    "    logregbin.fit(X_train, y_train)\n",
    "    logreg_cm = confusion_matrix(y_test, logregbin.predict(X_test))\n",
    "    disp = ConfusionMatrixDisplay(confusion_matrix=logreg_cm, display_labels=logregbin.classes_)\n",
    "    disp.plot()"
   ]
  },
  {
   "cell_type": "markdown",
   "id": "1e87ac08",
   "metadata": {},
   "source": [
    "## 4.2 RandomForestClassfier"
   ]
  },
  {
   "cell_type": "markdown",
   "id": "9f23f10b",
   "metadata": {},
   "source": [
    "### 4.2.1 Erste Betrachtung mit GridSearchCV"
   ]
  },
  {
   "cell_type": "code",
   "execution_count": null,
   "id": "c4d7074a",
   "metadata": {
    "scrolled": true
   },
   "outputs": [],
   "source": [
    "# OverBagging, UnderBagging und OverUnderBagging s. Link"
   ]
  },
  {
   "cell_type": "markdown",
   "id": "0cefc369",
   "metadata": {},
   "source": [
    "##### Quellen \n",
    "\n",
    "*https://machinelearningmastery.com/bagging-and-random-forest-for-imbalanced-classification/*"
   ]
  },
  {
   "cell_type": "markdown",
   "id": "ca21174a",
   "metadata": {},
   "source": [
    "# 5. Evaluation (binäre Klassifikation) - Machine Learning"
   ]
  },
  {
   "cell_type": "markdown",
   "id": "43fe3799",
   "metadata": {},
   "source": [
    "# 6. Modelling (Multiclass-Klassifikation) - Machine Learning"
   ]
  },
  {
   "cell_type": "markdown",
   "id": "7f5f3136",
   "metadata": {},
   "source": [
    "## 6.1 Theoretische Auswahl der Modellierungstechnik"
   ]
  },
  {
   "cell_type": "code",
   "execution_count": null,
   "id": "d3d5c5fe",
   "metadata": {
    "scrolled": true
   },
   "outputs": [],
   "source": [
    "# logistische Regression --> binärer Klassifikationsalgorithmus angewendet auf Multiclass (Stichwort One-vs-Rest und One-vs-One)\n",
    "# Bagging vs Boosting\n",
    "# binäre vs ... \n",
    "# One vs one oder one vs all\n",
    "\n",
    "# RandomForest für unbalancierte Datensätze (Bagging) --> Link"
   ]
  },
  {
   "cell_type": "code",
   "execution_count": null,
   "id": "4a066636",
   "metadata": {
    "scrolled": true
   },
   "outputs": [],
   "source": [
    "# LogistischeRegression --> Algortihmus zur Lösung des Optimierungsproblemes --> Solver für Multiclass"
   ]
  },
  {
   "cell_type": "markdown",
   "id": "f8cd1d45",
   "metadata": {},
   "source": [
    "##### Quellen\n",
    "\n",
    "*https://machinelearningmastery.com/bagging-and-random-forest-for-imbalanced-classification/#:~:text=Bagging%20is%20an%20ensemble%20algorithm,used%20in%20each%20data%20sample.*\n",
    "\n",
    "*https://quantdare.com/what-is-the-difference-between-bagging-and-boosting/*\n"
   ]
  },
  {
   "cell_type": "markdown",
   "id": "65bbc45c",
   "metadata": {},
   "source": [
    "## 6.2 Praktische Auswahl der Modellierungstechnik"
   ]
  },
  {
   "cell_type": "markdown",
   "id": "c98c5906",
   "metadata": {},
   "source": [
    "### 6.2.1 Hypermarameter-Tuning mit GridSearchCV"
   ]
  },
  {
   "cell_type": "markdown",
   "id": "777ffd75",
   "metadata": {},
   "source": [
    "Um einen ersten Überblick über die Güte und Eignung der gewählten Machine Learning Algorithmen in Bezug auf den Diabetes-Datensatz zu bekommen, wird im Folgenden eine **GridSearchCV** mit den gewählten Methoden und einigen interessanten Parameterkonfigurationen durchgeführt. Bei GridSearchCV handelt es sich um eine **Methode des Hyperparamtertunings**. Sie geht **iterativ** alle möglichen **Parameterkombinationen** durch und ermittelt die, mit der die **besten Ergebnisse** erzielt werden können. GridSearchCV bietet zudem die Möglichkeit, durch den 'cv'-Parameter intern eine **Cross Validation** durchzuführen.\n",
    "\n",
    "Die x-Werte die der Funktion GridSearchCV übergeben werden wurden vorerst mit dem StandardScaler skaliert. Darüber hinaus wurde der gesamte Datensatz übergeben und nicht nur die wichtigsten Features, um einen ersten Eindruck bezüglich der Ergebnisse auf diesen Datensatz erhalten. Im Anschluss daran werden die besten Modelle noch detaillierter analyisert. Hierbei werden weitere Parameterkombinationen ausprobiert und Sensitivitätsanalysen (z.B. Auswahl eines anderen Scalers, Oversampling und k-Fold vs. StratifiedKFold, Modelling mit nur den wichtigsten Features, usw.) durchgeführt."
   ]
  },
  {
   "cell_type": "markdown",
   "id": "b69f8f50",
   "metadata": {},
   "source": [
    "##### Erstellung eines verschachtelten Dictionaries mit den gewählten Algorithmen und Parametern"
   ]
  },
  {
   "cell_type": "code",
   "execution_count": null,
   "id": "9a49d77f",
   "metadata": {
    "scrolled": true
   },
   "outputs": [],
   "source": [
    "model_params = {\n",
    "    'logistic_regression': {\n",
    "        'model': LogisticRegression(multi_class = 'multinomial'),\n",
    "        'params': {\n",
    "            'solver': ['newton-cg', 'sag', 'saga', 'lbfgs']\n",
    "        }\n",
    "    },\n",
    "    'random_forest': {\n",
    "        'model': RandomForestClassifier(),\n",
    "        'params': {\n",
    "            'n_estimators': [1, 10, 100],\n",
    "            # 1.0 --> bagged trees und 0.3 --> more randomness\n",
    "            'max_features': ['sqrt', 0.3, 1.0],\n",
    "            'class_weight': [None, 'balanced']\n",
    "        }\n",
    "    },\n",
    "    'xgboost': {\n",
    "        'model': GradientBoostingClassifier(),\n",
    "        'params': {\n",
    "            'learning_rate': [0.1, 0.5, 1.0],\n",
    "            'n_estimators': [1, 10, 100],\n",
    "            'max_depth': [1, 3, 5]\n",
    "        }\n",
    "    },\n",
    "    'kneighbors': {\n",
    "        'model': KNeighborsClassifier(),\n",
    "        'params': {\n",
    "            'n_neighbors': [1, 5, 10],\n",
    "            'leaf_size': [10, 30 , 50]\n",
    "        }\n",
    "    }\n",
    "}"
   ]
  },
  {
   "cell_type": "markdown",
   "id": "062fbfb0",
   "metadata": {},
   "source": [
    "##### Initialisierung der GridSearchCV"
   ]
  },
  {
   "cell_type": "code",
   "execution_count": null,
   "id": "154f81b6",
   "metadata": {
    "scrolled": false
   },
   "outputs": [],
   "source": [
    "scores = []\n",
    "\n",
    "for model_name, mp in model_params.items():\n",
    "    clf = GridSearchCV(mp['model'], mp['params'], cv=StratifiedKFold(n_splits=5, shuffle=True, random_state=42), return_train_score=False, verbose=3)\n",
    "    clf.fit(x_values_scaled_ss, target)\n",
    "    scores.append({\n",
    "        'model': model_name,\n",
    "        'best_score': clf.best_score_,\n",
    "        'best_params': clf.best_params_\n",
    "    })\n",
    "\n",
    "df_gridsearch = pd.DataFrame(scores, columns=['model', 'best_score', 'best_params'])\n",
    "df_gridsearch"
   ]
  },
  {
   "cell_type": "markdown",
   "id": "34070f54",
   "metadata": {},
   "source": [
    "### 6.2.2 Auswertung (Hyperparameter-Tuning)"
   ]
  },
  {
   "cell_type": "code",
   "execution_count": null,
   "id": "a26dab07",
   "metadata": {
    "scrolled": true
   },
   "outputs": [],
   "source": [
    "# Was genau ist best_score? Kann und muss dieser für Multiclassklassifikation geändert werden? --> scoring-Parameter?\n",
    "# Kann das Ergebnis der GridSearchCV oben irgendwie visualisiert werden?"
   ]
  },
  {
   "cell_type": "markdown",
   "id": "34477704",
   "metadata": {},
   "source": [
    "Auf den ersten Blick ist dem Dataframe 'df_gridsearch' ist zu entnehmen, dass mit allen vier gewählten Machine Learning Algorithmen in der besten Parameterkonfiguration ein **ähnlicher 'best_score'** von 0,841162 (KNeighbors) bis 0,849823 (XGBoost) erreicht wurde. Allerdings gibt es noch **weitere Faktoren**, wie z.B. die **Scoring-Time** und die **Fluktuation** der Genauigkeit der Algorithmen **mit unterschiedlichen Parameterkonfigurationen**, die hier betrachtet werden müssen. \n",
    "\n",
    "Interessant zu sehen ist hier zum Beispiel, dass die **logistische Regression** in allen insgesamt 20 Fits eine **konstante Performance** ablieferte und stets einen score von 0,846 bei einer **niedrigen Rechenzeit** von unter fünf Sekunden erreichte. Allerdings wurde hier auch **nur** der 'solver'-Parameter **verändert**. Im nächsten Kapitel wird die logistische Regression näher betrachtet und überprüft, ob z.B. mit vorheriger Feature Selection hier noch bessere Ergebnisse erzeugt werden können. \n",
    "\n",
    "Beim baumbasierten Algorithmus **RandomForest Classifier** sind die **Beobachtungen** nach den insgesamt 90 Fits etwas **spannender**. Zum einen **variieren die Trainingszeiten** durch die unterschiedlichen Parameterkombinationen mit einer Minimaldauer von 0,2 Sekunden und einer Maximaldauer von 1,1 Minuten stärker, zum anderen wird hierdurch auch der Score relativ **stark beeinflusst**. Vor allem die **Erhöhung** des Parameters **'n_estimators'** scheint hier die Qualität des Modells, bei weiterhin **akzeptablen Trainingszeiten** deutlich zu **verbessern**. In einem weiteren Kapitel wird versucht, die Genauigkeit des RandomForrestClassifiers noch weiter zu erhöhen.\n",
    "\n",
    "Der ebenfalls baumbasierte **GradientBoostingClassifier** konnte in der GridSearchCV **in allen** insgesamt 135 **Fits** stets einen **Score von über 0,8** erreichen. Obwohl die Trainingszeit dieses Algorithmus **bis zu 1,8 Minuten** erreichte, wird auch dieser Algorithmus in einem späteren Kapitel näher beleuchtet.\n",
    "\n",
    "Der **KNeighborsClassifier** benötigte in allen insgesamt 45 Fits eine relativ **lange Trainingszeit** von bis zu 2,8 Minuten. Hierbei war der **Score** im Vergleich zu den anderen Algorithmen **nicht besser**. Aufgrunddessen wird von einer detaillierteren Betrachtung dieses Algorithmus in den weiteren Kapiteln vorerst abgesehen. "
   ]
  },
  {
   "cell_type": "markdown",
   "id": "6693d47d",
   "metadata": {},
   "source": [
    "##### Zusätzliche Interpretation (Hyperparameter-Tuning mit GridSearchCV)"
   ]
  },
  {
   "cell_type": "markdown",
   "id": "b25e2ef1",
   "metadata": {},
   "source": [
    "Bei näherer Betrachtung der Ergebnisse aus der GridSearchCV ist zu erkennen, dass sich die **erreichten Scores und Trainingdauern**, unabhängig von der Wahl des Algorithmus und der Parameter, **innerhalb der einzelnen Cross Validation Splits** nur **geringfügig verändern**. Dies ist ein weiteres Indiz dafür, dass der StratifiedKFold-Split für den vorliegenden unbalancierten Diabetes-Datensatz gut geeignet ist. Darüber hinaus bestätigt sich hierdurch der Schluss der in Kapitel 3.2.3.3 gezogen wurde, dass der gesamte Datensatz auf einmal skaliert werden kann, erneut."
   ]
  },
  {
   "cell_type": "markdown",
   "id": "92143690",
   "metadata": {},
   "source": [
    "### 6.3 Nähere Betrachtung der logistischen Regression"
   ]
  },
  {
   "cell_type": "markdown",
   "id": "f8d7a5ee",
   "metadata": {},
   "source": [
    "### 6.3.1 Weitere Optimierungsansätze (logistische Regression)"
   ]
  },
  {
   "cell_type": "code",
   "execution_count": null,
   "id": "e40ea929",
   "metadata": {
    "scrolled": true
   },
   "outputs": [],
   "source": [
    "# muss die Targetvariable OneHotEncoded werden? --> s. zweiter Link in Quellen"
   ]
  },
  {
   "cell_type": "markdown",
   "id": "981216cf",
   "metadata": {},
   "source": [
    "Bei näherer Betrachtung der Ergebnisse aus dem vorherigen Kapitel fällt auf, dass die Wahl des **'solver'-Parameters**, also die Wahl des Algorithmus, der zur Lösung des Optimierungsproblems verwendet wird, **keine große Auswirkung auf das Ergebnis** hat. Dennoch konnten mit dem 'lbfgs'-Solver, bei gleichbleibenden Scores, geringere Trainingszeiten erzielt werden. Aufgrund dessen wird die nähere Betrachtung vorerst mit diesem Algorithmus fortgeführt. Als Wert für den **'multi_class'-Parameter** wurde schon im Vorhinein nur **'multinomial** herangezogen, damit der logistische Regression für das vorliegende **Mehrklassenproblem** verwendet werden kann. Zwei **weitere wichtige Parameter** der logistischen Regression, die in der obigen GridSearchCV vorerst noch nicht betrachtet wurden, sind **'C' und 'class_weight'**. \n",
    "\n",
    "Letzterer könnte eventuell beim vorliegenden unbalancierten Datensatz eine wichtige Rolle spielen. Aus diesem Grund wird im Folgenden untersucht, wie sich eine **Veränderung des 'class_weight'-Parameters** in Kombination **mit einem normalen KFold-Split** (nicht stratified) auf die Ergebnisse auswirkt."
   ]
  },
  {
   "cell_type": "markdown",
   "id": "d2cf0745",
   "metadata": {},
   "source": [
    "#### 6.3.1.1 Sensitivitätsanalyse 1: StratifiedKFold vs. 'class_weight'-Parameter und KFoldSplit (logistische Regression)"
   ]
  },
  {
   "cell_type": "code",
   "execution_count": null,
   "id": "c0408ccc",
   "metadata": {
    "scrolled": true
   },
   "outputs": [],
   "source": [
    "logreg = LogisticRegression(multi_class='multinomial', class_weight='balanced')\n",
    "kfcv = KFold(n_splits=5, shuffle=True, random_state=42)\n",
    "n_scores = cross_val_score(logreg, x_values_scaled_ss, y_value, scoring='accuracy', cv=kfcv)\n",
    "print(np.mean(n_scores))"
   ]
  },
  {
   "cell_type": "markdown",
   "id": "e9ee71ad",
   "metadata": {},
   "source": [
    "##### Erneuter Vergleich mit GridSearchCV (logistische Regression)"
   ]
  },
  {
   "cell_type": "markdown",
   "id": "96272a34",
   "metadata": {},
   "source": [
    "Aufgrund der signifikanten Verschlechterung des Ergebnisses der logistischen Regression nach Änderung des 'class_weight'-Parameters, wird sicherheitshalber das alte Modell aus der GridSearchCV in Kapitel 4.2.1 nochmals überprüft, um auszuschließen, dass das Modelling bzw. die GridSearchCV falsch implementiert wurden.  "
   ]
  },
  {
   "cell_type": "code",
   "execution_count": null,
   "id": "e1267a41",
   "metadata": {
    "scrolled": true
   },
   "outputs": [],
   "source": [
    "logreg = LogisticRegression(multi_class='multinomial')\n",
    "kfcv = StratifiedKFold(n_splits=5, shuffle=True, random_state=42)\n",
    "n_scores = cross_val_score(logreg, x_values_scaled_ss, y_value, scoring='accuracy', cv=kfcv)\n",
    "print(np.mean(n_scores))"
   ]
  },
  {
   "cell_type": "markdown",
   "id": "b4bc4aa9",
   "metadata": {},
   "source": [
    "Es ist zu erkennen, dass sich hier das gleiche Ergebnis ergibt, wie bei bei der obigen GridSearchCV. So konnte ausgeschlossen werden, dass die GridSearchCV bzw. das tatsächliche Modelling in diesem Kapitel falsch bzw. unterschiedlich implementiert wurden. Die Werte des Modellings außerhalb der GridSearchCV sind somit auch wirklich mit den anderen Werten vergleichbar. "
   ]
  },
  {
   "cell_type": "markdown",
   "id": "7cfd1f05",
   "metadata": {},
   "source": [
    "##### Interpretation (Sensitivitätsanalyse 1 - Logistische Regression)"
   ]
  },
  {
   "cell_type": "markdown",
   "id": "2690d9b5",
   "metadata": {},
   "source": [
    "Es ist zu erkennen, dass die Variante, die Unbalanciertheit des Datensatzes durch den 'class_weight'-Parameter der logistischen Regression in sklearn auszugleichen und das anschließende Training mit einem normalen KFold-Split durchzuführen, deutlich schlechtere Ergebnisse erzielt, als der StratifiedKFold-Split, weshalb dieser Ansatz verworfen wird. "
   ]
  },
  {
   "cell_type": "markdown",
   "id": "06ad94ad",
   "metadata": {},
   "source": [
    "#### 6.3.1.2 Veränderung des C-Wertes (logistische Regression)"
   ]
  },
  {
   "cell_type": "markdown",
   "id": "7ed2d32e",
   "metadata": {},
   "source": [
    "Ein weiterer wichtiger Parameter der logistischen Regression ist die Festlegung des Strafterms, der zu den einzelnen Koeffizienten der Regressionsgleichung hinzuaddiert wird. In sklearn kann dieser beeinflusst werden durch die Parameter 'penalty' und 'C'. Da die 'solver', die für die Multiclassklassifikation herangezogen werden können (‘newton-cg’, ‘sag’, ‘saga’ und ‘lbfgs’) nur in Kombination mit dem l2-Strafterm arbeiten können, ist die Wahl dieses Parameters hinfällig. Der 'C'-Parameter bestimmt die Stärke der Regulierung mittels der Strafterme. Er kann Werte von 0.0 bis 1.0 annehmen, wobei 1.0 für eine schwache Regulierung durch die Strafterme steht und 0.0 für eine starke Regulierung. "
   ]
  },
  {
   "cell_type": "code",
   "execution_count": null,
   "id": "d3d597ee",
   "metadata": {
    "scrolled": true
   },
   "outputs": [],
   "source": [
    "logreg = LogisticRegression(multi_class='multinomial')\n",
    "kfcv = StratifiedKFold(n_splits=5, shuffle=True, random_state=42)\n",
    "n_scores = cross_val_score(logreg, x_values_scaled_ss, y_value, scoring='f1_weighted', cv=kfcv)\n",
    "print(np.mean(n_scores))"
   ]
  },
  {
   "cell_type": "markdown",
   "id": "eebb9a23",
   "metadata": {},
   "source": [
    "##### Quellen\n",
    "\n",
    "*https://scikit-learn.org/stable/modules/generated/sklearn.linear_model.LogisticRegression.html*\n",
    "\n",
    "*https://machinelearningmastery.com/multinomial-logistic-regression-with-python/*"
   ]
  },
  {
   "cell_type": "markdown",
   "id": "b71737c9",
   "metadata": {},
   "source": [
    "##### Quellen zum Code\n",
    "*https://www.youtube.com/watch?v=HdlDYng8g9s*"
   ]
  },
  {
   "cell_type": "markdown",
   "id": "02e10e1b",
   "metadata": {},
   "source": [
    "##### weitere Quellen\n",
    "\n",
    "*https://machinelearningmastery.com/types-of-classification-in-machine-learning/*\n",
    "\n",
    "allgemeine Modellerklärung\n",
    "\n",
    "*https://towardsdatascience.com/decision-trees-explained-3ec41632ceb6*\n",
    "\n",
    "*https://towardsdatascience.com/random-forest-explained-7eae084f3ebe*\n",
    "\n",
    "RandomForestClassifier (Parameter)\n",
    "\n",
    "*https://towardsdatascience.com/random-forest-hyperparameters-and-how-to-fine-tune-them-17aee785ee0d*\n",
    "\n",
    "*https://scikit-learn.org/stable/modules/ensemble.html#parameters* (1.11.2.3 Parameters)\n",
    "\n",
    "*https://scikit-learn.org/stable/modules/generated/sklearn.ensemble.RandomForestClassifier.html*\n",
    "\n",
    "XGBoost (Parameter)\n",
    "\n",
    "*https://towardsdatascience.com/xgboost-for-multi-class-classification-799d96bcd368*\n",
    "\n",
    "*https://towardsdatascience.com/mastering-xgboost-2eb6bce6bc76*\n",
    "\n",
    "KNN (Parameter)\n",
    "\n",
    "*https://towardsdatascience.com/multiclass-classification-using-k-nearest-neighbours-ca5281a9ef76*\n",
    "\n",
    "*https://medium.com/analytics-vidhya/summary-of-knn-algorithm-when-used-for-classification-4934a1040983*\n",
    "\n",
    "*https://medium.datadriveninvestor.com/k-nearest-neighbors-in-python-hyperparameters-tuning-716734bc557f*\n",
    "\n",
    "*https://medium.com/@mohtedibf/in-depth-parameter-tuning-for-knn-4c0de485baf6*"
   ]
  },
  {
   "cell_type": "markdown",
   "id": "4d677b06",
   "metadata": {},
   "source": [
    "# 7. Evaluation (Multiclassklassifikation) - Machine Learning"
   ]
  },
  {
   "cell_type": "markdown",
   "id": "25a02569",
   "metadata": {},
   "source": [
    "- Balanced Accuracy Score\n",
    "- Cohen Kappa Score\n",
    "- Confusion Matrix\n",
    "- Hinge Loss\n",
    "- Matthews corrcoef\n",
    "- Roc_Auc_Score\n",
    "- Top K Accuray\n",
    "\n",
    "--> VISUALISIERUNGEN!"
   ]
  },
  {
   "cell_type": "markdown",
   "id": "978f645d",
   "metadata": {},
   "source": [
    "##### Quellen\n",
    "\n",
    "*https://scikit-learn.org/stable/modules/model_evaluation.html#multimetric-scoring*"
   ]
  },
  {
   "cell_type": "markdown",
   "id": "29b908ea",
   "metadata": {},
   "source": [
    "# 7.1 Classification Report"
   ]
  },
  {
   "cell_type": "code",
   "execution_count": null,
   "id": "d80f843f",
   "metadata": {
    "scrolled": true
   },
   "outputs": [],
   "source": [
    "target_names = ['Healthy', 'Prediabetes', 'Diabetes']\n",
    "\n",
    "print(classification_report(y_test_tts, clf_dtc.predict(x_test_tts), target_names = target_names))"
   ]
  },
  {
   "cell_type": "markdown",
   "id": "be62661b",
   "metadata": {},
   "source": [
    "## 7.2 f1 Score"
   ]
  },
  {
   "cell_type": "code",
   "execution_count": null,
   "id": "b3e0d220",
   "metadata": {
    "scrolled": true
   },
   "outputs": [],
   "source": [
    "# SVC\n",
    "# print(f1_score(y_test_tts, clf_svm.predict(x_test_tts), average = None, labels = [0.0,1.0,2.0]))\n",
    "\n",
    "# Decision Tree Classifier\n",
    "# print(f1_score(y_test_tts, clf_dtc.predict(x_test_tts), average = None, labels = [0.0,1.0,2.0]))\n",
    "\n",
    "# Random Forrest Classifier\n",
    "# print(f1_score(y_test_tts, clf_rfc.predict(x_test_tts), average = None, labels = [0.0,1.0,2.0]))\n",
    "# after Feature Selection\n",
    "# print(f1_score(y_test_tts_sel, clf_rfc_sel.predict(x_test_tts_sel), average = None, labels = [0.0,1.0,2.0]))"
   ]
  },
  {
   "cell_type": "markdown",
   "id": "f7ea4bda",
   "metadata": {},
   "source": [
    "# 8. Modelling - Deep Learning"
   ]
  },
  {
   "cell_type": "code",
   "execution_count": null,
   "id": "ac06d388",
   "metadata": {
    "scrolled": true
   },
   "outputs": [],
   "source": []
  },
  {
   "cell_type": "markdown",
   "id": "9712a725",
   "metadata": {},
   "source": [
    "##### Quellen \n",
    "\n",
    "*https://towardsdatascience.com/beginners-guide-to-deep-learning-with-tensorflow-ca85969b2f2*\n",
    "\n",
    "*https://towardsdatascience.com/a-simple-introduction-to-tensorflow-d992eb2e3dbb*\n",
    "\n",
    "*https://machinelearningmastery.com/how-to-prepare-categorical-data-for-deep-learning-in-python/*"
   ]
  },
  {
   "cell_type": "markdown",
   "id": "683b5bfd",
   "metadata": {},
   "source": [
    "# 9. Evaluation - Deep Learning"
   ]
  },
  {
   "cell_type": "markdown",
   "id": "77cb9771",
   "metadata": {},
   "source": [
    "# 10. Evalution"
   ]
  },
  {
   "cell_type": "markdown",
   "id": "35fb4e63",
   "metadata": {},
   "source": [
    "# Quellenverzeichnis"
   ]
  },
  {
   "cell_type": "markdown",
   "id": "085b1e42",
   "metadata": {},
   "source": [
    "##### Quellen (doppelte Zeilen entfernen)\n",
    "*https://deepchecks.com/what-is-data-cleaning/*\n",
    "\n",
    "##### Quellen (Feature Scaling)\n",
    "*Sarkar, Bali, Sharma (2018): Practical Machine Learning with Python, S.239. Apress.*\n",
    "\n",
    "*https://scikit-learn.org/stable/modules/cross_validation.html*\n",
    "\n",
    "##### Quellen (Evaluation)\n",
    "\n",
    "*https://medium.com/analytics-vidhya/accuracy-vs-f1-score-6258237beca2*"
   ]
  }
 ],
 "metadata": {
  "kernelspec": {
   "display_name": "Python 3 (ipykernel)",
   "language": "python",
   "name": "python3"
  },
  "language_info": {
   "codemirror_mode": {
    "name": "ipython",
    "version": 3
   },
   "file_extension": ".py",
   "mimetype": "text/x-python",
   "name": "python",
   "nbconvert_exporter": "python",
   "pygments_lexer": "ipython3",
   "version": "3.9.7"
  },
  "varInspector": {
   "cols": {
    "lenName": 16,
    "lenType": 16,
    "lenVar": 40
   },
   "kernels_config": {
    "python": {
     "delete_cmd_postfix": "",
     "delete_cmd_prefix": "del ",
     "library": "var_list.py",
     "varRefreshCmd": "print(var_dic_list())"
    },
    "r": {
     "delete_cmd_postfix": ") ",
     "delete_cmd_prefix": "rm(",
     "library": "var_list.r",
     "varRefreshCmd": "cat(var_dic_list()) "
    }
   },
   "types_to_exclude": [
    "module",
    "function",
    "builtin_function_or_method",
    "instance",
    "_Feature"
   ],
   "window_display": false
  }
 },
 "nbformat": 4,
 "nbformat_minor": 5
}
