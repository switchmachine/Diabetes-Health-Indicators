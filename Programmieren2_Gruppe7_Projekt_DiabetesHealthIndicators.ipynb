{
 "cells": [
  {
   "cell_type": "markdown",
   "id": "2b26e0ec",
   "metadata": {},
   "source": [
    "# Programmieren 2 Projekt Diabetes Health Indicators (Gruppe 7)"
   ]
  },
  {
   "cell_type": "markdown",
   "id": "6b516b3e",
   "metadata": {},
   "source": [
    "# 0. Vorbereitung"
   ]
  },
  {
   "cell_type": "markdown",
   "id": "f6f0ea6d",
   "metadata": {},
   "source": [
    "## 0.1 externe Bibliotheken installieren"
   ]
  },
  {
   "cell_type": "code",
   "execution_count": 2,
   "id": "3f6cd019",
   "metadata": {},
   "outputs": [],
   "source": [
    "# %pip install missingno"
   ]
  },
  {
   "cell_type": "markdown",
   "id": "b7ea6da9",
   "metadata": {},
   "source": [
    "## 0.2 Bibliotheken, Funktionen und Klassen importieren"
   ]
  },
  {
   "cell_type": "code",
   "execution_count": 3,
   "id": "5583e23a",
   "metadata": {
    "scrolled": false
   },
   "outputs": [],
   "source": [
    "# Bibliotheken\n",
    "import base64\n",
    "import pandas as pd\n",
    "import numpy as np\n",
    "import missingno as msno\n",
    "import matplotlib.pyplot as plt\n",
    "import seaborn as sns\n",
    "\n",
    "# Feature Selection\n",
    "# from scipy import stats\n",
    "from sklearn.feature_selection import RFE, RFECV, SelectKBest, f_classif, chi2, mutual_info_classif\n",
    "\n",
    "# Feature Scaling \n",
    "from sklearn.preprocessing import MinMaxScaler, StandardScaler\n",
    "\n",
    "# Splitting Data\n",
    "from sklearn.model_selection import StratifiedKFold\n",
    "\n",
    "# Modelling\n",
    "from sklearn.linear_model import LogisticRegression\n",
    "from sklearn.ensemble import RandomForestClassifier\n",
    "from sklearn.tree import DecisionTreeClassifier\n",
    "# from sklearn.multiclass import OneVsOneClassifier\n",
    "# from sklearn.multiclass import OneVsRestClassifier\n",
    "\n",
    "# Evaluation\n",
    "from sklearn.metrics import f1_score, classification_report"
   ]
  },
  {
   "cell_type": "markdown",
   "id": "63add62c",
   "metadata": {},
   "source": [
    "## 0.3 Datensatz aus OneDrive einlesen\n",
    "Der Datensatz wird aus OneDrive eingelesen. \n",
    "\n",
    "*Quelle: https://towardsdatascience.com/onedrive-as-data-storage-for-python-project-2ff8d2d3a0aa*"
   ]
  },
  {
   "cell_type": "code",
   "execution_count": 89,
   "id": "4f5bb9a7",
   "metadata": {},
   "outputs": [],
   "source": [
    "def create_onedrive_directdownload (onedrive_link):\n",
    "    data_bytes64 = base64.b64encode(bytes(onedrive_link, 'utf-8'))\n",
    "    data_bytes64_String = data_bytes64.decode('utf-8').replace('/','_').replace('+','-').rstrip(\"=\")\n",
    "    resultUrl = f\"https://api.onedrive.com/v1.0/shares/u!{data_bytes64_String}/root/content\"\n",
    "    return resultUrl\n",
    "\n",
    "df = pd.read_csv(create_onedrive_directdownload(\"https://1drv.ms/u/s!Ai0ffDmeM0ho1FNrZ1ho6d2NZqUV?e=MDLRDb\"),sep=\",\", engine=\"python\")\n",
    "# df_large = pd.read_csv(create_onedrive_directdownload(\"https://1drv.ms/u/s!Ai0ffDmeM0ho1RKf3ExkvP3fLF0q?e=N106Gb\"),sep=\",\", engine=\"python\")"
   ]
  },
  {
   "cell_type": "markdown",
   "id": "46ea5350",
   "metadata": {},
   "source": [
    "# 1. Business Understanding"
   ]
  },
  {
   "cell_type": "markdown",
   "id": "175ae653",
   "metadata": {},
   "source": [
    "## 1.1 Problemstellung"
   ]
  },
  {
   "cell_type": "markdown",
   "id": "61a17a44",
   "metadata": {},
   "source": [
    "## 1.2 Ziel des Projekts"
   ]
  },
  {
   "cell_type": "markdown",
   "id": "d2a08c88",
   "metadata": {},
   "source": [
    "## 1.3 Kritische Faktoren"
   ]
  },
  {
   "cell_type": "markdown",
   "id": "8ec3dd41",
   "metadata": {},
   "source": [
    "# 2. Data Understanding"
   ]
  },
  {
   "cell_type": "code",
   "execution_count": 5,
   "id": "3eb279d8",
   "metadata": {},
   "outputs": [],
   "source": [
    "# print(df_large.shape)\n",
    "# print(df_large.columns)"
   ]
  },
  {
   "cell_type": "markdown",
   "id": "a510ac2b",
   "metadata": {},
   "source": [
    "## 2.1 Variablen und Skalenniveaus"
   ]
  },
  {
   "cell_type": "markdown",
   "id": "17e426b2",
   "metadata": {},
   "source": [
    "Die Erklärung der Variablen des Datensatzes sind in der Beschreibung auf Kaggle bzw. in den Kommentaren zu finden. Zur Validierung der in Kaggle angegebenen Dokumentation kann der \"Codebook Report\" des Behavioral Risk Factor Surveillance System aus dem Jahr 2015 verwendet werden. Dieser beinhaltet eine Beschreibung des unbereinigten Datensatzes mit mehr als 300 Features. Da die Features beim Bereinigen zum Teil umbenannt wurden, ist es hilfreich, das Jupyter Notebook, das für die Bereinigung des großen Datensatzes erstellt wurde und auf Kaggle zu finden ist, hinzuzuziehen.\n",
    "\n",
    "Link zum Datensatz (Kaggle): *https://www.kaggle.com/datasets/alexteboul/diabetes-health-indicators-dataset*\n",
    "\n",
    "2015 Codebook Report (BRFSS): *https://www.cdc.gov/brfss/annual_data/2015/pdf/codebook15_llcp.pdf*\n",
    "\n",
    "Link zum unbereinigten Datensatz: *https://www.kaggle.com/datasets/cdc/behavioral-risk-factor-surveillance-system*\n",
    "\n",
    "Link zum Jupyer Notebook zur Bereinigung: *https://www.kaggle.com/code/alexteboul/diabetes-health-indicators-dataset-notebook/notebook*"
   ]
  },
  {
   "cell_type": "code",
   "execution_count": 6,
   "id": "bdbd88f6",
   "metadata": {},
   "outputs": [
    {
     "data": {
      "text/plain": [
       "Index(['Diabetes_012', 'HighBP', 'HighChol', 'CholCheck', 'BMI', 'Smoker',\n",
       "       'Stroke', 'HeartDiseaseorAttack', 'PhysActivity', 'Fruits', 'Veggies',\n",
       "       'HvyAlcoholConsump', 'AnyHealthcare', 'NoDocbcCost', 'GenHlth',\n",
       "       'MentHlth', 'PhysHlth', 'DiffWalk', 'Sex', 'Age', 'Education',\n",
       "       'Income'],\n",
       "      dtype='object')"
      ]
     },
     "execution_count": 6,
     "metadata": {},
     "output_type": "execute_result"
    }
   ],
   "source": [
    "df.columns"
   ]
  },
  {
   "cell_type": "markdown",
   "id": "035e9e89",
   "metadata": {},
   "source": [
    "### 2.1.1 Features\n",
    "\n",
    "#### demographische Features:\n",
    "**Sex**: nominalskaliert; 0 = weiblich, 1 = männlich\n",
    "\n",
    "**Age**: ordinalskaliert; 1 = 18-24 Jahre alt, 2 = 25-29 Jahre alt, 3 = 30 bis 34 Jahre alt, 4 = 35 - 39 Jahre alt, 5 = 40 bis 44 Jahre alt, 6  = 45 - 49 Jahre alt, 7 = 50 - 54 Jahre alt, 8 = 55 - 59 Jahre alt, 9 = 60 - 64 Jahre alt, 10 = 65 - 69 Jahre alt, 11 = 70 - 74 Jahre alt, 12 = 75 - 79 Jahre alt, 13 = 80 oder älter\n",
    "\n",
    "**Education**: ordinalskaliert; 1 = Kindergarten, 2 = Grundschule (Elementary School, Grade 1 through 8), 3 = Some High School  (Grade 9 through 11), 4 = High School Degree (Grade 12 or GED), 5 = College 1 year to 3 years (Some college or technical school), 6 = College 4 Years or more (College graduate)\n",
    "\n",
    "**Income**: ordinalskaliert; 1 = < 10000 USD Einkommen, 2 = 10000 - 15000 USD , 3 = 15000 - 20000 USD, 4 = 20000 - 25000 USD, 5 = 25000 - 35000 USD, 6 = 35000 - 50000 USD, 7 = 50000 - 75000 USD, 8 = 75000+ USD\n",
    "\n",
    "#### medizinische Features:\n",
    "**HighBP**: nominalskaliert; 0 = kein hoher Blutdruck, 1 = hoher Blutdruck\n",
    "\n",
    "**HighCol**: nominalskaliert; 0 = kein hoher Cholesterinspiegel, 1 = hoher Cholesterinspiegel\n",
    "\n",
    "**CholCheck**: nominalskaliert; 0 = kein Cholesterincheck in den letzten 5 Jahren, 1 = Cholesterincheck in den letzten 5 Jahren\n",
    "\n",
    "**HeartDieseaseorAttack**: nominalskaliert; 0 = keine Herzkrankheit oder Herzinfarkt, 1 = Herzkrankheit oder Herzinfarkt\n",
    "\n",
    "**BMI**: intervallskaliert, [kg/m²]\n",
    "\n",
    "**Stroke**: nominalskaliert; 0 = noch keinen Schlaganfall gehabt, 1 = Schlaganfall gehabt \n",
    "\n",
    "**AnyHealthCare**: nominalskaliert; 0 = keine Krankenversicherung, 1 = Krankenversicherung (bezogen auf USA)\n",
    "\n",
    "**NoDocbcCost**: nominalskaliert; 0 = konnte in den letzten 12 Monaten immer zum Doktor gehen, 1 = in den letzten 12 Monaten \n",
    "Doktor gebraucht aber nicht leisten können (bezogen auf USA)\n",
    "\n",
    "**GenHlth**: ordinalskaliert; genereller Gesundheitsstatus: 1 = exzellent, 2 = sehr gut, 3 = gut, 4 = in Ordnung, 5 = schlecht\n",
    "\n",
    "**MenHlth**: intervallskaliert; Anzahl der Tage in den letzten 30 Tagen, an denen es einem mental nicht gut ging (Stress, Depression, emotionale Probleme) \n",
    "\n",
    "**PhysHlth**: intervallskaliert; Anzahl der Tage in den letzten 30 Tagen, an denen es einem körperlich nicht gut ging (körperliche Krankheit, Verletzung)\n",
    "\n",
    "**DiffWalk**: nominalskaliert; 0 = keine Schwierigkeiten beim Laufen, 1 = Schwierigkeiten beim Laufen\n",
    "\n",
    "#### \"Lifestyle\" Features:\n",
    "\n",
    "**PhysActivity**: intervallskaliert; Anzahl der Tage in den letzten 30 Tagen, an denen man körperlich aktiv war\n",
    "\n",
    "**Fruits**: nominalskaliert; 0 = isst weniger als eine Frucht pro Tag, 1 = isst eine oder mehr Früchte pro Tag\n",
    "\n",
    "**Veggies**: nominalskaliert; 0 = isst weniger als ein Gemüse pro Tag, 1 = isst eine oder mehr Gemüse pro Tag\n",
    "\n",
    "**HvyAlcoholConsump**: nominalskaliert; 0 = weniger als 14 Drinks (7 bei Frauen) pro Woche, 1 = mehr als 14 Drinks (7 bei Frauen) pro Woche\n",
    "\n",
    "**Smoker**: nominalskaliert; 0 = nicht mehr als 100 Zigaretten im Leben geraucht, 1 = mehr als 100 Zigaretten im Leben geraucht\n",
    "\n",
    "### 2.1.2 Target\n",
    "\n",
    "**Diabetes_012**: nominalskaliert; 0 = gesund, 1 = prediabetes, 2 = diabetes"
   ]
  },
  {
   "cell_type": "markdown",
   "id": "c6fcc4d6",
   "metadata": {},
   "source": [
    "## 2.1.3 Variablen umbenennen"
   ]
  },
  {
   "cell_type": "markdown",
   "id": "6b52b773",
   "metadata": {},
   "source": [
    "Die meisten Variablen des Datensatzes werden bereits durch ihre Namen ausreichend erklärt. Trotzdem gibt es ein paar Variablen, bei denen es zum vollständigen Verständnis der Bedeutung noch einer zusätzlichen Erläuterung bedarf. Diese werden direkt zu Beginn passend umbenannt, damit später im Code, nach der Umbennenung, keine Probleme auftreten."
   ]
  },
  {
   "cell_type": "code",
   "execution_count": 96,
   "id": "628bd769",
   "metadata": {},
   "outputs": [
    {
     "data": {
      "text/plain": [
       "Index(['Diabetes_Type', 'HighBP', 'HighChol', 'CholCheck', 'BMI', 'Smoker',\n",
       "       'Stroke', 'HeartDiseaseorAttack', 'PhysActivity', 'Fruits', 'Veggies',\n",
       "       'HvyAlcoholConsump', 'AnyHealthcare', 'NoDocbcCost', 'GenHlth',\n",
       "       'MentHlth', 'PhysHlth', 'DiffWalk', 'Sex_male', 'Age', 'Education',\n",
       "       'Income'],\n",
       "      dtype='object')"
      ]
     },
     "execution_count": 96,
     "metadata": {},
     "output_type": "execute_result"
    }
   ],
   "source": [
    "df.rename(columns = {'Diabetes_012': 'Diabetes_Type', 'Sex': 'Sex_male'}, inplace = True)\n",
    "df.columns"
   ]
  },
  {
   "cell_type": "markdown",
   "id": "7d854441",
   "metadata": {},
   "source": [
    "Es ist zu erkennen, dass die Zielvariable 'Diabetes_012' zu 'Diabetes_Type' umbenannt wurde. Darüber hinaus heißt das Feature, dass das Geschlecht eines Patienten beinhalten nun 'Sex_male', wobei der Patient männlich ist, wenn der Wert der Variable 1 (True) ist.  "
   ]
  },
  {
   "cell_type": "markdown",
   "id": "0381de34",
   "metadata": {},
   "source": [
    "## 2.2 Einblick in den  Datensatz"
   ]
  },
  {
   "cell_type": "markdown",
   "id": "79468a31",
   "metadata": {},
   "source": [
    "### 2.2.1 grundlegende Informationen über den Datensatz"
   ]
  },
  {
   "cell_type": "code",
   "execution_count": 8,
   "id": "dea045ce",
   "metadata": {
    "scrolled": true
   },
   "outputs": [
    {
     "name": "stdout",
     "output_type": "stream",
     "text": [
      "<class 'pandas.core.frame.DataFrame'>\n",
      "RangeIndex: 253680 entries, 0 to 253679\n",
      "Data columns (total 22 columns):\n",
      " #   Column                Non-Null Count   Dtype  \n",
      "---  ------                --------------   -----  \n",
      " 0   Diabetes_Type         253680 non-null  float64\n",
      " 1   HighBP                253680 non-null  float64\n",
      " 2   HighChol              253680 non-null  float64\n",
      " 3   CholCheck             253680 non-null  float64\n",
      " 4   BMI                   253680 non-null  float64\n",
      " 5   Smoker                253680 non-null  float64\n",
      " 6   Stroke                253680 non-null  float64\n",
      " 7   HeartDiseaseorAttack  253680 non-null  float64\n",
      " 8   PhysActivity          253680 non-null  float64\n",
      " 9   Fruits                253680 non-null  float64\n",
      " 10  Veggies               253680 non-null  float64\n",
      " 11  HvyAlcoholConsump     253680 non-null  float64\n",
      " 12  AnyHealthcare         253680 non-null  float64\n",
      " 13  NoDocbcCost           253680 non-null  float64\n",
      " 14  GenHlth               253680 non-null  float64\n",
      " 15  MentHlth              253680 non-null  float64\n",
      " 16  PhysHlth              253680 non-null  float64\n",
      " 17  DiffWalk              253680 non-null  float64\n",
      " 18  Sex_male              253680 non-null  float64\n",
      " 19  Age                   253680 non-null  float64\n",
      " 20  Education             253680 non-null  float64\n",
      " 21  Income                253680 non-null  float64\n",
      "dtypes: float64(22)\n",
      "memory usage: 42.6 MB\n"
     ]
    }
   ],
   "source": [
    "df.info()"
   ]
  },
  {
   "cell_type": "markdown",
   "id": "38a800b3",
   "metadata": {},
   "source": [
    "### 2.2.1 Anzeige der ersten Zeilen"
   ]
  },
  {
   "cell_type": "code",
   "execution_count": 9,
   "id": "08244ccb",
   "metadata": {},
   "outputs": [
    {
     "data": {
      "text/html": [
       "<div>\n",
       "<style scoped>\n",
       "    .dataframe tbody tr th:only-of-type {\n",
       "        vertical-align: middle;\n",
       "    }\n",
       "\n",
       "    .dataframe tbody tr th {\n",
       "        vertical-align: top;\n",
       "    }\n",
       "\n",
       "    .dataframe thead th {\n",
       "        text-align: right;\n",
       "    }\n",
       "</style>\n",
       "<table border=\"1\" class=\"dataframe\">\n",
       "  <thead>\n",
       "    <tr style=\"text-align: right;\">\n",
       "      <th></th>\n",
       "      <th>Diabetes_Type</th>\n",
       "      <th>HighBP</th>\n",
       "      <th>HighChol</th>\n",
       "      <th>CholCheck</th>\n",
       "      <th>BMI</th>\n",
       "      <th>Smoker</th>\n",
       "      <th>Stroke</th>\n",
       "      <th>HeartDiseaseorAttack</th>\n",
       "      <th>PhysActivity</th>\n",
       "      <th>Fruits</th>\n",
       "      <th>Veggies</th>\n",
       "      <th>HvyAlcoholConsump</th>\n",
       "      <th>AnyHealthcare</th>\n",
       "      <th>NoDocbcCost</th>\n",
       "      <th>GenHlth</th>\n",
       "      <th>MentHlth</th>\n",
       "      <th>PhysHlth</th>\n",
       "      <th>DiffWalk</th>\n",
       "      <th>Sex_male</th>\n",
       "      <th>Age</th>\n",
       "      <th>Education</th>\n",
       "      <th>Income</th>\n",
       "    </tr>\n",
       "  </thead>\n",
       "  <tbody>\n",
       "    <tr>\n",
       "      <th>0</th>\n",
       "      <td>0.0</td>\n",
       "      <td>1.0</td>\n",
       "      <td>1.0</td>\n",
       "      <td>1.0</td>\n",
       "      <td>40.0</td>\n",
       "      <td>1.0</td>\n",
       "      <td>0.0</td>\n",
       "      <td>0.0</td>\n",
       "      <td>0.0</td>\n",
       "      <td>0.0</td>\n",
       "      <td>1.0</td>\n",
       "      <td>0.0</td>\n",
       "      <td>1.0</td>\n",
       "      <td>0.0</td>\n",
       "      <td>5.0</td>\n",
       "      <td>18.0</td>\n",
       "      <td>15.0</td>\n",
       "      <td>1.0</td>\n",
       "      <td>0.0</td>\n",
       "      <td>9.0</td>\n",
       "      <td>4.0</td>\n",
       "      <td>3.0</td>\n",
       "    </tr>\n",
       "    <tr>\n",
       "      <th>1</th>\n",
       "      <td>0.0</td>\n",
       "      <td>0.0</td>\n",
       "      <td>0.0</td>\n",
       "      <td>0.0</td>\n",
       "      <td>25.0</td>\n",
       "      <td>1.0</td>\n",
       "      <td>0.0</td>\n",
       "      <td>0.0</td>\n",
       "      <td>1.0</td>\n",
       "      <td>0.0</td>\n",
       "      <td>0.0</td>\n",
       "      <td>0.0</td>\n",
       "      <td>0.0</td>\n",
       "      <td>1.0</td>\n",
       "      <td>3.0</td>\n",
       "      <td>0.0</td>\n",
       "      <td>0.0</td>\n",
       "      <td>0.0</td>\n",
       "      <td>0.0</td>\n",
       "      <td>7.0</td>\n",
       "      <td>6.0</td>\n",
       "      <td>1.0</td>\n",
       "    </tr>\n",
       "    <tr>\n",
       "      <th>2</th>\n",
       "      <td>0.0</td>\n",
       "      <td>1.0</td>\n",
       "      <td>1.0</td>\n",
       "      <td>1.0</td>\n",
       "      <td>28.0</td>\n",
       "      <td>0.0</td>\n",
       "      <td>0.0</td>\n",
       "      <td>0.0</td>\n",
       "      <td>0.0</td>\n",
       "      <td>1.0</td>\n",
       "      <td>0.0</td>\n",
       "      <td>0.0</td>\n",
       "      <td>1.0</td>\n",
       "      <td>1.0</td>\n",
       "      <td>5.0</td>\n",
       "      <td>30.0</td>\n",
       "      <td>30.0</td>\n",
       "      <td>1.0</td>\n",
       "      <td>0.0</td>\n",
       "      <td>9.0</td>\n",
       "      <td>4.0</td>\n",
       "      <td>8.0</td>\n",
       "    </tr>\n",
       "    <tr>\n",
       "      <th>3</th>\n",
       "      <td>0.0</td>\n",
       "      <td>1.0</td>\n",
       "      <td>0.0</td>\n",
       "      <td>1.0</td>\n",
       "      <td>27.0</td>\n",
       "      <td>0.0</td>\n",
       "      <td>0.0</td>\n",
       "      <td>0.0</td>\n",
       "      <td>1.0</td>\n",
       "      <td>1.0</td>\n",
       "      <td>1.0</td>\n",
       "      <td>0.0</td>\n",
       "      <td>1.0</td>\n",
       "      <td>0.0</td>\n",
       "      <td>2.0</td>\n",
       "      <td>0.0</td>\n",
       "      <td>0.0</td>\n",
       "      <td>0.0</td>\n",
       "      <td>0.0</td>\n",
       "      <td>11.0</td>\n",
       "      <td>3.0</td>\n",
       "      <td>6.0</td>\n",
       "    </tr>\n",
       "    <tr>\n",
       "      <th>4</th>\n",
       "      <td>0.0</td>\n",
       "      <td>1.0</td>\n",
       "      <td>1.0</td>\n",
       "      <td>1.0</td>\n",
       "      <td>24.0</td>\n",
       "      <td>0.0</td>\n",
       "      <td>0.0</td>\n",
       "      <td>0.0</td>\n",
       "      <td>1.0</td>\n",
       "      <td>1.0</td>\n",
       "      <td>1.0</td>\n",
       "      <td>0.0</td>\n",
       "      <td>1.0</td>\n",
       "      <td>0.0</td>\n",
       "      <td>2.0</td>\n",
       "      <td>3.0</td>\n",
       "      <td>0.0</td>\n",
       "      <td>0.0</td>\n",
       "      <td>0.0</td>\n",
       "      <td>11.0</td>\n",
       "      <td>5.0</td>\n",
       "      <td>4.0</td>\n",
       "    </tr>\n",
       "  </tbody>\n",
       "</table>\n",
       "</div>"
      ],
      "text/plain": [
       "   Diabetes_Type  HighBP  HighChol  CholCheck   BMI  Smoker  Stroke  \\\n",
       "0            0.0     1.0       1.0        1.0  40.0     1.0     0.0   \n",
       "1            0.0     0.0       0.0        0.0  25.0     1.0     0.0   \n",
       "2            0.0     1.0       1.0        1.0  28.0     0.0     0.0   \n",
       "3            0.0     1.0       0.0        1.0  27.0     0.0     0.0   \n",
       "4            0.0     1.0       1.0        1.0  24.0     0.0     0.0   \n",
       "\n",
       "   HeartDiseaseorAttack  PhysActivity  Fruits  Veggies  HvyAlcoholConsump  \\\n",
       "0                   0.0           0.0     0.0      1.0                0.0   \n",
       "1                   0.0           1.0     0.0      0.0                0.0   \n",
       "2                   0.0           0.0     1.0      0.0                0.0   \n",
       "3                   0.0           1.0     1.0      1.0                0.0   \n",
       "4                   0.0           1.0     1.0      1.0                0.0   \n",
       "\n",
       "   AnyHealthcare  NoDocbcCost  GenHlth  MentHlth  PhysHlth  DiffWalk  \\\n",
       "0            1.0          0.0      5.0      18.0      15.0       1.0   \n",
       "1            0.0          1.0      3.0       0.0       0.0       0.0   \n",
       "2            1.0          1.0      5.0      30.0      30.0       1.0   \n",
       "3            1.0          0.0      2.0       0.0       0.0       0.0   \n",
       "4            1.0          0.0      2.0       3.0       0.0       0.0   \n",
       "\n",
       "   Sex_male   Age  Education  Income  \n",
       "0       0.0   9.0        4.0     3.0  \n",
       "1       0.0   7.0        6.0     1.0  \n",
       "2       0.0   9.0        4.0     8.0  \n",
       "3       0.0  11.0        3.0     6.0  \n",
       "4       0.0  11.0        5.0     4.0  "
      ]
     },
     "execution_count": 9,
     "metadata": {},
     "output_type": "execute_result"
    }
   ],
   "source": [
    "pd.set_option('display.max_columns', None)\n",
    "df.head()"
   ]
  },
  {
   "cell_type": "markdown",
   "id": "1d565180",
   "metadata": {},
   "source": [
    "### 2.2.2 Anzeige der letzten Zeilen"
   ]
  },
  {
   "cell_type": "code",
   "execution_count": 10,
   "id": "dae30ccf",
   "metadata": {},
   "outputs": [],
   "source": [
    "# df.tail()"
   ]
  },
  {
   "cell_type": "markdown",
   "id": "8c3b3b5d",
   "metadata": {},
   "source": [
    "### 2.2.3 Größe des Datensatzes"
   ]
  },
  {
   "cell_type": "code",
   "execution_count": 11,
   "id": "26caf6a3",
   "metadata": {},
   "outputs": [
    {
     "name": "stdout",
     "output_type": "stream",
     "text": [
      "Der Datensatz hat 253680 Zeilen und 22 Spalten.\n"
     ]
    }
   ],
   "source": [
    "print(f'Der Datensatz hat {df.shape[0]} Zeilen und {df.shape[1]} Spalten.')"
   ]
  },
  {
   "cell_type": "markdown",
   "id": "c0046963",
   "metadata": {},
   "source": [
    "### 2.2.4 Anzahl der einzigartigen Werte pro Feature"
   ]
  },
  {
   "cell_type": "code",
   "execution_count": 12,
   "id": "e5ceebf6",
   "metadata": {},
   "outputs": [
    {
     "data": {
      "text/plain": [
       "Diabetes_Type            3\n",
       "HighBP                   2\n",
       "HighChol                 2\n",
       "CholCheck                2\n",
       "BMI                     84\n",
       "Smoker                   2\n",
       "Stroke                   2\n",
       "HeartDiseaseorAttack     2\n",
       "PhysActivity             2\n",
       "Fruits                   2\n",
       "Veggies                  2\n",
       "HvyAlcoholConsump        2\n",
       "AnyHealthcare            2\n",
       "NoDocbcCost              2\n",
       "GenHlth                  5\n",
       "MentHlth                31\n",
       "PhysHlth                31\n",
       "DiffWalk                 2\n",
       "Sex_male                 2\n",
       "Age                     13\n",
       "Education                6\n",
       "Income                   8\n",
       "dtype: int64"
      ]
     },
     "execution_count": 12,
     "metadata": {},
     "output_type": "execute_result"
    }
   ],
   "source": [
    "df.nunique()"
   ]
  },
  {
   "cell_type": "markdown",
   "id": "80f5587c",
   "metadata": {},
   "source": [
    "## 2.3 Deskriptive Statistik im Datensatz"
   ]
  },
  {
   "cell_type": "code",
   "execution_count": 13,
   "id": "8e956631",
   "metadata": {
    "scrolled": false
   },
   "outputs": [
    {
     "data": {
      "text/html": [
       "<div>\n",
       "<style scoped>\n",
       "    .dataframe tbody tr th:only-of-type {\n",
       "        vertical-align: middle;\n",
       "    }\n",
       "\n",
       "    .dataframe tbody tr th {\n",
       "        vertical-align: top;\n",
       "    }\n",
       "\n",
       "    .dataframe thead th {\n",
       "        text-align: right;\n",
       "    }\n",
       "</style>\n",
       "<table border=\"1\" class=\"dataframe\">\n",
       "  <thead>\n",
       "    <tr style=\"text-align: right;\">\n",
       "      <th></th>\n",
       "      <th>Diabetes_Type</th>\n",
       "      <th>HighBP</th>\n",
       "      <th>HighChol</th>\n",
       "      <th>CholCheck</th>\n",
       "      <th>BMI</th>\n",
       "      <th>Smoker</th>\n",
       "      <th>Stroke</th>\n",
       "      <th>HeartDiseaseorAttack</th>\n",
       "      <th>PhysActivity</th>\n",
       "      <th>Fruits</th>\n",
       "      <th>Veggies</th>\n",
       "      <th>HvyAlcoholConsump</th>\n",
       "      <th>AnyHealthcare</th>\n",
       "      <th>NoDocbcCost</th>\n",
       "      <th>GenHlth</th>\n",
       "      <th>MentHlth</th>\n",
       "      <th>PhysHlth</th>\n",
       "      <th>DiffWalk</th>\n",
       "      <th>Sex_male</th>\n",
       "      <th>Age</th>\n",
       "      <th>Education</th>\n",
       "      <th>Income</th>\n",
       "    </tr>\n",
       "  </thead>\n",
       "  <tbody>\n",
       "    <tr>\n",
       "      <th>count</th>\n",
       "      <td>253680.000000</td>\n",
       "      <td>253680.000000</td>\n",
       "      <td>253680.000000</td>\n",
       "      <td>253680.000000</td>\n",
       "      <td>253680.000000</td>\n",
       "      <td>253680.000000</td>\n",
       "      <td>253680.000000</td>\n",
       "      <td>253680.000000</td>\n",
       "      <td>253680.000000</td>\n",
       "      <td>253680.000000</td>\n",
       "      <td>253680.000000</td>\n",
       "      <td>253680.000000</td>\n",
       "      <td>253680.000000</td>\n",
       "      <td>253680.000000</td>\n",
       "      <td>253680.000000</td>\n",
       "      <td>253680.000000</td>\n",
       "      <td>253680.000000</td>\n",
       "      <td>253680.000000</td>\n",
       "      <td>253680.000000</td>\n",
       "      <td>253680.000000</td>\n",
       "      <td>253680.000000</td>\n",
       "      <td>253680.000000</td>\n",
       "    </tr>\n",
       "    <tr>\n",
       "      <th>mean</th>\n",
       "      <td>0.296921</td>\n",
       "      <td>0.429001</td>\n",
       "      <td>0.424121</td>\n",
       "      <td>0.962670</td>\n",
       "      <td>28.382364</td>\n",
       "      <td>0.443169</td>\n",
       "      <td>0.040571</td>\n",
       "      <td>0.094186</td>\n",
       "      <td>0.756544</td>\n",
       "      <td>0.634256</td>\n",
       "      <td>0.811420</td>\n",
       "      <td>0.056197</td>\n",
       "      <td>0.951053</td>\n",
       "      <td>0.084177</td>\n",
       "      <td>2.511392</td>\n",
       "      <td>3.184772</td>\n",
       "      <td>4.242081</td>\n",
       "      <td>0.168224</td>\n",
       "      <td>0.440342</td>\n",
       "      <td>8.032119</td>\n",
       "      <td>5.050434</td>\n",
       "      <td>6.053875</td>\n",
       "    </tr>\n",
       "    <tr>\n",
       "      <th>std</th>\n",
       "      <td>0.698160</td>\n",
       "      <td>0.494934</td>\n",
       "      <td>0.494210</td>\n",
       "      <td>0.189571</td>\n",
       "      <td>6.608694</td>\n",
       "      <td>0.496761</td>\n",
       "      <td>0.197294</td>\n",
       "      <td>0.292087</td>\n",
       "      <td>0.429169</td>\n",
       "      <td>0.481639</td>\n",
       "      <td>0.391175</td>\n",
       "      <td>0.230302</td>\n",
       "      <td>0.215759</td>\n",
       "      <td>0.277654</td>\n",
       "      <td>1.068477</td>\n",
       "      <td>7.412847</td>\n",
       "      <td>8.717951</td>\n",
       "      <td>0.374066</td>\n",
       "      <td>0.496429</td>\n",
       "      <td>3.054220</td>\n",
       "      <td>0.985774</td>\n",
       "      <td>2.071148</td>\n",
       "    </tr>\n",
       "    <tr>\n",
       "      <th>min</th>\n",
       "      <td>0.000000</td>\n",
       "      <td>0.000000</td>\n",
       "      <td>0.000000</td>\n",
       "      <td>0.000000</td>\n",
       "      <td>12.000000</td>\n",
       "      <td>0.000000</td>\n",
       "      <td>0.000000</td>\n",
       "      <td>0.000000</td>\n",
       "      <td>0.000000</td>\n",
       "      <td>0.000000</td>\n",
       "      <td>0.000000</td>\n",
       "      <td>0.000000</td>\n",
       "      <td>0.000000</td>\n",
       "      <td>0.000000</td>\n",
       "      <td>1.000000</td>\n",
       "      <td>0.000000</td>\n",
       "      <td>0.000000</td>\n",
       "      <td>0.000000</td>\n",
       "      <td>0.000000</td>\n",
       "      <td>1.000000</td>\n",
       "      <td>1.000000</td>\n",
       "      <td>1.000000</td>\n",
       "    </tr>\n",
       "    <tr>\n",
       "      <th>25%</th>\n",
       "      <td>0.000000</td>\n",
       "      <td>0.000000</td>\n",
       "      <td>0.000000</td>\n",
       "      <td>1.000000</td>\n",
       "      <td>24.000000</td>\n",
       "      <td>0.000000</td>\n",
       "      <td>0.000000</td>\n",
       "      <td>0.000000</td>\n",
       "      <td>1.000000</td>\n",
       "      <td>0.000000</td>\n",
       "      <td>1.000000</td>\n",
       "      <td>0.000000</td>\n",
       "      <td>1.000000</td>\n",
       "      <td>0.000000</td>\n",
       "      <td>2.000000</td>\n",
       "      <td>0.000000</td>\n",
       "      <td>0.000000</td>\n",
       "      <td>0.000000</td>\n",
       "      <td>0.000000</td>\n",
       "      <td>6.000000</td>\n",
       "      <td>4.000000</td>\n",
       "      <td>5.000000</td>\n",
       "    </tr>\n",
       "    <tr>\n",
       "      <th>50%</th>\n",
       "      <td>0.000000</td>\n",
       "      <td>0.000000</td>\n",
       "      <td>0.000000</td>\n",
       "      <td>1.000000</td>\n",
       "      <td>27.000000</td>\n",
       "      <td>0.000000</td>\n",
       "      <td>0.000000</td>\n",
       "      <td>0.000000</td>\n",
       "      <td>1.000000</td>\n",
       "      <td>1.000000</td>\n",
       "      <td>1.000000</td>\n",
       "      <td>0.000000</td>\n",
       "      <td>1.000000</td>\n",
       "      <td>0.000000</td>\n",
       "      <td>2.000000</td>\n",
       "      <td>0.000000</td>\n",
       "      <td>0.000000</td>\n",
       "      <td>0.000000</td>\n",
       "      <td>0.000000</td>\n",
       "      <td>8.000000</td>\n",
       "      <td>5.000000</td>\n",
       "      <td>7.000000</td>\n",
       "    </tr>\n",
       "    <tr>\n",
       "      <th>75%</th>\n",
       "      <td>0.000000</td>\n",
       "      <td>1.000000</td>\n",
       "      <td>1.000000</td>\n",
       "      <td>1.000000</td>\n",
       "      <td>31.000000</td>\n",
       "      <td>1.000000</td>\n",
       "      <td>0.000000</td>\n",
       "      <td>0.000000</td>\n",
       "      <td>1.000000</td>\n",
       "      <td>1.000000</td>\n",
       "      <td>1.000000</td>\n",
       "      <td>0.000000</td>\n",
       "      <td>1.000000</td>\n",
       "      <td>0.000000</td>\n",
       "      <td>3.000000</td>\n",
       "      <td>2.000000</td>\n",
       "      <td>3.000000</td>\n",
       "      <td>0.000000</td>\n",
       "      <td>1.000000</td>\n",
       "      <td>10.000000</td>\n",
       "      <td>6.000000</td>\n",
       "      <td>8.000000</td>\n",
       "    </tr>\n",
       "    <tr>\n",
       "      <th>max</th>\n",
       "      <td>2.000000</td>\n",
       "      <td>1.000000</td>\n",
       "      <td>1.000000</td>\n",
       "      <td>1.000000</td>\n",
       "      <td>98.000000</td>\n",
       "      <td>1.000000</td>\n",
       "      <td>1.000000</td>\n",
       "      <td>1.000000</td>\n",
       "      <td>1.000000</td>\n",
       "      <td>1.000000</td>\n",
       "      <td>1.000000</td>\n",
       "      <td>1.000000</td>\n",
       "      <td>1.000000</td>\n",
       "      <td>1.000000</td>\n",
       "      <td>5.000000</td>\n",
       "      <td>30.000000</td>\n",
       "      <td>30.000000</td>\n",
       "      <td>1.000000</td>\n",
       "      <td>1.000000</td>\n",
       "      <td>13.000000</td>\n",
       "      <td>6.000000</td>\n",
       "      <td>8.000000</td>\n",
       "    </tr>\n",
       "  </tbody>\n",
       "</table>\n",
       "</div>"
      ],
      "text/plain": [
       "       Diabetes_Type         HighBP       HighChol      CholCheck  \\\n",
       "count  253680.000000  253680.000000  253680.000000  253680.000000   \n",
       "mean        0.296921       0.429001       0.424121       0.962670   \n",
       "std         0.698160       0.494934       0.494210       0.189571   \n",
       "min         0.000000       0.000000       0.000000       0.000000   \n",
       "25%         0.000000       0.000000       0.000000       1.000000   \n",
       "50%         0.000000       0.000000       0.000000       1.000000   \n",
       "75%         0.000000       1.000000       1.000000       1.000000   \n",
       "max         2.000000       1.000000       1.000000       1.000000   \n",
       "\n",
       "                 BMI         Smoker         Stroke  HeartDiseaseorAttack  \\\n",
       "count  253680.000000  253680.000000  253680.000000         253680.000000   \n",
       "mean       28.382364       0.443169       0.040571              0.094186   \n",
       "std         6.608694       0.496761       0.197294              0.292087   \n",
       "min        12.000000       0.000000       0.000000              0.000000   \n",
       "25%        24.000000       0.000000       0.000000              0.000000   \n",
       "50%        27.000000       0.000000       0.000000              0.000000   \n",
       "75%        31.000000       1.000000       0.000000              0.000000   \n",
       "max        98.000000       1.000000       1.000000              1.000000   \n",
       "\n",
       "        PhysActivity         Fruits        Veggies  HvyAlcoholConsump  \\\n",
       "count  253680.000000  253680.000000  253680.000000      253680.000000   \n",
       "mean        0.756544       0.634256       0.811420           0.056197   \n",
       "std         0.429169       0.481639       0.391175           0.230302   \n",
       "min         0.000000       0.000000       0.000000           0.000000   \n",
       "25%         1.000000       0.000000       1.000000           0.000000   \n",
       "50%         1.000000       1.000000       1.000000           0.000000   \n",
       "75%         1.000000       1.000000       1.000000           0.000000   \n",
       "max         1.000000       1.000000       1.000000           1.000000   \n",
       "\n",
       "       AnyHealthcare    NoDocbcCost        GenHlth       MentHlth  \\\n",
       "count  253680.000000  253680.000000  253680.000000  253680.000000   \n",
       "mean        0.951053       0.084177       2.511392       3.184772   \n",
       "std         0.215759       0.277654       1.068477       7.412847   \n",
       "min         0.000000       0.000000       1.000000       0.000000   \n",
       "25%         1.000000       0.000000       2.000000       0.000000   \n",
       "50%         1.000000       0.000000       2.000000       0.000000   \n",
       "75%         1.000000       0.000000       3.000000       2.000000   \n",
       "max         1.000000       1.000000       5.000000      30.000000   \n",
       "\n",
       "            PhysHlth       DiffWalk       Sex_male            Age  \\\n",
       "count  253680.000000  253680.000000  253680.000000  253680.000000   \n",
       "mean        4.242081       0.168224       0.440342       8.032119   \n",
       "std         8.717951       0.374066       0.496429       3.054220   \n",
       "min         0.000000       0.000000       0.000000       1.000000   \n",
       "25%         0.000000       0.000000       0.000000       6.000000   \n",
       "50%         0.000000       0.000000       0.000000       8.000000   \n",
       "75%         3.000000       0.000000       1.000000      10.000000   \n",
       "max        30.000000       1.000000       1.000000      13.000000   \n",
       "\n",
       "           Education         Income  \n",
       "count  253680.000000  253680.000000  \n",
       "mean        5.050434       6.053875  \n",
       "std         0.985774       2.071148  \n",
       "min         1.000000       1.000000  \n",
       "25%         4.000000       5.000000  \n",
       "50%         5.000000       7.000000  \n",
       "75%         6.000000       8.000000  \n",
       "max         6.000000       8.000000  "
      ]
     },
     "execution_count": 13,
     "metadata": {},
     "output_type": "execute_result"
    }
   ],
   "source": [
    "df.describe()"
   ]
  },
  {
   "cell_type": "markdown",
   "id": "ef9ac45a",
   "metadata": {},
   "source": [
    "## 2.4 Klassenverteilung im Datensatz bezüglich der Zielvariable"
   ]
  },
  {
   "cell_type": "code",
   "execution_count": 14,
   "id": "58123676",
   "metadata": {},
   "outputs": [
    {
     "data": {
      "text/plain": [
       "0.0    213703\n",
       "2.0     35346\n",
       "1.0      4631\n",
       "Name: Diabetes_Type, dtype: int64"
      ]
     },
     "execution_count": 14,
     "metadata": {},
     "output_type": "execute_result"
    }
   ],
   "source": [
    "Diabetes_valuecount = df['Diabetes_Type'].value_counts()\n",
    "Diabetes_valuecount"
   ]
  },
  {
   "cell_type": "markdown",
   "id": "b11518e3",
   "metadata": {},
   "source": [
    "### 2.4.1 Visualisierung - Klassenverteilung im Datensatz"
   ]
  },
  {
   "cell_type": "markdown",
   "id": "71958648",
   "metadata": {},
   "source": [
    "Zur Visualisierung der Klassenverteilung im Datensatz bezüglich der Targetvariable 'Diabetes_012' wird im Folgenden ein **Pieplot** mittels der pie()-Funktion aus der matplotlib-library erstellt."
   ]
  },
  {
   "cell_type": "code",
   "execution_count": 15,
   "id": "8970e88d",
   "metadata": {},
   "outputs": [
    {
     "data": {
      "image/png": "[encoded data removed]",
      "text/plain": [
       "<Figure size 432x288 with 1 Axes>"
      ]
     },
     "metadata": {},
     "output_type": "display_data"
    }
   ],
   "source": [
    "%matplotlib inline\n",
    "labels = ['No Diabetes', 'Diabetes', 'Prediabetes']\n",
    "plt.pie(Diabetes_valuecount, labels = Diabetes_valuecount)\n",
    "plt.legend(labels)\n",
    "plt.title('Verteilung des Diabetes-Status')\n",
    "plt.show()"
   ]
  },
  {
   "cell_type": "markdown",
   "id": "15c49f34",
   "metadata": {},
   "source": [
    "### 2.4.2 Ergebnis (absolute Werte) - Klassenverteilung im Datensatz \n",
    "Der Datensatz ist **unausgewogen**. Das bedeutet, dass eine Klasse des Datensatzes gegenüber den anderen deutlich über-/unterrepräsentiert ist.\n",
    "\n",
    "213703 Personen im Datensatz haben kein Diabetes, 4631 Personen haben Pre-Diabetes, und 35346 Personen haben Diabetes."
   ]
  },
  {
   "cell_type": "markdown",
   "id": "dc8f6ffc",
   "metadata": {},
   "source": [
    "### 2.4.3 Ergebnis (prozentualer Anteil) - Klassenverteilung im Datensatz"
   ]
  },
  {
   "cell_type": "code",
   "execution_count": 53,
   "id": "1f61cea3",
   "metadata": {},
   "outputs": [],
   "source": [
    "# df_diab_val_count = Diabetes_valuecount.to_frame(name='absolute Werte')\n",
    "# df_diab_val_count['prozentual'] = df_diab_val_count['absolute Werte']/ df_diab_val_count.shape[0]\n",
    "# df_diab_val_count"
   ]
  },
  {
   "cell_type": "code",
   "execution_count": 73,
   "id": "c910f887",
   "metadata": {},
   "outputs": [],
   "source": [
    "# Funktion zur Berechnung der prozentualen Klassenverteilung im Datensatz\n",
    "\n",
    "def calc_prozentual_target(df):\n",
    "    # Shape \n",
    "    df_diab0 = df.loc[df['Diabetes_Type'] == 0.0]\n",
    "    df_diab1 = df.loc[df['Diabetes_Type'] == 1.0]\n",
    "    df_diab2 = df.loc[df['Diabetes_Type'] == 2.0]\n",
    "\n",
    "    df_diab0_count = df_diab0.shape[0]\n",
    "    df_diab1_count = df_diab1.shape[0]\n",
    "    df_diab2_count = df_diab2.shape[0]\n",
    "\n",
    "    df_diab0_perc = round((df_diab0_count/df.shape[0])*100, 3)\n",
    "    df_diab1_perc = round((df_diab1_count/df.shape[0])*100, 3)\n",
    "    df_diab2_perc = round((df_diab2_count/df.shape[0])*100, 3)\n",
    "    \n",
    "    diabetes_perc_list = [df_diab0_perc, df_diab1_perc, df_diab2_perc]\n",
    "    \n",
    "    return diabetes_perc_list"
   ]
  },
  {
   "cell_type": "code",
   "execution_count": 55,
   "id": "11244f17",
   "metadata": {},
   "outputs": [
    {
     "name": "stdout",
     "output_type": "stream",
     "text": [
      "Der vollständige Datensatz enthält 82.711 % gesunde Patienten, 2.015 % Patienten mit Prediabetes und 15.274% Patienten mit \n",
      "Diabetes.\n"
     ]
    }
   ],
   "source": [
    "diabetes_perc_df = calc_prozentual_target(df)\n",
    "\n",
    "print(f'Der vollständige Datensatz enthält {diabetes_perc_df[0]} % gesunde Patienten, {diabetes_perc_df[1]} % Patienten mit Prediabetes und {diabetes_perc_df[2] }% Patienten mit \\nDiabetes.')"
   ]
  },
  {
   "cell_type": "markdown",
   "id": "4435530c",
   "metadata": {},
   "source": [
    "## 2.5 Fehlende Werte"
   ]
  },
  {
   "cell_type": "markdown",
   "id": "127a39d5",
   "metadata": {},
   "source": [
    "Zur Visualisierung möglicher fehlender Werte im Datensatz wird eine **Missing-Data-Matrix** mithilfe der missingno-Bibliothek erstellt. Diese besteht aus schwarzen Balken für die jeweiligen Variablen. Mögliche fehlende Werte wären durch weiße Striche in den Balken gekennzeichnet."
   ]
  },
  {
   "cell_type": "markdown",
   "id": "ac440e50",
   "metadata": {},
   "source": [
    "##### Visualisierung - Fehlende Werte"
   ]
  },
  {
   "cell_type": "code",
   "execution_count": 51,
   "id": "2e7a644b",
   "metadata": {},
   "outputs": [
    {
     "data": {
      "text/plain": [
       "<AxesSubplot:>"
      ]
     },
     "execution_count": 51,
     "metadata": {},
     "output_type": "execute_result"
    },
    {
     "data": {
      "image/png": "[encoded data removed]",
      "text/plain": [
       "<Figure size 1800x720 with 2 Axes>"
      ]
     },
     "metadata": {
      "needs_background": "light"
     },
     "output_type": "display_data"
    }
   ],
   "source": [
    "%matplotlib inline\n",
    "msno.matrix(df)"
   ]
  },
  {
   "cell_type": "markdown",
   "id": "d30951f8",
   "metadata": {},
   "source": [
    "##### Ergebnis - Fehlende Werte"
   ]
  },
  {
   "cell_type": "code",
   "execution_count": 52,
   "id": "e16431b4",
   "metadata": {},
   "outputs": [
    {
     "name": "stdout",
     "output_type": "stream",
     "text": [
      "Der Datensatz enthält 0 fehlende Werte.\n"
     ]
    }
   ],
   "source": [
    "print(f'Der Datensatz enthält {df.isnull().sum().sum()} fehlende Werte.')"
   ]
  },
  {
   "cell_type": "markdown",
   "id": "6896dcd5",
   "metadata": {},
   "source": [
    "Dies ist bereits in der Infotabelle unter Kapitel 2.2.1 zu erkennen, da bei keiner Variable die Anzahl von \"non-null\"-Werten von der Gesamtgröße des Datensatzes abweicht. In Kapitel 2.5.1 wird dies durch die graphische Veranschaulichung nochmals bestätigt. \n",
    "\n",
    "Da es sich beim Datensatz um einen bereits bereinigten Datensatz handelt, war dies bereits zu erwarten. Aufgrund der Vollständigkeit des Datensatzes ist eine weitere Behandlung möglicher fehlender Werte in Kap. 3 (Data Preparation) überflüssig.  "
   ]
  },
  {
   "cell_type": "markdown",
   "id": "424c5a26",
   "metadata": {
    "heading_collapsed": true
   },
   "source": [
    "## 2.6 Explorative Analyse des Datensatzes"
   ]
  },
  {
   "cell_type": "markdown",
   "id": "287ac39d",
   "metadata": {
    "hidden": true
   },
   "source": [
    "### 2.6.1 Visualisierung mit Boxplots\n",
    "Um eine erste Idee vom Datensatz und möglichen **Ausreißern** bei den Features zu bekommen, wird jeweils ein **Boxplot** für jede nicht binäre Variable erstellt. Die Voraussetzung, um einen Boxplot berechnen zu können, ist eine Variable, die **mindestens Ordinalskalen-Niveau** hat. Zur Erstellung der Boxplots wird die boxplot()-Funktion aus der seaborn-library verwendet.\n",
    "\n",
    "*https://www.statistikpsychologie.de/boxplot/#:~:text=Die%20Voraussetzung%2C%20um%20einen%20Boxplot,den%20Skalenniveaus%20findest%20du%20hier)*"
   ]
  },
  {
   "cell_type": "code",
   "execution_count": 59,
   "id": "59dde8cd",
   "metadata": {
    "hidden": true
   },
   "outputs": [
    {
     "data": {
      "image/png": "[encoded data removed]",
      "text/plain": [
       "<Figure size 1080x1080 with 7 Axes>"
      ]
     },
     "metadata": {
      "needs_background": "light"
     },
     "output_type": "display_data"
    }
   ],
   "source": [
    "%matplotlib inline\n",
    "\n",
    "features_boxplots = ['Age', 'Education', 'Income', 'MentHlth', 'GenHlth', 'PhysHlth', 'BMI']\n",
    "\n",
    "fig, axes = plt.subplots(nrows=3, ncols=3, figsize=(15,15))\n",
    "\n",
    "row_count = 0\n",
    "col_count = 0\n",
    "\n",
    "for feature in features_boxplots:\n",
    "    sns.boxplot(ax=axes[row_count, col_count], data=df, x='Diabetes_Type', y=feature, palette=['Green', 'Orange', 'Red'])\n",
    "    col_count += 1\n",
    "    if col_count > 2:\n",
    "        row_count += 1\n",
    "        col_count = 0\n",
    "\n",
    "fig.delaxes(axes[2,1])\n",
    "fig.delaxes(axes[2,2])"
   ]
  },
  {
   "cell_type": "markdown",
   "id": "778a3201",
   "metadata": {
    "hidden": true
   },
   "source": [
    "##### Interpretation - Boxplots"
   ]
  },
  {
   "cell_type": "code",
   "execution_count": 20,
   "id": "a1b034c1",
   "metadata": {
    "hidden": true
   },
   "outputs": [],
   "source": [
    "# Erklärung, warum bei manchen Boxplots der Median nicht eingezeichnet ist"
   ]
  },
  {
   "cell_type": "markdown",
   "id": "d3bce1c7",
   "metadata": {
    "hidden": true
   },
   "source": [
    "### 2.6.2 Visualisierung mit Säulendiagrammen\n",
    "Zur Darstellung der Verteilung der **nominalskalierten** Variablen werden im Folgenden einige Säulendiagramme erstellt."
   ]
  },
  {
   "cell_type": "code",
   "execution_count": 21,
   "id": "8179fc77",
   "metadata": {
    "hidden": true
   },
   "outputs": [],
   "source": [
    "# Funktion zur Berechnung der bedingten Wahrscheinlichkeiten bestimmter Features unter der Bedinung des Diabetes-Status\n",
    "\n",
    "def create_diabetes_feature_tab(feature):\n",
    "    # DataFrame erstellen, der die Anzahl aller Zugehörigen eines Features unter der Bedinungen des Diabetes-Status enthält \n",
    "    diabetes_feature_count = df.groupby(['Diabetes_Type', feature]).size().reset_index(name = 'Count')\n",
    "    # DataFrame erstellen, der die Anzahl aller Zugehörigen zum jeweiligen Diabetes-Typ enthält\n",
    "    diabetes_count_total = diabetes_feature_count.groupby(['Diabetes_Type']).sum().Count\n",
    "    # gerade erstellte DataFrames zusammenfügen\n",
    "    diabetes_feature_count_tab = diabetes_feature_count.set_index('Diabetes_Type').join(diabetes_count_total,rsuffix='_Diabetes')\n",
    "    # neue Spalte hinzufügen, die prozentualen Anteil von Personen einer Featureausprägung in Bezug auf jeweiligen Diabetestyp enthält\n",
    "    diabetes_feature_count_tab['Percentage'] = diabetes_feature_count_tab['Count']/diabetes_feature_count_tab['Count_Diabetes']\n",
    "    # Indizes des DataFrames zurücksetzen\n",
    "    diabetes_feature_count_tab.reset_index(inplace = True)\n",
    "    # Antworten leichter verständlich machen\n",
    "    diabetes_feature_count_tab['Diabetes_Type'].replace({0.0: 'Healthy', 1.0: 'Prediabetes', 2.0: 'Diabetes'}, inplace=True)\n",
    "    diabetes_feature_count_tab[feature].replace({0.0: 'No', 1.0: 'Yes'}, inplace=True)\n",
    "    return diabetes_feature_count_tab"
   ]
  },
  {
   "cell_type": "code",
   "execution_count": 57,
   "id": "540be5fc",
   "metadata": {
    "hidden": true
   },
   "outputs": [
    {
     "data": {
      "image/png": "[encoded data removed]",
      "text/plain": [
       "<Figure size 1440x1440 with 12 Axes>"
      ]
     },
     "metadata": {
      "needs_background": "light"
     },
     "output_type": "display_data"
    }
   ],
   "source": [
    "features_barplots = ['HighBP', 'HighChol', 'CholCheck', 'Smoker', 'Stroke','HeartDiseaseorAttack', 'Fruits', 'Veggies', \n",
    "                     'AnyHealthcare', 'NoDocbcCost', 'DiffWalk', 'Sex_male']\n",
    "\n",
    "fig, axes = plt.subplots(3, 4, figsize=(20,20))\n",
    "\n",
    "row_count = 0\n",
    "col_count = 0\n",
    "\n",
    "for feature in features_barplots:\n",
    "    diabetes_feature_count_tab = create_diabetes_feature_tab(feature)\n",
    "    sns.barplot(x='Diabetes_Type', y='Percentage', hue=feature, data=diabetes_feature_count_tab, ax=axes[row_count, col_count], palette=['Red','Green'])\n",
    "    # axes[row_count, col_count].title('Diabetes vs. ' + str(feature))\n",
    "    col_count += 1\n",
    "    if col_count > 3:\n",
    "        row_count += 1\n",
    "        col_count = 0"
   ]
  },
  {
   "cell_type": "markdown",
   "id": "c906b279",
   "metadata": {
    "hidden": true
   },
   "source": [
    "### 2.6.3 Visualisierung mit kde-Plots"
   ]
  },
  {
   "cell_type": "code",
   "execution_count": 50,
   "id": "7018f4d7",
   "metadata": {
    "hidden": true
   },
   "outputs": [
    {
     "data": {
      "image/png": "[encoded data removed]",
      "text/plain": [
       "<Figure size 1080x1080 with 8 Axes>"
      ]
     },
     "metadata": {
      "needs_background": "light"
     },
     "output_type": "display_data"
    }
   ],
   "source": [
    "features_kdeplot = ['BMI', 'GenHlth', 'MentHlth', 'PhysHlth', 'Age', 'Income', 'Education', 'PhysActivity']\n",
    "\n",
    "fig, axes = plt.subplots(nrows=3, ncols=3, figsize=(15,15))\n",
    "\n",
    "row_count = 0\n",
    "col_count = 0\n",
    "\n",
    "for feature in features_kdeplot:\n",
    "    sns.kdeplot(ax=axes[row_count, col_count], data=df, x=feature, hue='Diabetes_Type', palette=['Green', 'Orange', 'Red'], legend=False)\n",
    "    axes[row_count,col_count].legend(title='Diabetes_Type', loc='upper right', labels=['Healthy', 'Prediabetes', 'Diabetes'])\n",
    "    col_count += 1\n",
    "    if col_count > 2:\n",
    "        row_count += 1\n",
    "        col_count = 0\n",
    "        \n",
    "fig.delaxes(axes[2,2])\n",
    "plt.show()"
   ]
  },
  {
   "cell_type": "markdown",
   "id": "c66d694a",
   "metadata": {
    "hidden": true
   },
   "source": [
    "### Nähere Betrachtung einiger Features"
   ]
  },
  {
   "cell_type": "code",
   "execution_count": 85,
   "id": "9663f0d2",
   "metadata": {
    "hidden": true
   },
   "outputs": [],
   "source": [
    "# sns.barplot(x='HighChol', hue='CholCheck', data=df)\n",
    "# distplot\n",
    "# Plot Age vs. Gender"
   ]
  },
  {
   "cell_type": "markdown",
   "id": "de92266a",
   "metadata": {},
   "source": [
    "## 2.7 statistische Zusammenhänge zwischen den Variablen"
   ]
  },
  {
   "cell_type": "markdown",
   "id": "5f3aa301",
   "metadata": {},
   "source": [
    "### 2.7.1 Zusammenhang zwischen numerischen Inputs und kategorischem Output"
   ]
  },
  {
   "cell_type": "markdown",
   "id": "0c0b46c2",
   "metadata": {},
   "source": [
    "#### 2.7.1.1 Kendall'scher Rangkorrelationskoeffizient"
   ]
  },
  {
   "cell_type": "code",
   "execution_count": 153,
   "id": "cfe88859",
   "metadata": {},
   "outputs": [
    {
     "name": "stderr",
     "output_type": "stream",
     "text": [
      "C:\\Users\\Max\\anaconda3\\lib\\site-packages\\scipy\\stats\\stats.py:4812: RuntimeWarning: overflow encountered in longlong_scalars\n",
      "  (2 * xtie * ytie) / m + x0 * y0 / (9 * m * (size - 2)))\n"
     ]
    },
    {
     "data": {
      "image/png": "[encoded data removed]",
      "text/plain": [
       "<Figure size 720x720 with 2 Axes>"
      ]
     },
     "metadata": {
      "needs_background": "light"
     },
     "output_type": "display_data"
    }
   ],
   "source": [
    "df_ordinal_or_more = df[['BMI', 'PhysActivity', 'GenHlth', 'MentHlth', 'PhysHlth', 'Age', 'Education', 'Income']]\n",
    "\n",
    "fig = plt.figure(figsize=(10,10))\n",
    "# sns.heatmap(df_ordinal_or_more.corr(method='kendall'), vmin=-1, vmax=1, cmap='RdYlGn', annot=True, linewidths=1)\n",
    "sns.heatmap(df_ordinal_or_more.corr(method='kendall'), vmin=-1, vmax=1, cmap='PiYG', annot=True, linewidths=1)\n",
    "plt.show()"
   ]
  },
  {
   "cell_type": "markdown",
   "id": "1d6ac6d3",
   "metadata": {},
   "source": [
    "#### 2.7.1.2 Analysis of Variance (ANOVA)"
   ]
  },
  {
   "cell_type": "markdown",
   "id": "96ff0f13",
   "metadata": {},
   "source": [
    "### 2.7.2 Zusammenhang zwischen kategorischen Inputs und kategorischem Output"
   ]
  },
  {
   "cell_type": "code",
   "execution_count": 82,
   "id": "602cdbf1",
   "metadata": {},
   "outputs": [],
   "source": [
    "# Erklärung welche Methoden hierfür verwendet werden dürfen"
   ]
  },
  {
   "cell_type": "code",
   "execution_count": null,
   "id": "a674a592",
   "metadata": {},
   "outputs": [],
   "source": [
    "# kategorisch = kategorial?"
   ]
  },
  {
   "cell_type": "markdown",
   "id": "e5c2ec0f",
   "metadata": {},
   "source": [
    "#### 2.7.2.1 Chi-Quadrat-Test"
   ]
  },
  {
   "cell_type": "code",
   "execution_count": 83,
   "id": "b3aee227",
   "metadata": {},
   "outputs": [],
   "source": [
    "# Erklärung zum Chi-Quadrat-Test einfügen, kurz beschreiben warum Heatmap gewählt wurde\n",
    "# Skalenniveaus überprüfen"
   ]
  },
  {
   "cell_type": "code",
   "execution_count": 26,
   "id": "58658ac0",
   "metadata": {},
   "outputs": [],
   "source": [
    "categorical_features_list = ['Diabetes_Type', 'HighBP', 'HighChol', 'CholCheck', 'Smoker', 'Stroke', 'HeartDiseaseorAttack',\n",
    "                        'Fruits', 'Veggies', 'HvyAlcoholConsump', 'AnyHealthcare', 'NoDocbcCost', 'GenHlth', 'DiffWalk',\n",
    "                       'Sex_male', 'Age', 'Education', 'Income']\n",
    "\n",
    "chisqmatrix = pd.DataFrame(columns=categorical_features_list, index=categorical_features_list)\n",
    "\n",
    "for i in categorical_features_list:\n",
    "    for j in categorical_features_list:\n",
    "        if i != j:\n",
    "            chi2_val, p_val = chi2(np.array(df[i]).reshape(-1,1), np.array(df[j]).reshape(-1,1))\n",
    "            chisqmatrix.loc[i, j] = p_val\n",
    "        else:\n",
    "            chisqmatrix.loc[i, j] = 0.0"
   ]
  },
  {
   "cell_type": "markdown",
   "id": "d2e57d75",
   "metadata": {},
   "source": [
    "##### Visualisierung - Chi-Quadrat-Test"
   ]
  },
  {
   "cell_type": "code",
   "execution_count": 27,
   "id": "dba1186c",
   "metadata": {},
   "outputs": [
    {
     "data": {
      "image/png": "[encoded data removed]",
      "text/plain": [
       "<Figure size 1800x1440 with 2 Axes>"
      ]
     },
     "metadata": {
      "needs_background": "light"
     },
     "output_type": "display_data"
    }
   ],
   "source": [
    "fig = plt.figure(figsize=(25,20))\n",
    "sns.heatmap(chisqmatrix.astype(np.float64), annot=True, linewidths=5, vmin=0, vmax=1, cmap='coolwarm')\n",
    "plt.show()"
   ]
  },
  {
   "cell_type": "markdown",
   "id": "873980a9",
   "metadata": {},
   "source": [
    "##### Interpretation - Chi-Quadrat-Test"
   ]
  },
  {
   "cell_type": "code",
   "execution_count": 152,
   "id": "81da8bc3",
   "metadata": {},
   "outputs": [],
   "source": [
    "# viele niedrige Werte wegen großer Stichprobenanzahl"
   ]
  },
  {
   "cell_type": "markdown",
   "id": "5965b168",
   "metadata": {},
   "source": [
    "##### Quellen zum Code (Chi-Quadrat-Test) \n",
    "*https://medium.com/analytics-vidhya/constructing-heat-map-for-chi-square-test-of-independence-6d78aa2b140f*\n",
    "*https://www.analyticsvidhya.com/blog/2021/06/decoding-the-chi-square-test%E2%80%8A-%E2%80%8Ause-along-with-implementation-and-visualization/*\n",
    "\n",
    "##### weitere Quellen (Chi-Quadrat-Test)\n",
    "*https://datatab.de/tutorial/chi-quadrat*"
   ]
  },
  {
   "cell_type": "markdown",
   "id": "4bf1e4b7",
   "metadata": {},
   "source": [
    "# 3. Data Preparation"
   ]
  },
  {
   "cell_type": "markdown",
   "id": "65f5756f",
   "metadata": {},
   "source": [
    "## 3.1 Data Cleaning"
   ]
  },
  {
   "cell_type": "markdown",
   "id": "17c5131d",
   "metadata": {},
   "source": [
    "### 3.1.1 Duplikate entfernen"
   ]
  },
  {
   "cell_type": "markdown",
   "id": "42e4b70a",
   "metadata": {},
   "source": [
    "Im Bereich des Machine Learnings können **doppelte Feature Vektoren** aus verschiedenen Gründen **problematisch** werden. Fällt zum Beispiel eine Zeile nach dem Split in den Trainingsdatensatz und die andere, gleiche Zeile in den Testdatensatz, so hat das Modell diese Daten bereits gesehen. Hierdurch wird das anschließende Ergebnis verzerrt. (*https://deepchecks.com/what-is-data-cleaning/*) Hierbei könnten doppelte Zeilen im Datensatz zu **Overfitting** führen, wenn das Modell mehrmals mit den gleichen Daten trainiert wird. Um dies zu verhindern werden die Duplikate aus dem \"Diabetes Health Indicators\" Datensatz ausfindig gemacht und **entfernt**."
   ]
  },
  {
   "cell_type": "code",
   "execution_count": 92,
   "id": "fe4f2726",
   "metadata": {},
   "outputs": [
    {
     "name": "stdout",
     "output_type": "stream",
     "text": [
      "Der unbereinigte Datensatz umfasst 253680 Feature Vektoren.\n"
     ]
    }
   ],
   "source": [
    "# Anzahl der Zeilen im unbereinigten Datensatz\n",
    "print(f'Der unbereinigte Datensatz umfasst {df.shape[0]} Feature Vektoren.')"
   ]
  },
  {
   "cell_type": "code",
   "execution_count": 99,
   "id": "1abfcf9a",
   "metadata": {
    "scrolled": false
   },
   "outputs": [
    {
     "name": "stdout",
     "output_type": "stream",
     "text": [
      "Davon sind 0 Zeilen doppelt.\n"
     ]
    }
   ],
   "source": [
    "duplicates = df[df.duplicated()]\n",
    "print(f'Davon sind {len(duplicates)} Zeilen doppelt.')"
   ]
  },
  {
   "cell_type": "code",
   "execution_count": 101,
   "id": "c56bc36a",
   "metadata": {},
   "outputs": [
    {
     "data": {
      "text/html": [
       "<div>\n",
       "<style scoped>\n",
       "    .dataframe tbody tr th:only-of-type {\n",
       "        vertical-align: middle;\n",
       "    }\n",
       "\n",
       "    .dataframe tbody tr th {\n",
       "        vertical-align: top;\n",
       "    }\n",
       "\n",
       "    .dataframe thead th {\n",
       "        text-align: right;\n",
       "    }\n",
       "</style>\n",
       "<table border=\"1\" class=\"dataframe\">\n",
       "  <thead>\n",
       "    <tr style=\"text-align: right;\">\n",
       "      <th></th>\n",
       "      <th>Diabetes_Type</th>\n",
       "      <th>HighBP</th>\n",
       "      <th>HighChol</th>\n",
       "      <th>CholCheck</th>\n",
       "      <th>BMI</th>\n",
       "      <th>Smoker</th>\n",
       "      <th>Stroke</th>\n",
       "      <th>HeartDiseaseorAttack</th>\n",
       "      <th>PhysActivity</th>\n",
       "      <th>Fruits</th>\n",
       "      <th>Veggies</th>\n",
       "      <th>HvyAlcoholConsump</th>\n",
       "      <th>AnyHealthcare</th>\n",
       "      <th>NoDocbcCost</th>\n",
       "      <th>GenHlth</th>\n",
       "      <th>MentHlth</th>\n",
       "      <th>PhysHlth</th>\n",
       "      <th>DiffWalk</th>\n",
       "      <th>Sex_male</th>\n",
       "      <th>Age</th>\n",
       "      <th>Education</th>\n",
       "      <th>Income</th>\n",
       "    </tr>\n",
       "  </thead>\n",
       "  <tbody>\n",
       "  </tbody>\n",
       "</table>\n",
       "</div>"
      ],
      "text/plain": [
       "Empty DataFrame\n",
       "Columns: [Diabetes_Type, HighBP, HighChol, CholCheck, BMI, Smoker, Stroke, HeartDiseaseorAttack, PhysActivity, Fruits, Veggies, HvyAlcoholConsump, AnyHealthcare, NoDocbcCost, GenHlth, MentHlth, PhysHlth, DiffWalk, Sex_male, Age, Education, Income]\n",
       "Index: []"
      ]
     },
     "execution_count": 101,
     "metadata": {},
     "output_type": "execute_result"
    }
   ],
   "source": [
    "# Ausgabe der doppelten Zeilen\n",
    "duplicates"
   ]
  },
  {
   "cell_type": "code",
   "execution_count": 94,
   "id": "e12701fb",
   "metadata": {},
   "outputs": [],
   "source": [
    "# doppelte Zeilen werden entfernt\n",
    "df.drop_duplicates(inplace = True)"
   ]
  },
  {
   "cell_type": "code",
   "execution_count": 102,
   "id": "045f8a37",
   "metadata": {},
   "outputs": [
    {
     "name": "stdout",
     "output_type": "stream",
     "text": [
      "Der bereinigte Datensatz beinhaltet noch die Daten von 229781 Patienten.\n"
     ]
    }
   ],
   "source": [
    "# Anzahl der Zeilen im bereinigten Datensatz\n",
    "print(f'Der bereinigte Datensatz beinhaltet noch die Daten von {df.shape[0]} Patienten.')"
   ]
  },
  {
   "cell_type": "code",
   "execution_count": 97,
   "id": "a89cebe9",
   "metadata": {},
   "outputs": [
    {
     "name": "stdout",
     "output_type": "stream",
     "text": [
      "Der bereinigte Datensatz enthält 82.711 % gesunde Patienten, 2.015 % Patienten mit Prediabetes und 15.274% Patienten mit \n",
      "Diabetes.\n"
     ]
    }
   ],
   "source": [
    "df_dup_removed_diab_perc_list = calc_prozentual_target(df)\n",
    "\n",
    "print(f'Der bereinigte Datensatz enthält {diabetes_perc_df[0]} % gesunde Patienten, {diabetes_perc_df[1]} % Patienten mit Prediabetes und {diabetes_perc_df[2] }% Patienten mit \\nDiabetes.')"
   ]
  },
  {
   "cell_type": "markdown",
   "id": "635636e6",
   "metadata": {},
   "source": [
    "##### Zusammenfassung - Doppelte Zeilen entfernen"
   ]
  },
  {
   "cell_type": "markdown",
   "id": "a29b99bb",
   "metadata": {},
   "source": [
    "Obwohl die Unbalanciertheit des Datensatzes durch das Entfernen der doppelten Zeilen etwas vergrößert wird, sprechen unter anderem die oben genanneten Gründe dafür, sie zur weiteren Bearbeitung aus dem Datensatz zu entfernen. "
   ]
  },
  {
   "cell_type": "markdown",
   "id": "23b46854",
   "metadata": {},
   "source": [
    "### 3.1.2 Unplausible Werte"
   ]
  },
  {
   "cell_type": "markdown",
   "id": "664041db",
   "metadata": {},
   "source": [
    "Aus dem unteren Boxplot in Kap. 2.5.1 und der Informationstabelle, die in Kap. 2.3 mithilfe von df.describe() erstellt wurde, lässt sich ein Maximalwert des BMI von 98kg/m² erkennen. Da man laut der deutschen Adipositas Gesellschaft bereits ab einem BMI über 40kg/m² unter Adipositas Grad III fällt, sind Werte ab einem BMI über 60kg/m² als kritisch einzustufen. (*https://adipositas-gesellschaft.de/bmi/*)"
   ]
  },
  {
   "cell_type": "code",
   "execution_count": 35,
   "id": "80ee1ce2",
   "metadata": {},
   "outputs": [
    {
     "name": "stdout",
     "output_type": "stream",
     "text": [
      "Der Datensatz beinhaltet 805 Patienten, deren BMI über einem Wert von 60 kg/m² liegt.\n"
     ]
    }
   ],
   "source": [
    "crit_value_bmi = 60\n",
    "df_crit_bmi = df.loc[df['BMI'] > crit_value_bmi]\n",
    "print(f'Der Datensatz beinhaltet {df_crit_bmi.shape[0]} Patienten, deren BMI über einem Wert von 60 kg/m² liegt.')"
   ]
  },
  {
   "cell_type": "markdown",
   "id": "d0257cb1",
   "metadata": {},
   "source": [
    "Da unser Datensatz relativ viele Feature Vektoren enthält, ist es nicht zwingend notwendig die unklaren BMI-Werte zu ersetzen. Allerdings soll durch ein mögliches Entfernen der entsprechenden Zeilen, die Unbalanciertheit des Datensatzes nicht vergrößert werden. Daher wird im Folgenden kurz die Verteilung der Patienten mit kritischem BMI-Wert bezüglich der Klassen des Targets dargestellt. "
   ]
  },
  {
   "cell_type": "code",
   "execution_count": 36,
   "id": "d7c13c7d",
   "metadata": {},
   "outputs": [
    {
     "data": {
      "text/plain": [
       "0.0    617\n",
       "2.0    171\n",
       "1.0     17\n",
       "Name: Diabetes_Type, dtype: int64"
      ]
     },
     "execution_count": 36,
     "metadata": {},
     "output_type": "execute_result"
    }
   ],
   "source": [
    "df_crit_bmi['Diabetes_Type'].value_counts()"
   ]
  },
  {
   "cell_type": "code",
   "execution_count": 81,
   "id": "9d8c492d",
   "metadata": {},
   "outputs": [],
   "source": [
    "# df_crit_bmi_removed_diab = df.drop(df.loc[df['BMI'] > crit_value_bmi])\n",
    "\n",
    "# crit_bmi_removed_perc = calc_prozentual_target(df_crit_bmi_removed_diab)\n",
    "\n",
    "# print(f'Der Datensatz ohne Patienten mit kritischem BMI-Wert beinhaltet {crit_bmi_removed_diab_perc[0]} % gesunde Patienten, {crit_bmi_removed_diab_perc[1]} % Patienten mit Prediabetes \\nund {crit_bmi_removed_diab_perc[2]} % Patienten mit Diabetes.')"
   ]
  },
  {
   "cell_type": "code",
   "execution_count": 103,
   "id": "80359a8a",
   "metadata": {},
   "outputs": [],
   "source": [
    "# evtl. Sensitivitätsanalyse erwähnen"
   ]
  },
  {
   "cell_type": "markdown",
   "id": "68228e11",
   "metadata": {},
   "source": [
    "## 3.2 Vorbereitung des Modellings"
   ]
  },
  {
   "cell_type": "code",
   "execution_count": 108,
   "id": "cb45db7e",
   "metadata": {},
   "outputs": [],
   "source": [
    "x_values = df.drop(['Diabetes_Type'],axis='columns')\n",
    "y_value = df['Diabetes_Type']"
   ]
  },
  {
   "cell_type": "markdown",
   "id": "d1f37a09",
   "metadata": {},
   "source": [
    "### 3.2.1 Umgang mit kategorischen Daten"
   ]
  },
  {
   "cell_type": "markdown",
   "id": "d4cd4456",
   "metadata": {},
   "source": [
    "Da ein Machine Learning Algorithmus immer besser mit numerischen Werten arbeiten kann, als mit kategorischen Variablen. Aus diesem Grund müssen kategorische Daten häufig speziell für das Modelling vorbereitet werden, indem die kategorischen Werte in numerische Werte umgewandelt werden. Dies gilt sowohl für die Feature-, als auch für die Targetvariablen. (*https://analyticsindiamag.com/when-to-use-one-hot-encoding-in-deep-learning/#:~:text=One%20hot%20encoding%20can%20be,classification%20accuracy%20of%20a%20model.*) "
   ]
  },
  {
   "cell_type": "markdown",
   "id": "d2361a07",
   "metadata": {},
   "source": [
    "##### Quellen (Umgang mit kategorischen Daten)\n",
    "*https://analyticsindiamag.com/when-to-use-one-hot-encoding-in-deep-learning/#:~:text=One%20hot%20encoding%20can%20be,classification%20accuracy%20of%20a%20model.*\n",
    "\n",
    "*https://machinelearningmastery.com/why-one-hot-encode-data-in-machine-learning/*\n",
    "\n",
    "*Sarkar, Bali, Sharma (2018): Practical Machine Learning with Python, S.204. Apress.*"
   ]
  },
  {
   "cell_type": "markdown",
   "id": "ba5510d0",
   "metadata": {},
   "source": [
    "### 3.2.2 Oversampling/ Undersampling"
   ]
  },
  {
   "cell_type": "markdown",
   "id": "7d2bf2ce",
   "metadata": {},
   "source": [
    "### 3.2.3 Feature Scaling"
   ]
  },
  {
   "cell_type": "markdown",
   "id": "50313f54",
   "metadata": {},
   "source": [
    "#### 3.2.3.1 Einführung in das Thema Feature Scaling"
   ]
  },
  {
   "cell_type": "markdown",
   "id": "ac94f5d9",
   "metadata": {},
   "source": [
    "Wenn ein Modell mit unskalierten Daten trainiert wird, bei dem einige Features einen (deutlich) größeren Wertebereich haben, als andere, kann es beim Training des Modells dazu führen, dass diese Features einen größeren Einfluss auf den Ausgang des Modells haben. Obwohl ein paar Machine-Learning-Algorithmen, wie z.B. baumbasierte Methoden, auch ohne Feature Scaling auskommen, ist es üblich, diese vor dem Modelling zu skalieren. Dies gilt besonders, wenn man viele verschiedene Machine Learning Algorithmen testen und vergleichen will. (*Sarkar, Bali, Sharma (2018): Practical Machine Learning with Python, S.239. Apress.*)\n",
    "\n",
    "Im Folgenden wird eine Funktion scale_data() implementiert, die einen DataFrame und eine Scaling-Methode entgegen nimmt, und den skalierten Datensatz zurückgibt. Diese wird im Modelling an geeigneter Stelle eingesetzt, um die **Daten zu Skalieren**. "
   ]
  },
  {
   "cell_type": "code",
   "execution_count": 105,
   "id": "c6ddd6d1",
   "metadata": {},
   "outputs": [],
   "source": [
    "# es gibt verschiedene Methoden zum Skalieren der Features"
   ]
  },
  {
   "cell_type": "code",
   "execution_count": 104,
   "id": "c2a04fbd",
   "metadata": {},
   "outputs": [],
   "source": [
    "def scale_data(df, scaler_method):\n",
    "    scaler = scaler_method\n",
    "    scaled_data = scaler.fit_transform(df)\n",
    "    df_scaled = pd.DataFrame(scaled_data, columns = df.columns)\n",
    "    return df_scaled"
   ]
  },
  {
   "cell_type": "markdown",
   "id": "0083f180",
   "metadata": {},
   "source": [
    "#### 3.2.3.2 Vorbereitung - Feature Scaling"
   ]
  },
  {
   "cell_type": "markdown",
   "id": "899ac239",
   "metadata": {},
   "source": [
    "Genauso wie es wichtig ist das Modell mit unbekannten Testdaten zu testen, ist es auch wichtig, das Scaling innerhalb des Splits durchzuführen. *(Computing cross-validated metrics, 3.1.1 https://scikit-learn.org/stable/modules/cross_validation.html)* Anderenfalls könnte das Skalieren des gesamten Datensatzes dazu führen, dass Informationen aus dem Datensatz noch vor dem Test in das Modell geraten und das anschließende Ergebnis verzerren.\n",
    "\n",
    "Im Folgenden wird innerhalb eines ersten Stratified KFold-Splits analysiert, ob verschiedene statistische Werte beim Skalieren des Modells in den verschiedenen Folds voneinander abweichen. Falls das nicht der Fall ist, kann das Scaling trotzdem auf den gesamten Datensatz angewendet werden. Darüber hinaus kann es hilfreich sein, um einen Eindruck über die Güte des gewählten Splits zu erhalten."
   ]
  },
  {
   "cell_type": "code",
   "execution_count": 143,
   "id": "3234d707",
   "metadata": {},
   "outputs": [],
   "source": [
    "def data_scaling_cv(x_values, y_value, scaler):\n",
    "    print(str(scaler))\n",
    "    split_counter = 1\n",
    "    skf = StratifiedKFold(n_splits=10)\n",
    "    for train_index, test_index in skf.split(x_values, y_value):\n",
    "        X_train, X_test = x_values.iloc[train_index], x_values.iloc[test_index]\n",
    "        y_train, y_test = y_value.iloc[train_index], y_value.iloc[test_index]\n",
    "        scaler = StandardScaler()\n",
    "        scaled_train = scaler.fit_transform(X_train)\n",
    "        scaled_test = scaler.transform(X_test)\n",
    "        print(f'Values in Split {split_counter}: ')\n",
    "        print(f'Traingsdatensatz: Minimum: {np.amin(scaled_train)}, Maximum: {np.amax(scaled_train)}, Mittelwert: {np.mean(scaled_train)}')\n",
    "        print(f'Testdatensastz: Minimum: {np.amin(scaled_test)}, Maximum: {np.amax(scaled_test)}, Mittelwert: {np.mean(scaled_test)}')\n",
    "        print()\n",
    "        split_counter += 1 "
   ]
  },
  {
   "cell_type": "code",
   "execution_count": 144,
   "id": "3609904b",
   "metadata": {},
   "outputs": [
    {
     "name": "stdout",
     "output_type": "stream",
     "text": [
      "StandardScaler()\n",
      "Values in Split 1: \n",
      "Traingsdatensatz: Minimum: -4.856955001912867, Maximum: 10.127000826546968, Mittelwert: -3.4031376006334293e-18\n",
      "Testdatensastz: Minimum: -4.856955001912867, Maximum: 9.249746253326467, Mittelwert: -0.007755986173009365\n",
      "\n",
      "Values in Split 2: \n",
      "Traingsdatensatz: Minimum: -4.819161511715352, Maximum: 10.105204755571531, Mittelwert: -4.115158799584062e-17\n",
      "Testdatensastz: Minimum: -4.819161511715352, Maximum: 9.813288305969492, Mittelwert: 0.012297824032221166\n",
      "\n",
      "Values in Split 3: \n",
      "Traingsdatensatz: Minimum: -4.8977831068770925, Maximum: 10.164063691433581, Mittelwert: -6.806242289388399e-19\n",
      "Testdatensastz: Minimum: -4.8977831068770925, Maximum: 10.164063691433581, Mittelwert: -0.004017099037558871\n",
      "\n",
      "Values in Split 4: \n",
      "Traingsdatensatz: Minimum: -4.850957763352184, Maximum: 10.927183805810776, Mittelwert: 4.3036393552902025e-17\n",
      "Testdatensastz: Minimum: -4.850957763352184, Maximum: 10.927183805810776, Mittelwert: 0.015440834581432833\n",
      "\n",
      "Values in Split 5: \n",
      "Traingsdatensatz: Minimum: -4.848859424114865, Maximum: 10.143494928483323, Mittelwert: 7.853356487755844e-19\n",
      "Testdatensastz: Minimum: -4.848859424114865, Maximum: 7.655586130989209, Mittelwert: 0.0007591797830620194\n",
      "\n",
      "Values in Split 6: \n",
      "Traingsdatensatz: Minimum: -4.929199028047456, Maximum: 10.152244183872291, Mittelwert: 5.23557099183723e-18\n",
      "Testdatensastz: Minimum: -4.929199028047456, Maximum: 9.273574203267206, Mittelwert: -0.009384347738164574\n",
      "\n",
      "Values in Split 7: \n",
      "Traingsdatensatz: Minimum: -4.834242791819304, Maximum: 10.14242287400652, Mittelwert: -1.6387337204450527e-17\n",
      "Testdatensastz: Minimum: -4.834242791819304, Maximum: 8.971483595299258, Mittelwert: 0.00010998837837478848\n",
      "\n",
      "Values in Split 8: \n",
      "Traingsdatensatz: Minimum: -4.870869597521504, Maximum: 10.160669599878394, Mittelwert: -2.7224969157553594e-18\n",
      "Testdatensastz: Minimum: -4.870869597521504, Maximum: 7.81593921165116, Mittelwert: 0.01141133700552048\n",
      "\n",
      "Values in Split 9: \n",
      "Traingsdatensatz: Minimum: -4.912953237864427, Maximum: 10.159727826822355, Mittelwert: -2.670141205836987e-17\n",
      "Testdatensastz: Minimum: -4.912953237864427, Maximum: 9.720007519076711, Mittelwert: -0.013631760990359214\n",
      "\n",
      "Values in Split 10: \n",
      "Traingsdatensatz: Minimum: -4.878167973919573, Maximum: 10.131836219436952, Mittelwert: -1.067729259147805e-17\n",
      "Testdatensastz: Minimum: -4.878167973919573, Maximum: 9.693251484964673, Mittelwert: -0.004598944694547087\n",
      "\n",
      "MinMaxScaler()\n",
      "Values in Split 1: \n",
      "Traingsdatensatz: Minimum: -4.856955001912867, Maximum: 10.127000826546968, Mittelwert: -3.4031376006334293e-18\n",
      "Testdatensastz: Minimum: -4.856955001912867, Maximum: 9.249746253326467, Mittelwert: -0.007755986173009365\n",
      "\n",
      "Values in Split 2: \n",
      "Traingsdatensatz: Minimum: -4.819161511715352, Maximum: 10.105204755571531, Mittelwert: -4.115158799584062e-17\n",
      "Testdatensastz: Minimum: -4.819161511715352, Maximum: 9.813288305969492, Mittelwert: 0.012297824032221166\n",
      "\n",
      "Values in Split 3: \n",
      "Traingsdatensatz: Minimum: -4.8977831068770925, Maximum: 10.164063691433581, Mittelwert: -6.806242289388399e-19\n",
      "Testdatensastz: Minimum: -4.8977831068770925, Maximum: 10.164063691433581, Mittelwert: -0.004017099037558871\n",
      "\n",
      "Values in Split 4: \n",
      "Traingsdatensatz: Minimum: -4.850957763352184, Maximum: 10.927183805810776, Mittelwert: 4.3036393552902025e-17\n",
      "Testdatensastz: Minimum: -4.850957763352184, Maximum: 10.927183805810776, Mittelwert: 0.015440834581432833\n",
      "\n",
      "Values in Split 5: \n",
      "Traingsdatensatz: Minimum: -4.848859424114865, Maximum: 10.143494928483323, Mittelwert: 7.853356487755844e-19\n",
      "Testdatensastz: Minimum: -4.848859424114865, Maximum: 7.655586130989209, Mittelwert: 0.0007591797830620194\n",
      "\n",
      "Values in Split 6: \n",
      "Traingsdatensatz: Minimum: -4.929199028047456, Maximum: 10.152244183872291, Mittelwert: 5.23557099183723e-18\n",
      "Testdatensastz: Minimum: -4.929199028047456, Maximum: 9.273574203267206, Mittelwert: -0.009384347738164574\n",
      "\n",
      "Values in Split 7: \n",
      "Traingsdatensatz: Minimum: -4.834242791819304, Maximum: 10.14242287400652, Mittelwert: -1.6387337204450527e-17\n",
      "Testdatensastz: Minimum: -4.834242791819304, Maximum: 8.971483595299258, Mittelwert: 0.00010998837837478848\n",
      "\n",
      "Values in Split 8: \n",
      "Traingsdatensatz: Minimum: -4.870869597521504, Maximum: 10.160669599878394, Mittelwert: -2.7224969157553594e-18\n",
      "Testdatensastz: Minimum: -4.870869597521504, Maximum: 7.81593921165116, Mittelwert: 0.01141133700552048\n",
      "\n",
      "Values in Split 9: \n",
      "Traingsdatensatz: Minimum: -4.912953237864427, Maximum: 10.159727826822355, Mittelwert: -2.670141205836987e-17\n",
      "Testdatensastz: Minimum: -4.912953237864427, Maximum: 9.720007519076711, Mittelwert: -0.013631760990359214\n",
      "\n",
      "Values in Split 10: \n",
      "Traingsdatensatz: Minimum: -4.878167973919573, Maximum: 10.131836219436952, Mittelwert: -1.067729259147805e-17\n",
      "Testdatensastz: Minimum: -4.878167973919573, Maximum: 9.693251484964673, Mittelwert: -0.004598944694547087\n",
      "\n"
     ]
    }
   ],
   "source": [
    "scalers = [StandardScaler(), MinMaxScaler()]\n",
    "\n",
    "for scaler in scalers:\n",
    "    data_scaling_cv(x_values, y_value, scaler)"
   ]
  },
  {
   "cell_type": "markdown",
   "id": "0b79d1b6",
   "metadata": {},
   "source": [
    "#### 3.2.3.3 Interpretation (Vorbereitung - Feature Scaling)"
   ]
  },
  {
   "cell_type": "markdown",
   "id": "6070f62d",
   "metadata": {},
   "source": [
    "Es ist zu erkennen, dass weder die Minimal-, noch die Maximalwerte der skalierten Daten (sowohl mit dem StandardScaler(), als auch mit dem MinMaxScaler()) bei einem StratifiedKFold-Split mit 10 Folds deutlich voneinander abweichen. Hierdurch ist es möglich die Daten bereits vor dem Modelling mithilfe des ganzen Datensatzes durchzuführen, ohne dass es zu Verzerrungen des Modells kommt. Ein Grund hierfür könnte beispielsweise der relativ große Umfang unseres Datensatzes sein."
   ]
  },
  {
   "cell_type": "markdown",
   "id": "94472fc3",
   "metadata": {},
   "source": [
    "#### 3.2.3.4 Feature Scaling - Standartisieren mit dem StandardScaler"
   ]
  },
  {
   "cell_type": "code",
   "execution_count": 146,
   "id": "1b2cdf34",
   "metadata": {},
   "outputs": [],
   "source": [
    "# Erklärung StandardScaler"
   ]
  },
  {
   "cell_type": "code",
   "execution_count": 148,
   "id": "64bc69a8",
   "metadata": {},
   "outputs": [
    {
     "data": {
      "text/html": [
       "<div>\n",
       "<style scoped>\n",
       "    .dataframe tbody tr th:only-of-type {\n",
       "        vertical-align: middle;\n",
       "    }\n",
       "\n",
       "    .dataframe tbody tr th {\n",
       "        vertical-align: top;\n",
       "    }\n",
       "\n",
       "    .dataframe thead th {\n",
       "        text-align: right;\n",
       "    }\n",
       "</style>\n",
       "<table border=\"1\" class=\"dataframe\">\n",
       "  <thead>\n",
       "    <tr style=\"text-align: right;\">\n",
       "      <th></th>\n",
       "      <th>Diabetes_Type</th>\n",
       "      <th>HighBP</th>\n",
       "      <th>HighChol</th>\n",
       "      <th>CholCheck</th>\n",
       "      <th>BMI</th>\n",
       "      <th>Smoker</th>\n",
       "      <th>Stroke</th>\n",
       "      <th>HeartDiseaseorAttack</th>\n",
       "      <th>PhysActivity</th>\n",
       "      <th>Fruits</th>\n",
       "      <th>Veggies</th>\n",
       "      <th>HvyAlcoholConsump</th>\n",
       "      <th>AnyHealthcare</th>\n",
       "      <th>NoDocbcCost</th>\n",
       "      <th>GenHlth</th>\n",
       "      <th>MentHlth</th>\n",
       "      <th>PhysHlth</th>\n",
       "      <th>DiffWalk</th>\n",
       "      <th>Sex_male</th>\n",
       "      <th>Age</th>\n",
       "      <th>Education</th>\n",
       "      <th>Income</th>\n",
       "    </tr>\n",
       "  </thead>\n",
       "  <tbody>\n",
       "    <tr>\n",
       "      <th>0</th>\n",
       "      <td>-0.449376</td>\n",
       "      <td>1.095675</td>\n",
       "      <td>1.124132</td>\n",
       "      <td>0.205356</td>\n",
       "      <td>1.667220</td>\n",
       "      <td>1.071208</td>\n",
       "      <td>-0.216455</td>\n",
       "      <td>-0.339257</td>\n",
       "      <td>-1.658403</td>\n",
       "      <td>-1.258473</td>\n",
       "      <td>0.508092</td>\n",
       "      <td>-0.254232</td>\n",
       "      <td>0.238745</td>\n",
       "      <td>-0.319852</td>\n",
       "      <td>2.253111</td>\n",
       "      <td>1.879074</td>\n",
       "      <td>1.141300</td>\n",
       "      <td>2.095383</td>\n",
       "      <td>-0.885023</td>\n",
       "      <td>0.295241</td>\n",
       "      <td>-0.987588</td>\n",
       "      <td>-1.381324</td>\n",
       "    </tr>\n",
       "    <tr>\n",
       "      <th>1</th>\n",
       "      <td>-0.449376</td>\n",
       "      <td>-0.912679</td>\n",
       "      <td>-0.889575</td>\n",
       "      <td>-4.869594</td>\n",
       "      <td>-0.543101</td>\n",
       "      <td>1.071208</td>\n",
       "      <td>-0.216455</td>\n",
       "      <td>-0.339257</td>\n",
       "      <td>0.602990</td>\n",
       "      <td>-1.258473</td>\n",
       "      <td>-1.968149</td>\n",
       "      <td>-0.254232</td>\n",
       "      <td>-4.188578</td>\n",
       "      <td>3.126450</td>\n",
       "      <td>0.374618</td>\n",
       "      <td>-0.454434</td>\n",
       "      <td>-0.516791</td>\n",
       "      <td>-0.477240</td>\n",
       "      <td>-0.885023</td>\n",
       "      <td>-0.351213</td>\n",
       "      <td>1.026729</td>\n",
       "      <td>-2.337131</td>\n",
       "    </tr>\n",
       "    <tr>\n",
       "      <th>2</th>\n",
       "      <td>-0.449376</td>\n",
       "      <td>1.095675</td>\n",
       "      <td>1.124132</td>\n",
       "      <td>0.205356</td>\n",
       "      <td>-0.101037</td>\n",
       "      <td>-0.933526</td>\n",
       "      <td>-0.216455</td>\n",
       "      <td>-0.339257</td>\n",
       "      <td>-1.658403</td>\n",
       "      <td>0.794614</td>\n",
       "      <td>-1.968149</td>\n",
       "      <td>-0.254232</td>\n",
       "      <td>0.238745</td>\n",
       "      <td>3.126450</td>\n",
       "      <td>2.253111</td>\n",
       "      <td>3.434746</td>\n",
       "      <td>2.799391</td>\n",
       "      <td>2.095383</td>\n",
       "      <td>-0.885023</td>\n",
       "      <td>0.295241</td>\n",
       "      <td>-0.987588</td>\n",
       "      <td>1.008193</td>\n",
       "    </tr>\n",
       "    <tr>\n",
       "      <th>3</th>\n",
       "      <td>-0.449376</td>\n",
       "      <td>1.095675</td>\n",
       "      <td>-0.889575</td>\n",
       "      <td>0.205356</td>\n",
       "      <td>-0.248391</td>\n",
       "      <td>-0.933526</td>\n",
       "      <td>-0.216455</td>\n",
       "      <td>-0.339257</td>\n",
       "      <td>0.602990</td>\n",
       "      <td>0.794614</td>\n",
       "      <td>0.508092</td>\n",
       "      <td>-0.254232</td>\n",
       "      <td>0.238745</td>\n",
       "      <td>-0.319852</td>\n",
       "      <td>-0.564629</td>\n",
       "      <td>-0.454434</td>\n",
       "      <td>-0.516791</td>\n",
       "      <td>-0.477240</td>\n",
       "      <td>-0.885023</td>\n",
       "      <td>0.941695</td>\n",
       "      <td>-1.994746</td>\n",
       "      <td>0.052387</td>\n",
       "    </tr>\n",
       "    <tr>\n",
       "      <th>4</th>\n",
       "      <td>-0.449376</td>\n",
       "      <td>1.095675</td>\n",
       "      <td>1.124132</td>\n",
       "      <td>0.205356</td>\n",
       "      <td>-0.690456</td>\n",
       "      <td>-0.933526</td>\n",
       "      <td>-0.216455</td>\n",
       "      <td>-0.339257</td>\n",
       "      <td>0.602990</td>\n",
       "      <td>0.794614</td>\n",
       "      <td>0.508092</td>\n",
       "      <td>-0.254232</td>\n",
       "      <td>0.238745</td>\n",
       "      <td>-0.319852</td>\n",
       "      <td>-0.564629</td>\n",
       "      <td>-0.065516</td>\n",
       "      <td>-0.516791</td>\n",
       "      <td>-0.477240</td>\n",
       "      <td>-0.885023</td>\n",
       "      <td>0.941695</td>\n",
       "      <td>0.019571</td>\n",
       "      <td>-0.903420</td>\n",
       "    </tr>\n",
       "    <tr>\n",
       "      <th>...</th>\n",
       "      <td>...</td>\n",
       "      <td>...</td>\n",
       "      <td>...</td>\n",
       "      <td>...</td>\n",
       "      <td>...</td>\n",
       "      <td>...</td>\n",
       "      <td>...</td>\n",
       "      <td>...</td>\n",
       "      <td>...</td>\n",
       "      <td>...</td>\n",
       "      <td>...</td>\n",
       "      <td>...</td>\n",
       "      <td>...</td>\n",
       "      <td>...</td>\n",
       "      <td>...</td>\n",
       "      <td>...</td>\n",
       "      <td>...</td>\n",
       "      <td>...</td>\n",
       "      <td>...</td>\n",
       "      <td>...</td>\n",
       "      <td>...</td>\n",
       "      <td>...</td>\n",
       "    </tr>\n",
       "    <tr>\n",
       "      <th>229776</th>\n",
       "      <td>-0.449376</td>\n",
       "      <td>1.095675</td>\n",
       "      <td>1.124132</td>\n",
       "      <td>0.205356</td>\n",
       "      <td>2.403993</td>\n",
       "      <td>-0.933526</td>\n",
       "      <td>-0.216455</td>\n",
       "      <td>-0.339257</td>\n",
       "      <td>-1.658403</td>\n",
       "      <td>0.794614</td>\n",
       "      <td>0.508092</td>\n",
       "      <td>-0.254232</td>\n",
       "      <td>0.238745</td>\n",
       "      <td>-0.319852</td>\n",
       "      <td>0.374618</td>\n",
       "      <td>-0.454434</td>\n",
       "      <td>0.035906</td>\n",
       "      <td>-0.477240</td>\n",
       "      <td>1.129914</td>\n",
       "      <td>-0.997666</td>\n",
       "      <td>1.026729</td>\n",
       "      <td>0.530290</td>\n",
       "    </tr>\n",
       "    <tr>\n",
       "      <th>229777</th>\n",
       "      <td>2.310686</td>\n",
       "      <td>1.095675</td>\n",
       "      <td>1.124132</td>\n",
       "      <td>0.205356</td>\n",
       "      <td>-1.574584</td>\n",
       "      <td>-0.933526</td>\n",
       "      <td>-0.216455</td>\n",
       "      <td>-0.339257</td>\n",
       "      <td>-1.658403</td>\n",
       "      <td>-1.258473</td>\n",
       "      <td>-1.968149</td>\n",
       "      <td>-0.254232</td>\n",
       "      <td>0.238745</td>\n",
       "      <td>-0.319852</td>\n",
       "      <td>1.313865</td>\n",
       "      <td>-0.454434</td>\n",
       "      <td>-0.516791</td>\n",
       "      <td>2.095383</td>\n",
       "      <td>-0.885023</td>\n",
       "      <td>0.941695</td>\n",
       "      <td>-3.001905</td>\n",
       "      <td>-0.903420</td>\n",
       "    </tr>\n",
       "    <tr>\n",
       "      <th>229778</th>\n",
       "      <td>-0.449376</td>\n",
       "      <td>-0.912679</td>\n",
       "      <td>-0.889575</td>\n",
       "      <td>0.205356</td>\n",
       "      <td>-0.101037</td>\n",
       "      <td>-0.933526</td>\n",
       "      <td>-0.216455</td>\n",
       "      <td>-0.339257</td>\n",
       "      <td>0.602990</td>\n",
       "      <td>0.794614</td>\n",
       "      <td>-1.968149</td>\n",
       "      <td>-0.254232</td>\n",
       "      <td>0.238745</td>\n",
       "      <td>-0.319852</td>\n",
       "      <td>-1.503875</td>\n",
       "      <td>-0.454434</td>\n",
       "      <td>-0.516791</td>\n",
       "      <td>-0.477240</td>\n",
       "      <td>-0.885023</td>\n",
       "      <td>-1.967347</td>\n",
       "      <td>0.019571</td>\n",
       "      <td>-1.859227</td>\n",
       "    </tr>\n",
       "    <tr>\n",
       "      <th>229779</th>\n",
       "      <td>-0.449376</td>\n",
       "      <td>1.095675</td>\n",
       "      <td>-0.889575</td>\n",
       "      <td>0.205356</td>\n",
       "      <td>-0.837810</td>\n",
       "      <td>-0.933526</td>\n",
       "      <td>-0.216455</td>\n",
       "      <td>-0.339257</td>\n",
       "      <td>-1.658403</td>\n",
       "      <td>0.794614</td>\n",
       "      <td>0.508092</td>\n",
       "      <td>-0.254232</td>\n",
       "      <td>0.238745</td>\n",
       "      <td>-0.319852</td>\n",
       "      <td>0.374618</td>\n",
       "      <td>-0.454434</td>\n",
       "      <td>-0.516791</td>\n",
       "      <td>-0.477240</td>\n",
       "      <td>1.129914</td>\n",
       "      <td>-0.351213</td>\n",
       "      <td>0.019571</td>\n",
       "      <td>-2.337131</td>\n",
       "    </tr>\n",
       "    <tr>\n",
       "      <th>229780</th>\n",
       "      <td>2.310686</td>\n",
       "      <td>1.095675</td>\n",
       "      <td>1.124132</td>\n",
       "      <td>0.205356</td>\n",
       "      <td>-0.543101</td>\n",
       "      <td>-0.933526</td>\n",
       "      <td>-0.216455</td>\n",
       "      <td>2.947618</td>\n",
       "      <td>0.602990</td>\n",
       "      <td>0.794614</td>\n",
       "      <td>-1.968149</td>\n",
       "      <td>-0.254232</td>\n",
       "      <td>0.238745</td>\n",
       "      <td>-0.319852</td>\n",
       "      <td>-0.564629</td>\n",
       "      <td>-0.454434</td>\n",
       "      <td>-0.516791</td>\n",
       "      <td>-0.477240</td>\n",
       "      <td>-0.885023</td>\n",
       "      <td>0.295241</td>\n",
       "      <td>1.026729</td>\n",
       "      <td>-1.859227</td>\n",
       "    </tr>\n",
       "  </tbody>\n",
       "</table>\n",
       "<p>229781 rows × 22 columns</p>\n",
       "</div>"
      ],
      "text/plain": [
       "        Diabetes_Type    HighBP  HighChol  CholCheck       BMI    Smoker  \\\n",
       "0           -0.449376  1.095675  1.124132   0.205356  1.667220  1.071208   \n",
       "1           -0.449376 -0.912679 -0.889575  -4.869594 -0.543101  1.071208   \n",
       "2           -0.449376  1.095675  1.124132   0.205356 -0.101037 -0.933526   \n",
       "3           -0.449376  1.095675 -0.889575   0.205356 -0.248391 -0.933526   \n",
       "4           -0.449376  1.095675  1.124132   0.205356 -0.690456 -0.933526   \n",
       "...               ...       ...       ...        ...       ...       ...   \n",
       "229776      -0.449376  1.095675  1.124132   0.205356  2.403993 -0.933526   \n",
       "229777       2.310686  1.095675  1.124132   0.205356 -1.574584 -0.933526   \n",
       "229778      -0.449376 -0.912679 -0.889575   0.205356 -0.101037 -0.933526   \n",
       "229779      -0.449376  1.095675 -0.889575   0.205356 -0.837810 -0.933526   \n",
       "229780       2.310686  1.095675  1.124132   0.205356 -0.543101 -0.933526   \n",
       "\n",
       "          Stroke  HeartDiseaseorAttack  PhysActivity    Fruits   Veggies  \\\n",
       "0      -0.216455             -0.339257     -1.658403 -1.258473  0.508092   \n",
       "1      -0.216455             -0.339257      0.602990 -1.258473 -1.968149   \n",
       "2      -0.216455             -0.339257     -1.658403  0.794614 -1.968149   \n",
       "3      -0.216455             -0.339257      0.602990  0.794614  0.508092   \n",
       "4      -0.216455             -0.339257      0.602990  0.794614  0.508092   \n",
       "...          ...                   ...           ...       ...       ...   \n",
       "229776 -0.216455             -0.339257     -1.658403  0.794614  0.508092   \n",
       "229777 -0.216455             -0.339257     -1.658403 -1.258473 -1.968149   \n",
       "229778 -0.216455             -0.339257      0.602990  0.794614 -1.968149   \n",
       "229779 -0.216455             -0.339257     -1.658403  0.794614  0.508092   \n",
       "229780 -0.216455              2.947618      0.602990  0.794614 -1.968149   \n",
       "\n",
       "        HvyAlcoholConsump  AnyHealthcare  NoDocbcCost   GenHlth  MentHlth  \\\n",
       "0               -0.254232       0.238745    -0.319852  2.253111  1.879074   \n",
       "1               -0.254232      -4.188578     3.126450  0.374618 -0.454434   \n",
       "2               -0.254232       0.238745     3.126450  2.253111  3.434746   \n",
       "3               -0.254232       0.238745    -0.319852 -0.564629 -0.454434   \n",
       "4               -0.254232       0.238745    -0.319852 -0.564629 -0.065516   \n",
       "...                   ...            ...          ...       ...       ...   \n",
       "229776          -0.254232       0.238745    -0.319852  0.374618 -0.454434   \n",
       "229777          -0.254232       0.238745    -0.319852  1.313865 -0.454434   \n",
       "229778          -0.254232       0.238745    -0.319852 -1.503875 -0.454434   \n",
       "229779          -0.254232       0.238745    -0.319852  0.374618 -0.454434   \n",
       "229780          -0.254232       0.238745    -0.319852 -0.564629 -0.454434   \n",
       "\n",
       "        PhysHlth  DiffWalk  Sex_male       Age  Education    Income  \n",
       "0       1.141300  2.095383 -0.885023  0.295241  -0.987588 -1.381324  \n",
       "1      -0.516791 -0.477240 -0.885023 -0.351213   1.026729 -2.337131  \n",
       "2       2.799391  2.095383 -0.885023  0.295241  -0.987588  1.008193  \n",
       "3      -0.516791 -0.477240 -0.885023  0.941695  -1.994746  0.052387  \n",
       "4      -0.516791 -0.477240 -0.885023  0.941695   0.019571 -0.903420  \n",
       "...          ...       ...       ...       ...        ...       ...  \n",
       "229776  0.035906 -0.477240  1.129914 -0.997666   1.026729  0.530290  \n",
       "229777 -0.516791  2.095383 -0.885023  0.941695  -3.001905 -0.903420  \n",
       "229778 -0.516791 -0.477240 -0.885023 -1.967347   0.019571 -1.859227  \n",
       "229779 -0.516791 -0.477240  1.129914 -0.351213   0.019571 -2.337131  \n",
       "229780 -0.516791 -0.477240 -0.885023  0.295241   1.026729 -1.859227  \n",
       "\n",
       "[229781 rows x 22 columns]"
      ]
     },
     "execution_count": 148,
     "metadata": {},
     "output_type": "execute_result"
    }
   ],
   "source": [
    "df_scaled_ss = scale_data(df, StandardScaler())\n",
    "df_scaled_ss"
   ]
  },
  {
   "cell_type": "markdown",
   "id": "9d2659ce",
   "metadata": {},
   "source": [
    "#### 3.2.3.5 Feature Scaling - Normalisieren mit dem MinMaxScaler"
   ]
  },
  {
   "cell_type": "code",
   "execution_count": 149,
   "id": "1e64a347",
   "metadata": {},
   "outputs": [],
   "source": [
    "# Erklärung MinMaxScaler"
   ]
  },
  {
   "cell_type": "code",
   "execution_count": 151,
   "id": "761a4106",
   "metadata": {},
   "outputs": [
    {
     "data": {
      "text/html": [
       "<div>\n",
       "<style scoped>\n",
       "    .dataframe tbody tr th:only-of-type {\n",
       "        vertical-align: middle;\n",
       "    }\n",
       "\n",
       "    .dataframe tbody tr th {\n",
       "        vertical-align: top;\n",
       "    }\n",
       "\n",
       "    .dataframe thead th {\n",
       "        text-align: right;\n",
       "    }\n",
       "</style>\n",
       "<table border=\"1\" class=\"dataframe\">\n",
       "  <thead>\n",
       "    <tr style=\"text-align: right;\">\n",
       "      <th></th>\n",
       "      <th>Diabetes_Type</th>\n",
       "      <th>HighBP</th>\n",
       "      <th>HighChol</th>\n",
       "      <th>CholCheck</th>\n",
       "      <th>BMI</th>\n",
       "      <th>Smoker</th>\n",
       "      <th>Stroke</th>\n",
       "      <th>HeartDiseaseorAttack</th>\n",
       "      <th>PhysActivity</th>\n",
       "      <th>Fruits</th>\n",
       "      <th>Veggies</th>\n",
       "      <th>HvyAlcoholConsump</th>\n",
       "      <th>AnyHealthcare</th>\n",
       "      <th>NoDocbcCost</th>\n",
       "      <th>GenHlth</th>\n",
       "      <th>MentHlth</th>\n",
       "      <th>PhysHlth</th>\n",
       "      <th>DiffWalk</th>\n",
       "      <th>Sex_male</th>\n",
       "      <th>Age</th>\n",
       "      <th>Education</th>\n",
       "      <th>Income</th>\n",
       "    </tr>\n",
       "  </thead>\n",
       "  <tbody>\n",
       "    <tr>\n",
       "      <th>0</th>\n",
       "      <td>0.0</td>\n",
       "      <td>1.0</td>\n",
       "      <td>1.0</td>\n",
       "      <td>1.0</td>\n",
       "      <td>0.325581</td>\n",
       "      <td>1.0</td>\n",
       "      <td>0.0</td>\n",
       "      <td>0.0</td>\n",
       "      <td>0.0</td>\n",
       "      <td>0.0</td>\n",
       "      <td>1.0</td>\n",
       "      <td>0.0</td>\n",
       "      <td>1.0</td>\n",
       "      <td>0.0</td>\n",
       "      <td>1.00</td>\n",
       "      <td>0.6</td>\n",
       "      <td>0.500000</td>\n",
       "      <td>1.0</td>\n",
       "      <td>0.0</td>\n",
       "      <td>0.666667</td>\n",
       "      <td>0.6</td>\n",
       "      <td>0.285714</td>\n",
       "    </tr>\n",
       "    <tr>\n",
       "      <th>1</th>\n",
       "      <td>0.0</td>\n",
       "      <td>0.0</td>\n",
       "      <td>0.0</td>\n",
       "      <td>0.0</td>\n",
       "      <td>0.151163</td>\n",
       "      <td>1.0</td>\n",
       "      <td>0.0</td>\n",
       "      <td>0.0</td>\n",
       "      <td>1.0</td>\n",
       "      <td>0.0</td>\n",
       "      <td>0.0</td>\n",
       "      <td>0.0</td>\n",
       "      <td>0.0</td>\n",
       "      <td>1.0</td>\n",
       "      <td>0.50</td>\n",
       "      <td>0.0</td>\n",
       "      <td>0.000000</td>\n",
       "      <td>0.0</td>\n",
       "      <td>0.0</td>\n",
       "      <td>0.500000</td>\n",
       "      <td>1.0</td>\n",
       "      <td>0.000000</td>\n",
       "    </tr>\n",
       "    <tr>\n",
       "      <th>2</th>\n",
       "      <td>0.0</td>\n",
       "      <td>1.0</td>\n",
       "      <td>1.0</td>\n",
       "      <td>1.0</td>\n",
       "      <td>0.186047</td>\n",
       "      <td>0.0</td>\n",
       "      <td>0.0</td>\n",
       "      <td>0.0</td>\n",
       "      <td>0.0</td>\n",
       "      <td>1.0</td>\n",
       "      <td>0.0</td>\n",
       "      <td>0.0</td>\n",
       "      <td>1.0</td>\n",
       "      <td>1.0</td>\n",
       "      <td>1.00</td>\n",
       "      <td>1.0</td>\n",
       "      <td>1.000000</td>\n",
       "      <td>1.0</td>\n",
       "      <td>0.0</td>\n",
       "      <td>0.666667</td>\n",
       "      <td>0.6</td>\n",
       "      <td>1.000000</td>\n",
       "    </tr>\n",
       "    <tr>\n",
       "      <th>3</th>\n",
       "      <td>0.0</td>\n",
       "      <td>1.0</td>\n",
       "      <td>0.0</td>\n",
       "      <td>1.0</td>\n",
       "      <td>0.174419</td>\n",
       "      <td>0.0</td>\n",
       "      <td>0.0</td>\n",
       "      <td>0.0</td>\n",
       "      <td>1.0</td>\n",
       "      <td>1.0</td>\n",
       "      <td>1.0</td>\n",
       "      <td>0.0</td>\n",
       "      <td>1.0</td>\n",
       "      <td>0.0</td>\n",
       "      <td>0.25</td>\n",
       "      <td>0.0</td>\n",
       "      <td>0.000000</td>\n",
       "      <td>0.0</td>\n",
       "      <td>0.0</td>\n",
       "      <td>0.833333</td>\n",
       "      <td>0.4</td>\n",
       "      <td>0.714286</td>\n",
       "    </tr>\n",
       "    <tr>\n",
       "      <th>4</th>\n",
       "      <td>0.0</td>\n",
       "      <td>1.0</td>\n",
       "      <td>1.0</td>\n",
       "      <td>1.0</td>\n",
       "      <td>0.139535</td>\n",
       "      <td>0.0</td>\n",
       "      <td>0.0</td>\n",
       "      <td>0.0</td>\n",
       "      <td>1.0</td>\n",
       "      <td>1.0</td>\n",
       "      <td>1.0</td>\n",
       "      <td>0.0</td>\n",
       "      <td>1.0</td>\n",
       "      <td>0.0</td>\n",
       "      <td>0.25</td>\n",
       "      <td>0.1</td>\n",
       "      <td>0.000000</td>\n",
       "      <td>0.0</td>\n",
       "      <td>0.0</td>\n",
       "      <td>0.833333</td>\n",
       "      <td>0.8</td>\n",
       "      <td>0.428571</td>\n",
       "    </tr>\n",
       "    <tr>\n",
       "      <th>...</th>\n",
       "      <td>...</td>\n",
       "      <td>...</td>\n",
       "      <td>...</td>\n",
       "      <td>...</td>\n",
       "      <td>...</td>\n",
       "      <td>...</td>\n",
       "      <td>...</td>\n",
       "      <td>...</td>\n",
       "      <td>...</td>\n",
       "      <td>...</td>\n",
       "      <td>...</td>\n",
       "      <td>...</td>\n",
       "      <td>...</td>\n",
       "      <td>...</td>\n",
       "      <td>...</td>\n",
       "      <td>...</td>\n",
       "      <td>...</td>\n",
       "      <td>...</td>\n",
       "      <td>...</td>\n",
       "      <td>...</td>\n",
       "      <td>...</td>\n",
       "      <td>...</td>\n",
       "    </tr>\n",
       "    <tr>\n",
       "      <th>229776</th>\n",
       "      <td>0.0</td>\n",
       "      <td>1.0</td>\n",
       "      <td>1.0</td>\n",
       "      <td>1.0</td>\n",
       "      <td>0.383721</td>\n",
       "      <td>0.0</td>\n",
       "      <td>0.0</td>\n",
       "      <td>0.0</td>\n",
       "      <td>0.0</td>\n",
       "      <td>1.0</td>\n",
       "      <td>1.0</td>\n",
       "      <td>0.0</td>\n",
       "      <td>1.0</td>\n",
       "      <td>0.0</td>\n",
       "      <td>0.50</td>\n",
       "      <td>0.0</td>\n",
       "      <td>0.166667</td>\n",
       "      <td>0.0</td>\n",
       "      <td>1.0</td>\n",
       "      <td>0.333333</td>\n",
       "      <td>1.0</td>\n",
       "      <td>0.857143</td>\n",
       "    </tr>\n",
       "    <tr>\n",
       "      <th>229777</th>\n",
       "      <td>1.0</td>\n",
       "      <td>1.0</td>\n",
       "      <td>1.0</td>\n",
       "      <td>1.0</td>\n",
       "      <td>0.069767</td>\n",
       "      <td>0.0</td>\n",
       "      <td>0.0</td>\n",
       "      <td>0.0</td>\n",
       "      <td>0.0</td>\n",
       "      <td>0.0</td>\n",
       "      <td>0.0</td>\n",
       "      <td>0.0</td>\n",
       "      <td>1.0</td>\n",
       "      <td>0.0</td>\n",
       "      <td>0.75</td>\n",
       "      <td>0.0</td>\n",
       "      <td>0.000000</td>\n",
       "      <td>1.0</td>\n",
       "      <td>0.0</td>\n",
       "      <td>0.833333</td>\n",
       "      <td>0.2</td>\n",
       "      <td>0.428571</td>\n",
       "    </tr>\n",
       "    <tr>\n",
       "      <th>229778</th>\n",
       "      <td>0.0</td>\n",
       "      <td>0.0</td>\n",
       "      <td>0.0</td>\n",
       "      <td>1.0</td>\n",
       "      <td>0.186047</td>\n",
       "      <td>0.0</td>\n",
       "      <td>0.0</td>\n",
       "      <td>0.0</td>\n",
       "      <td>1.0</td>\n",
       "      <td>1.0</td>\n",
       "      <td>0.0</td>\n",
       "      <td>0.0</td>\n",
       "      <td>1.0</td>\n",
       "      <td>0.0</td>\n",
       "      <td>0.00</td>\n",
       "      <td>0.0</td>\n",
       "      <td>0.000000</td>\n",
       "      <td>0.0</td>\n",
       "      <td>0.0</td>\n",
       "      <td>0.083333</td>\n",
       "      <td>0.8</td>\n",
       "      <td>0.142857</td>\n",
       "    </tr>\n",
       "    <tr>\n",
       "      <th>229779</th>\n",
       "      <td>0.0</td>\n",
       "      <td>1.0</td>\n",
       "      <td>0.0</td>\n",
       "      <td>1.0</td>\n",
       "      <td>0.127907</td>\n",
       "      <td>0.0</td>\n",
       "      <td>0.0</td>\n",
       "      <td>0.0</td>\n",
       "      <td>0.0</td>\n",
       "      <td>1.0</td>\n",
       "      <td>1.0</td>\n",
       "      <td>0.0</td>\n",
       "      <td>1.0</td>\n",
       "      <td>0.0</td>\n",
       "      <td>0.50</td>\n",
       "      <td>0.0</td>\n",
       "      <td>0.000000</td>\n",
       "      <td>0.0</td>\n",
       "      <td>1.0</td>\n",
       "      <td>0.500000</td>\n",
       "      <td>0.8</td>\n",
       "      <td>0.000000</td>\n",
       "    </tr>\n",
       "    <tr>\n",
       "      <th>229780</th>\n",
       "      <td>1.0</td>\n",
       "      <td>1.0</td>\n",
       "      <td>1.0</td>\n",
       "      <td>1.0</td>\n",
       "      <td>0.151163</td>\n",
       "      <td>0.0</td>\n",
       "      <td>0.0</td>\n",
       "      <td>1.0</td>\n",
       "      <td>1.0</td>\n",
       "      <td>1.0</td>\n",
       "      <td>0.0</td>\n",
       "      <td>0.0</td>\n",
       "      <td>1.0</td>\n",
       "      <td>0.0</td>\n",
       "      <td>0.25</td>\n",
       "      <td>0.0</td>\n",
       "      <td>0.000000</td>\n",
       "      <td>0.0</td>\n",
       "      <td>0.0</td>\n",
       "      <td>0.666667</td>\n",
       "      <td>1.0</td>\n",
       "      <td>0.142857</td>\n",
       "    </tr>\n",
       "  </tbody>\n",
       "</table>\n",
       "<p>229781 rows × 22 columns</p>\n",
       "</div>"
      ],
      "text/plain": [
       "        Diabetes_Type  HighBP  HighChol  CholCheck       BMI  Smoker  Stroke  \\\n",
       "0                 0.0     1.0       1.0        1.0  0.325581     1.0     0.0   \n",
       "1                 0.0     0.0       0.0        0.0  0.151163     1.0     0.0   \n",
       "2                 0.0     1.0       1.0        1.0  0.186047     0.0     0.0   \n",
       "3                 0.0     1.0       0.0        1.0  0.174419     0.0     0.0   \n",
       "4                 0.0     1.0       1.0        1.0  0.139535     0.0     0.0   \n",
       "...               ...     ...       ...        ...       ...     ...     ...   \n",
       "229776            0.0     1.0       1.0        1.0  0.383721     0.0     0.0   \n",
       "229777            1.0     1.0       1.0        1.0  0.069767     0.0     0.0   \n",
       "229778            0.0     0.0       0.0        1.0  0.186047     0.0     0.0   \n",
       "229779            0.0     1.0       0.0        1.0  0.127907     0.0     0.0   \n",
       "229780            1.0     1.0       1.0        1.0  0.151163     0.0     0.0   \n",
       "\n",
       "        HeartDiseaseorAttack  PhysActivity  Fruits  Veggies  \\\n",
       "0                        0.0           0.0     0.0      1.0   \n",
       "1                        0.0           1.0     0.0      0.0   \n",
       "2                        0.0           0.0     1.0      0.0   \n",
       "3                        0.0           1.0     1.0      1.0   \n",
       "4                        0.0           1.0     1.0      1.0   \n",
       "...                      ...           ...     ...      ...   \n",
       "229776                   0.0           0.0     1.0      1.0   \n",
       "229777                   0.0           0.0     0.0      0.0   \n",
       "229778                   0.0           1.0     1.0      0.0   \n",
       "229779                   0.0           0.0     1.0      1.0   \n",
       "229780                   1.0           1.0     1.0      0.0   \n",
       "\n",
       "        HvyAlcoholConsump  AnyHealthcare  NoDocbcCost  GenHlth  MentHlth  \\\n",
       "0                     0.0            1.0          0.0     1.00       0.6   \n",
       "1                     0.0            0.0          1.0     0.50       0.0   \n",
       "2                     0.0            1.0          1.0     1.00       1.0   \n",
       "3                     0.0            1.0          0.0     0.25       0.0   \n",
       "4                     0.0            1.0          0.0     0.25       0.1   \n",
       "...                   ...            ...          ...      ...       ...   \n",
       "229776                0.0            1.0          0.0     0.50       0.0   \n",
       "229777                0.0            1.0          0.0     0.75       0.0   \n",
       "229778                0.0            1.0          0.0     0.00       0.0   \n",
       "229779                0.0            1.0          0.0     0.50       0.0   \n",
       "229780                0.0            1.0          0.0     0.25       0.0   \n",
       "\n",
       "        PhysHlth  DiffWalk  Sex_male       Age  Education    Income  \n",
       "0       0.500000       1.0       0.0  0.666667        0.6  0.285714  \n",
       "1       0.000000       0.0       0.0  0.500000        1.0  0.000000  \n",
       "2       1.000000       1.0       0.0  0.666667        0.6  1.000000  \n",
       "3       0.000000       0.0       0.0  0.833333        0.4  0.714286  \n",
       "4       0.000000       0.0       0.0  0.833333        0.8  0.428571  \n",
       "...          ...       ...       ...       ...        ...       ...  \n",
       "229776  0.166667       0.0       1.0  0.333333        1.0  0.857143  \n",
       "229777  0.000000       1.0       0.0  0.833333        0.2  0.428571  \n",
       "229778  0.000000       0.0       0.0  0.083333        0.8  0.142857  \n",
       "229779  0.000000       0.0       1.0  0.500000        0.8  0.000000  \n",
       "229780  0.000000       0.0       0.0  0.666667        1.0  0.142857  \n",
       "\n",
       "[229781 rows x 22 columns]"
      ]
     },
     "execution_count": 151,
     "metadata": {},
     "output_type": "execute_result"
    }
   ],
   "source": [
    "df_scaled_minmax = scale_data(df, MinMaxScaler())\n",
    "df_scaled_minmax"
   ]
  },
  {
   "cell_type": "markdown",
   "id": "15a7ed7c",
   "metadata": {},
   "source": [
    "### 3.3.4 Feature Selection"
   ]
  },
  {
   "cell_type": "markdown",
   "id": "7e2f0196",
   "metadata": {},
   "source": [
    "Ein weiterer wichtiger Schritt, der bereits zu Beginn des Modellings eine Rolle spielen kann ist die Feature Selection. Hierbei versucht man die Features ausfindig zu machen, die den größten Einfluss auf die vorhergesagte Klasse der Targetvariable haben. Dies ist nötig, da eine große Anzahl von Features dazu führen kann, dass das Modell komplexer und schwerer zu interpretieren wird. (*Sarkar, Bali, Sharma (2018): Practical Machine Learning with Python, S.242. Apress.*) Feature Selection wird im Allgemeinen angewendet, um Overfitting zu vermeiden, die Accuracy zu erhöhen, und die Trainingsdauer zu minimieren (*https://machinelearningmastery.com/feature-selection-machine-learning-python/*) Zur Berechung der Feature Importance stehen einem verschiedene Methoden zur Verfügung. Im Allgemeinen werden zur tatsächlichen Auswahl geeigneter Features mehrere dieser Möglichkeiten durchgeführt und anschließend das Gesamtergebnis interpretiert. Ähnlich wie beim Scaling der Features bietet es sich an, die Feature Selection vorerst im Rahmen eines Splits durchzuführen."
   ]
  },
  {
   "cell_type": "code",
   "execution_count": 40,
   "id": "f67be2a9",
   "metadata": {},
   "outputs": [],
   "source": [
    "numerical_feature = df[['BMI', 'MentHlth', 'PhysHlth']]\n",
    "categorical_features = df.drop(['BMI', 'MentHlth', 'PhysHlth', 'Diabetes_Type'], axis = 'columns')\n",
    "\n",
    "num_feat_ss = scale_data(numerical_feature, StandardScaler())\n",
    "\n",
    "# cat_feat_ss = scale_data(categorical_features, StandardScaler())\n",
    "cat_feat_mm = scale_data(categorical_features, MinMaxScaler())"
   ]
  },
  {
   "cell_type": "code",
   "execution_count": 41,
   "id": "6a460be5",
   "metadata": {},
   "outputs": [],
   "source": [
    "# Funktion die SelectKBest-Funtion aus sklearn nutzt um die Wichtigkeit von n Features auszugeben\n",
    "\n",
    "def univariate_selection_skbest(features, classifier, num_of_feats):\n",
    "    fs = SelectKBest(score_func = classifier, k = num_of_feats)\n",
    "    fit = fs.fit(features, df['Diabetes_Type'])\n",
    "    selected_features_bool = list(fit.get_support())\n",
    "    for feature, selected_bool in zip(features, selected_features_bool):\n",
    "        print(str(feature) + ': ' + str(selected_bool))"
   ]
  },
  {
   "cell_type": "code",
   "execution_count": 42,
   "id": "f6ce0244",
   "metadata": {},
   "outputs": [],
   "source": [
    "def get_features(df):\n",
    "    return df.drop('Diabetes_Type', axis = 'columns')"
   ]
  },
  {
   "cell_type": "code",
   "execution_count": 43,
   "id": "c210cbe9",
   "metadata": {},
   "outputs": [],
   "source": [
    "x_values = get_features(df)\n",
    "\n",
    "x_values_mm = get_features(df_minmax)\n",
    "\n",
    "x_values_ss = get_features(df_ss)"
   ]
  },
  {
   "cell_type": "markdown",
   "id": "1237915f",
   "metadata": {},
   "source": [
    "#### ANOVA"
   ]
  },
  {
   "cell_type": "code",
   "execution_count": 44,
   "id": "0ffc92ac",
   "metadata": {},
   "outputs": [
    {
     "name": "stdout",
     "output_type": "stream",
     "text": [
      "BMI: True\n",
      "MentHlth: False\n",
      "PhysHlth: False\n"
     ]
    }
   ],
   "source": [
    "univariate_selection_skbest(num_feat_ss, f_classif, 1)"
   ]
  },
  {
   "cell_type": "code",
   "execution_count": 45,
   "id": "3e8893d1",
   "metadata": {},
   "outputs": [
    {
     "name": "stdout",
     "output_type": "stream",
     "text": [
      "HighBP: True\n",
      "HighChol: True\n",
      "CholCheck: False\n",
      "Smoker: False\n",
      "Stroke: False\n",
      "HeartDiseaseorAttack: True\n",
      "PhysActivity: False\n",
      "Fruits: False\n",
      "Veggies: False\n",
      "HvyAlcoholConsump: False\n",
      "AnyHealthcare: False\n",
      "NoDocbcCost: False\n",
      "GenHlth: True\n",
      "DiffWalk: True\n",
      "Sex_male: False\n",
      "Age: False\n",
      "Education: False\n",
      "Income: False\n"
     ]
    }
   ],
   "source": [
    "univariate_selection_skbest(cat_feat_mm, chi2, 5)"
   ]
  },
  {
   "cell_type": "code",
   "execution_count": 46,
   "id": "fb6d947f",
   "metadata": {
    "scrolled": false
   },
   "outputs": [
    {
     "name": "stdout",
     "output_type": "stream",
     "text": [
      "HighBP: True\n",
      "HighChol: True\n",
      "CholCheck: True\n",
      "Smoker: False\n",
      "Stroke: False\n",
      "HeartDiseaseorAttack: False\n",
      "PhysActivity: False\n",
      "Fruits: False\n",
      "Veggies: False\n",
      "HvyAlcoholConsump: False\n",
      "AnyHealthcare: True\n",
      "NoDocbcCost: False\n",
      "GenHlth: True\n",
      "DiffWalk: False\n",
      "Sex_male: False\n",
      "Age: False\n",
      "Education: False\n",
      "Income: False\n"
     ]
    }
   ],
   "source": [
    "univariate_selection_skbest(cat_feat_mm, mutual_info_classif, 5)"
   ]
  },
  {
   "cell_type": "markdown",
   "id": "183a6410",
   "metadata": {},
   "source": [
    "### Recursive Feature Elimination"
   ]
  },
  {
   "cell_type": "code",
   "execution_count": null,
   "id": "0ea247bb",
   "metadata": {},
   "outputs": [],
   "source": [
    "from sklearn.linear_model import LogisticRegression\n",
    "\n",
    "model = LogisticRegression(multi_class='multinomial')\n",
    "rfe = RFE(model, n_features_to_select=5)\n",
    "fit = rfe.fit(x_values_ss, df['Diabetes_Type'])\n",
    "\n",
    "print(\"Num Features: %d\" % fit.n_features_)\n",
    "print(\"Selected Features: %s\" % fit.support_)\n",
    "print(\"Feature Ranking: %s\" % fit.ranking_)"
   ]
  },
  {
   "cell_type": "markdown",
   "id": "a12f71f6",
   "metadata": {},
   "source": [
    "#### Darstellung der Ergebnisse"
   ]
  },
  {
   "cell_type": "code",
   "execution_count": null,
   "id": "662979d4",
   "metadata": {},
   "outputs": [],
   "source": [
    "sel_features_rfe = list(fit.support_)\n",
    "features = list(x_values.columns)\n",
    "i = 0\n",
    "\n",
    "for i in range(len(features)):\n",
    "    print(str(features[i] + ': ' + str(sel_features_rfe[i])))\n",
    "    i += 1"
   ]
  },
  {
   "cell_type": "markdown",
   "id": "b719698e",
   "metadata": {},
   "source": [
    "### Recursive Feature Elimination with Cross Validation"
   ]
  },
  {
   "cell_type": "code",
   "execution_count": null,
   "id": "4124d0f2",
   "metadata": {},
   "outputs": [],
   "source": [
    "def rec_feat_el_cv(estimator, x_values):\n",
    "    estimator = estimator\n",
    "    min_features_to_select = 1\n",
    "    rfecv = RFECV(estimator=estimator, cv=StratifiedKFold(5), min_features_to_select=min_features_to_select)\n",
    "    rfecv.fit(x_values_mm,df['Diabetes_Type'])\n",
    "    print(str(estimator))\n",
    "    print('Optimal number of features:', rfecv.n_features_)"
   ]
  },
  {
   "cell_type": "code",
   "execution_count": null,
   "id": "1a0aa882",
   "metadata": {},
   "outputs": [],
   "source": [
    "models = [LogisticRegression(), DecisionTreeClassifier(), RandomForestClassifier()]\n",
    "\n",
    "for model in models:\n",
    "    rec_feat_el_cv(estimator=model, x_values = x_values_ss)"
   ]
  },
  {
   "cell_type": "markdown",
   "id": "1f006427",
   "metadata": {},
   "source": [
    "### Feature Importance "
   ]
  },
  {
   "cell_type": "code",
   "execution_count": null,
   "id": "71545b71",
   "metadata": {
    "scrolled": true
   },
   "outputs": [],
   "source": [
    "from sklearn.ensemble import ExtraTreesClassifier\n",
    "\n",
    "model = ExtraTreesClassifier(n_estimators=10)\n",
    "model.fit(x_values_mm,y_values)\n",
    "\n",
    "sel_features_etc = list(model.feature_importances_)\n",
    "\n",
    "for i in range(len(features)):\n",
    "    print(str(features[i] + ': ' + str(sel_features_etc[i])))\n",
    "    i += 1"
   ]
  },
  {
   "cell_type": "code",
   "execution_count": null,
   "id": "684da870",
   "metadata": {},
   "outputs": [],
   "source": [
    "feat_importances = pd.Series(model.feature_importances_, index=list(df_features))\n",
    "feat_importances.nlargest(10).plot(kind='barh')\n",
    "plt.title(\"Top 10 important features in data\")\n",
    "plt.show()"
   ]
  },
  {
   "cell_type": "code",
   "execution_count": null,
   "id": "953d7154",
   "metadata": {},
   "outputs": [],
   "source": [
    "Wenn bei allen Splits gleiche Feature Selection und Scaling --> Split gut gewählt; kann auf ganzen Datensatz gemacht werden"
   ]
  },
  {
   "cell_type": "markdown",
   "id": "43fe3799",
   "metadata": {},
   "source": [
    "# 4. Modelling"
   ]
  },
  {
   "cell_type": "markdown",
   "id": "7f5f3136",
   "metadata": {},
   "source": [
    "## 4.1 Vorläufige Modellauswahl"
   ]
  },
  {
   "cell_type": "markdown",
   "id": "65bbc45c",
   "metadata": {},
   "source": [
    "# verschiedene Modelle mit Parametern initialisieren"
   ]
  },
  {
   "cell_type": "code",
   "execution_count": null,
   "id": "9a49d77f",
   "metadata": {},
   "outputs": [],
   "source": [
    "model_params = {\n",
    "    'logistic_regression': {\n",
    "        'model': LogisticRegression(multiclass = 'multinomial'),\n",
    "        'params': {\n",
    "            'penalty' = ['l2', None] \n",
    "            'solver' = ['newton-cg', 'sag', 'saga', 'lbfgs']\n",
    "        }\n",
    "    'random_forrest': RandomForrest()\n",
    "    }\n",
    "}"
   ]
  },
  {
   "cell_type": "markdown",
   "id": "9d4895a6",
   "metadata": {},
   "source": [
    "## Hyperparameter-Tuning"
   ]
  },
  {
   "cell_type": "code",
   "execution_count": null,
   "id": "190df14a",
   "metadata": {},
   "outputs": [],
   "source": [
    "scores = []\n",
    "\n",
    "for model_name, mp in model_params.items():\n",
    "    clf = GridSearchCV(mp['model'], mp['params'], cvStratifiedKFoldFoldtifiedKFold(5))\n",
    "    clf.fit(x_values_ss,df['Diabetes_Type'])\n",
    "    scores.append({\n",
    "        'model': model_name,\n",
    "        'best_score': clf.best_score_,\n",
    "        'best_params': clf.best_params_\n",
    "    })"
   ]
  },
  {
   "cell_type": "markdown",
   "id": "4d677b06",
   "metadata": {},
   "source": [
    "# 5. Evaluation"
   ]
  },
  {
   "cell_type": "markdown",
   "id": "29b908ea",
   "metadata": {},
   "source": [
    "### Classification Report"
   ]
  },
  {
   "cell_type": "code",
   "execution_count": null,
   "id": "d80f843f",
   "metadata": {},
   "outputs": [],
   "source": [
    "target_names = ['Healthy', 'Prediabetes', 'Diabetes']\n",
    "\n",
    "print(classification_report(y_test_tts, clf_dtc.predict(x_test_tts), target_names = target_names))"
   ]
  },
  {
   "cell_type": "markdown",
   "id": "be62661b",
   "metadata": {},
   "source": [
    "### f1 Score"
   ]
  },
  {
   "cell_type": "code",
   "execution_count": null,
   "id": "b3e0d220",
   "metadata": {},
   "outputs": [],
   "source": [
    "# SVC\n",
    "# print(f1_score(y_test_tts, clf_svm.predict(x_test_tts), average = None, labels = [0.0,1.0,2.0]))\n",
    "\n",
    "# Decision Tree Classifier\n",
    "# print(f1_score(y_test_tts, clf_dtc.predict(x_test_tts), average = None, labels = [0.0,1.0,2.0]))\n",
    "\n",
    "# Random Forrest Classifier\n",
    "# print(f1_score(y_test_tts, clf_rfc.predict(x_test_tts), average = None, labels = [0.0,1.0,2.0]))\n",
    "# after Feature Selection\n",
    "# print(f1_score(y_test_tts_sel, clf_rfc_sel.predict(x_test_tts_sel), average = None, labels = [0.0,1.0,2.0]))"
   ]
  },
  {
   "cell_type": "markdown",
   "id": "35fb4e63",
   "metadata": {},
   "source": [
    "# Quellen"
   ]
  },
  {
   "cell_type": "markdown",
   "id": "085b1e42",
   "metadata": {},
   "source": [
    "##### Quellen (doppelte Zeilen entfernen)\n",
    "*https://deepchecks.com/what-is-data-cleaning/*\n",
    "\n",
    "##### Quellen (Feature Scaling)\n",
    "*Sarkar, Bali, Sharma (2018): Practical Machine Learning with Python, S.239. Apress.*\n",
    "\n",
    "*https://scikit-learn.org/stable/modules/cross_validation.html*"
   ]
  }
 ],
 "metadata": {
  "kernelspec": {
   "display_name": "Python 3 (ipykernel)",
   "language": "python",
   "name": "python3"
  },
  "language_info": {
   "codemirror_mode": {
    "name": "ipython",
    "version": 3
   },
   "file_extension": ".py",
   "mimetype": "text/x-python",
   "name": "python",
   "nbconvert_exporter": "python",
   "pygments_lexer": "ipython3",
   "version": "3.9.7"
  },
  "varInspector": {
   "cols": {
    "lenName": 16,
    "lenType": 16,
    "lenVar": 40
   },
   "kernels_config": {
    "python": {
     "delete_cmd_postfix": "",
     "delete_cmd_prefix": "del ",
     "library": "var_list.py",
     "varRefreshCmd": "print(var_dic_list())"
    },
    "r": {
     "delete_cmd_postfix": ") ",
     "delete_cmd_prefix": "rm(",
     "library": "var_list.r",
     "varRefreshCmd": "cat(var_dic_list()) "
    }
   },
   "types_to_exclude": [
    "module",
    "function",
    "builtin_function_or_method",
    "instance",
    "_Feature"
   ],
   "window_display": false
  }
 },
 "nbformat": 4,
 "nbformat_minor": 5
}
